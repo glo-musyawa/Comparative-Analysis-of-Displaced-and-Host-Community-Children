{
  "cells": [
    {
      "cell_type": "code",
      "execution_count": 3,
      "metadata": {
        "id": "YlGz1YPaQJXs"
      },
      "outputs": [],
      "source": [
        "import pandas as pd\n",
        "import numpy as np\n",
        "import seaborn as sns\n",
        "import matplotlib.pyplot as plt\n",
        "import statsmodels\n",
        "from statsmodels.stats.weightstats import DescrStatsW"
      ]
    },
    {
      "cell_type": "code",
      "execution_count": 4,
      "metadata": {
        "colab": {
          "base_uri": "https://localhost:8080/",
          "height": 412
        },
        "id": "VnRXlwbyQhPi",
        "outputId": "a78957e8-9483-4365-ec77-1a3df5f11152"
      },
      "outputs": [
        {
          "output_type": "stream",
          "name": "stderr",
          "text": [
            "<ipython-input-4-7b72c0b068fe>:1: DtypeWarning: Columns (15,17,42,129) have mixed types. Specify dtype option on import or set low_memory=False.\n",
            "  df = pd.read_csv('/content/UNHCR_SSD_2023_FDS_data_roster.csv')\n"
          ]
        },
        {
          "output_type": "execute_result",
          "data": {
            "text/plain": [
              "  Intro_07_1       start         end admin0             admin1 admin2  \\\n",
              "0   Refugees  2023-04-29  2023-04-29    SSD  Central Equatoria   Juba   \n",
              "1   Refugees  2023-04-29  2023-04-29    SSD  Central Equatoria   Juba   \n",
              "2   Refugees  2023-04-29  2023-04-29    SSD  Central Equatoria   Juba   \n",
              "3   Refugees  2023-04-29  2023-04-29    SSD  Central Equatoria   Juba   \n",
              "4   Refugees  2023-04-29  2023-04-29    SSD  Central Equatoria   Juba   \n",
              "\n",
              "           admin3            Final_01  ID  rosterposition  ...  \\\n",
              "0  Not applicable  Complete Interview   1               1  ...   \n",
              "1  Not applicable  Complete Interview   1               2  ...   \n",
              "2  Not applicable  Complete Interview   1               3  ...   \n",
              "3  Not applicable  Complete Interview   1               4  ...   \n",
              "4  Not applicable  Complete Interview   1               5  ...   \n",
              "\n",
              "                           HH_Educ18 HH_Educ23 Dis_03 Dis_06 Dis_09 Dis_12  \\\n",
              "0                                NaN        no    NaN    NaN    NaN    NaN   \n",
              "1  Elementary second cycle - grade 7       NaN    NaN    NaN    NaN    NaN   \n",
              "2                                NaN       NaN    NaN    NaN    NaN    NaN   \n",
              "3                                NaN       NaN    NaN    NaN    NaN    NaN   \n",
              "4                                NaN       NaN    NaN    NaN    NaN    NaN   \n",
              "\n",
              "   Dis_15 Dis_18  wgh_samp_resc_pop  wgh_samp_resc_str  \n",
              "0     NaN    NaN           0.621428           0.909197  \n",
              "1     NaN    NaN           0.621428           0.909197  \n",
              "2     NaN    NaN           0.621428           0.909197  \n",
              "3     NaN    NaN           0.621428           0.909197  \n",
              "4     NaN    NaN           0.621428           0.909197  \n",
              "\n",
              "[5 rows x 144 columns]"
            ],
            "text/html": [
              "\n",
              "  <div id=\"df-f6a025ed-a27a-49dd-9854-f33fb1c2793d\" class=\"colab-df-container\">\n",
              "    <div>\n",
              "<style scoped>\n",
              "    .dataframe tbody tr th:only-of-type {\n",
              "        vertical-align: middle;\n",
              "    }\n",
              "\n",
              "    .dataframe tbody tr th {\n",
              "        vertical-align: top;\n",
              "    }\n",
              "\n",
              "    .dataframe thead th {\n",
              "        text-align: right;\n",
              "    }\n",
              "</style>\n",
              "<table border=\"1\" class=\"dataframe\">\n",
              "  <thead>\n",
              "    <tr style=\"text-align: right;\">\n",
              "      <th></th>\n",
              "      <th>Intro_07_1</th>\n",
              "      <th>start</th>\n",
              "      <th>end</th>\n",
              "      <th>admin0</th>\n",
              "      <th>admin1</th>\n",
              "      <th>admin2</th>\n",
              "      <th>admin3</th>\n",
              "      <th>Final_01</th>\n",
              "      <th>ID</th>\n",
              "      <th>rosterposition</th>\n",
              "      <th>...</th>\n",
              "      <th>HH_Educ18</th>\n",
              "      <th>HH_Educ23</th>\n",
              "      <th>Dis_03</th>\n",
              "      <th>Dis_06</th>\n",
              "      <th>Dis_09</th>\n",
              "      <th>Dis_12</th>\n",
              "      <th>Dis_15</th>\n",
              "      <th>Dis_18</th>\n",
              "      <th>wgh_samp_resc_pop</th>\n",
              "      <th>wgh_samp_resc_str</th>\n",
              "    </tr>\n",
              "  </thead>\n",
              "  <tbody>\n",
              "    <tr>\n",
              "      <th>0</th>\n",
              "      <td>Refugees</td>\n",
              "      <td>2023-04-29</td>\n",
              "      <td>2023-04-29</td>\n",
              "      <td>SSD</td>\n",
              "      <td>Central Equatoria</td>\n",
              "      <td>Juba</td>\n",
              "      <td>Not applicable</td>\n",
              "      <td>Complete Interview</td>\n",
              "      <td>1</td>\n",
              "      <td>1</td>\n",
              "      <td>...</td>\n",
              "      <td>NaN</td>\n",
              "      <td>no</td>\n",
              "      <td>NaN</td>\n",
              "      <td>NaN</td>\n",
              "      <td>NaN</td>\n",
              "      <td>NaN</td>\n",
              "      <td>NaN</td>\n",
              "      <td>NaN</td>\n",
              "      <td>0.621428</td>\n",
              "      <td>0.909197</td>\n",
              "    </tr>\n",
              "    <tr>\n",
              "      <th>1</th>\n",
              "      <td>Refugees</td>\n",
              "      <td>2023-04-29</td>\n",
              "      <td>2023-04-29</td>\n",
              "      <td>SSD</td>\n",
              "      <td>Central Equatoria</td>\n",
              "      <td>Juba</td>\n",
              "      <td>Not applicable</td>\n",
              "      <td>Complete Interview</td>\n",
              "      <td>1</td>\n",
              "      <td>2</td>\n",
              "      <td>...</td>\n",
              "      <td>Elementary second cycle - grade 7</td>\n",
              "      <td>NaN</td>\n",
              "      <td>NaN</td>\n",
              "      <td>NaN</td>\n",
              "      <td>NaN</td>\n",
              "      <td>NaN</td>\n",
              "      <td>NaN</td>\n",
              "      <td>NaN</td>\n",
              "      <td>0.621428</td>\n",
              "      <td>0.909197</td>\n",
              "    </tr>\n",
              "    <tr>\n",
              "      <th>2</th>\n",
              "      <td>Refugees</td>\n",
              "      <td>2023-04-29</td>\n",
              "      <td>2023-04-29</td>\n",
              "      <td>SSD</td>\n",
              "      <td>Central Equatoria</td>\n",
              "      <td>Juba</td>\n",
              "      <td>Not applicable</td>\n",
              "      <td>Complete Interview</td>\n",
              "      <td>1</td>\n",
              "      <td>3</td>\n",
              "      <td>...</td>\n",
              "      <td>NaN</td>\n",
              "      <td>NaN</td>\n",
              "      <td>NaN</td>\n",
              "      <td>NaN</td>\n",
              "      <td>NaN</td>\n",
              "      <td>NaN</td>\n",
              "      <td>NaN</td>\n",
              "      <td>NaN</td>\n",
              "      <td>0.621428</td>\n",
              "      <td>0.909197</td>\n",
              "    </tr>\n",
              "    <tr>\n",
              "      <th>3</th>\n",
              "      <td>Refugees</td>\n",
              "      <td>2023-04-29</td>\n",
              "      <td>2023-04-29</td>\n",
              "      <td>SSD</td>\n",
              "      <td>Central Equatoria</td>\n",
              "      <td>Juba</td>\n",
              "      <td>Not applicable</td>\n",
              "      <td>Complete Interview</td>\n",
              "      <td>1</td>\n",
              "      <td>4</td>\n",
              "      <td>...</td>\n",
              "      <td>NaN</td>\n",
              "      <td>NaN</td>\n",
              "      <td>NaN</td>\n",
              "      <td>NaN</td>\n",
              "      <td>NaN</td>\n",
              "      <td>NaN</td>\n",
              "      <td>NaN</td>\n",
              "      <td>NaN</td>\n",
              "      <td>0.621428</td>\n",
              "      <td>0.909197</td>\n",
              "    </tr>\n",
              "    <tr>\n",
              "      <th>4</th>\n",
              "      <td>Refugees</td>\n",
              "      <td>2023-04-29</td>\n",
              "      <td>2023-04-29</td>\n",
              "      <td>SSD</td>\n",
              "      <td>Central Equatoria</td>\n",
              "      <td>Juba</td>\n",
              "      <td>Not applicable</td>\n",
              "      <td>Complete Interview</td>\n",
              "      <td>1</td>\n",
              "      <td>5</td>\n",
              "      <td>...</td>\n",
              "      <td>NaN</td>\n",
              "      <td>NaN</td>\n",
              "      <td>NaN</td>\n",
              "      <td>NaN</td>\n",
              "      <td>NaN</td>\n",
              "      <td>NaN</td>\n",
              "      <td>NaN</td>\n",
              "      <td>NaN</td>\n",
              "      <td>0.621428</td>\n",
              "      <td>0.909197</td>\n",
              "    </tr>\n",
              "  </tbody>\n",
              "</table>\n",
              "<p>5 rows × 144 columns</p>\n",
              "</div>\n",
              "    <div class=\"colab-df-buttons\">\n",
              "\n",
              "  <div class=\"colab-df-container\">\n",
              "    <button class=\"colab-df-convert\" onclick=\"convertToInteractive('df-f6a025ed-a27a-49dd-9854-f33fb1c2793d')\"\n",
              "            title=\"Convert this dataframe to an interactive table.\"\n",
              "            style=\"display:none;\">\n",
              "\n",
              "  <svg xmlns=\"http://www.w3.org/2000/svg\" height=\"24px\" viewBox=\"0 -960 960 960\">\n",
              "    <path d=\"M120-120v-720h720v720H120Zm60-500h600v-160H180v160Zm220 220h160v-160H400v160Zm0 220h160v-160H400v160ZM180-400h160v-160H180v160Zm440 0h160v-160H620v160ZM180-180h160v-160H180v160Zm440 0h160v-160H620v160Z\"/>\n",
              "  </svg>\n",
              "    </button>\n",
              "\n",
              "  <style>\n",
              "    .colab-df-container {\n",
              "      display:flex;\n",
              "      gap: 12px;\n",
              "    }\n",
              "\n",
              "    .colab-df-convert {\n",
              "      background-color: #E8F0FE;\n",
              "      border: none;\n",
              "      border-radius: 50%;\n",
              "      cursor: pointer;\n",
              "      display: none;\n",
              "      fill: #1967D2;\n",
              "      height: 32px;\n",
              "      padding: 0 0 0 0;\n",
              "      width: 32px;\n",
              "    }\n",
              "\n",
              "    .colab-df-convert:hover {\n",
              "      background-color: #E2EBFA;\n",
              "      box-shadow: 0px 1px 2px rgba(60, 64, 67, 0.3), 0px 1px 3px 1px rgba(60, 64, 67, 0.15);\n",
              "      fill: #174EA6;\n",
              "    }\n",
              "\n",
              "    .colab-df-buttons div {\n",
              "      margin-bottom: 4px;\n",
              "    }\n",
              "\n",
              "    [theme=dark] .colab-df-convert {\n",
              "      background-color: #3B4455;\n",
              "      fill: #D2E3FC;\n",
              "    }\n",
              "\n",
              "    [theme=dark] .colab-df-convert:hover {\n",
              "      background-color: #434B5C;\n",
              "      box-shadow: 0px 1px 3px 1px rgba(0, 0, 0, 0.15);\n",
              "      filter: drop-shadow(0px 1px 2px rgba(0, 0, 0, 0.3));\n",
              "      fill: #FFFFFF;\n",
              "    }\n",
              "  </style>\n",
              "\n",
              "    <script>\n",
              "      const buttonEl =\n",
              "        document.querySelector('#df-f6a025ed-a27a-49dd-9854-f33fb1c2793d button.colab-df-convert');\n",
              "      buttonEl.style.display =\n",
              "        google.colab.kernel.accessAllowed ? 'block' : 'none';\n",
              "\n",
              "      async function convertToInteractive(key) {\n",
              "        const element = document.querySelector('#df-f6a025ed-a27a-49dd-9854-f33fb1c2793d');\n",
              "        const dataTable =\n",
              "          await google.colab.kernel.invokeFunction('convertToInteractive',\n",
              "                                                    [key], {});\n",
              "        if (!dataTable) return;\n",
              "\n",
              "        const docLinkHtml = 'Like what you see? Visit the ' +\n",
              "          '<a target=\"_blank\" href=https://colab.research.google.com/notebooks/data_table.ipynb>data table notebook</a>'\n",
              "          + ' to learn more about interactive tables.';\n",
              "        element.innerHTML = '';\n",
              "        dataTable['output_type'] = 'display_data';\n",
              "        await google.colab.output.renderOutput(dataTable, element);\n",
              "        const docLink = document.createElement('div');\n",
              "        docLink.innerHTML = docLinkHtml;\n",
              "        element.appendChild(docLink);\n",
              "      }\n",
              "    </script>\n",
              "  </div>\n",
              "\n",
              "\n",
              "    <div id=\"df-62e37025-0cb3-4b8e-a8a8-b9c7f47c2784\">\n",
              "      <button class=\"colab-df-quickchart\" onclick=\"quickchart('df-62e37025-0cb3-4b8e-a8a8-b9c7f47c2784')\"\n",
              "                title=\"Suggest charts\"\n",
              "                style=\"display:none;\">\n",
              "\n",
              "<svg xmlns=\"http://www.w3.org/2000/svg\" height=\"24px\"viewBox=\"0 0 24 24\"\n",
              "     width=\"24px\">\n",
              "    <g>\n",
              "        <path d=\"M19 3H5c-1.1 0-2 .9-2 2v14c0 1.1.9 2 2 2h14c1.1 0 2-.9 2-2V5c0-1.1-.9-2-2-2zM9 17H7v-7h2v7zm4 0h-2V7h2v10zm4 0h-2v-4h2v4z\"/>\n",
              "    </g>\n",
              "</svg>\n",
              "      </button>\n",
              "\n",
              "<style>\n",
              "  .colab-df-quickchart {\n",
              "      --bg-color: #E8F0FE;\n",
              "      --fill-color: #1967D2;\n",
              "      --hover-bg-color: #E2EBFA;\n",
              "      --hover-fill-color: #174EA6;\n",
              "      --disabled-fill-color: #AAA;\n",
              "      --disabled-bg-color: #DDD;\n",
              "  }\n",
              "\n",
              "  [theme=dark] .colab-df-quickchart {\n",
              "      --bg-color: #3B4455;\n",
              "      --fill-color: #D2E3FC;\n",
              "      --hover-bg-color: #434B5C;\n",
              "      --hover-fill-color: #FFFFFF;\n",
              "      --disabled-bg-color: #3B4455;\n",
              "      --disabled-fill-color: #666;\n",
              "  }\n",
              "\n",
              "  .colab-df-quickchart {\n",
              "    background-color: var(--bg-color);\n",
              "    border: none;\n",
              "    border-radius: 50%;\n",
              "    cursor: pointer;\n",
              "    display: none;\n",
              "    fill: var(--fill-color);\n",
              "    height: 32px;\n",
              "    padding: 0;\n",
              "    width: 32px;\n",
              "  }\n",
              "\n",
              "  .colab-df-quickchart:hover {\n",
              "    background-color: var(--hover-bg-color);\n",
              "    box-shadow: 0 1px 2px rgba(60, 64, 67, 0.3), 0 1px 3px 1px rgba(60, 64, 67, 0.15);\n",
              "    fill: var(--button-hover-fill-color);\n",
              "  }\n",
              "\n",
              "  .colab-df-quickchart-complete:disabled,\n",
              "  .colab-df-quickchart-complete:disabled:hover {\n",
              "    background-color: var(--disabled-bg-color);\n",
              "    fill: var(--disabled-fill-color);\n",
              "    box-shadow: none;\n",
              "  }\n",
              "\n",
              "  .colab-df-spinner {\n",
              "    border: 2px solid var(--fill-color);\n",
              "    border-color: transparent;\n",
              "    border-bottom-color: var(--fill-color);\n",
              "    animation:\n",
              "      spin 1s steps(1) infinite;\n",
              "  }\n",
              "\n",
              "  @keyframes spin {\n",
              "    0% {\n",
              "      border-color: transparent;\n",
              "      border-bottom-color: var(--fill-color);\n",
              "      border-left-color: var(--fill-color);\n",
              "    }\n",
              "    20% {\n",
              "      border-color: transparent;\n",
              "      border-left-color: var(--fill-color);\n",
              "      border-top-color: var(--fill-color);\n",
              "    }\n",
              "    30% {\n",
              "      border-color: transparent;\n",
              "      border-left-color: var(--fill-color);\n",
              "      border-top-color: var(--fill-color);\n",
              "      border-right-color: var(--fill-color);\n",
              "    }\n",
              "    40% {\n",
              "      border-color: transparent;\n",
              "      border-right-color: var(--fill-color);\n",
              "      border-top-color: var(--fill-color);\n",
              "    }\n",
              "    60% {\n",
              "      border-color: transparent;\n",
              "      border-right-color: var(--fill-color);\n",
              "    }\n",
              "    80% {\n",
              "      border-color: transparent;\n",
              "      border-right-color: var(--fill-color);\n",
              "      border-bottom-color: var(--fill-color);\n",
              "    }\n",
              "    90% {\n",
              "      border-color: transparent;\n",
              "      border-bottom-color: var(--fill-color);\n",
              "    }\n",
              "  }\n",
              "</style>\n",
              "\n",
              "      <script>\n",
              "        async function quickchart(key) {\n",
              "          const quickchartButtonEl =\n",
              "            document.querySelector('#' + key + ' button');\n",
              "          quickchartButtonEl.disabled = true;  // To prevent multiple clicks.\n",
              "          quickchartButtonEl.classList.add('colab-df-spinner');\n",
              "          try {\n",
              "            const charts = await google.colab.kernel.invokeFunction(\n",
              "                'suggestCharts', [key], {});\n",
              "          } catch (error) {\n",
              "            console.error('Error during call to suggestCharts:', error);\n",
              "          }\n",
              "          quickchartButtonEl.classList.remove('colab-df-spinner');\n",
              "          quickchartButtonEl.classList.add('colab-df-quickchart-complete');\n",
              "        }\n",
              "        (() => {\n",
              "          let quickchartButtonEl =\n",
              "            document.querySelector('#df-62e37025-0cb3-4b8e-a8a8-b9c7f47c2784 button');\n",
              "          quickchartButtonEl.style.display =\n",
              "            google.colab.kernel.accessAllowed ? 'block' : 'none';\n",
              "        })();\n",
              "      </script>\n",
              "    </div>\n",
              "\n",
              "    </div>\n",
              "  </div>\n"
            ],
            "application/vnd.google.colaboratory.intrinsic+json": {
              "type": "dataframe",
              "variable_name": "df"
            }
          },
          "metadata": {},
          "execution_count": 4
        }
      ],
      "source": [
        "df = pd.read_csv('/content/UNHCR_SSD_2023_FDS_data_roster.csv')\n",
        "df.head()"
      ]
    },
    {
      "cell_type": "code",
      "execution_count": 5,
      "metadata": {
        "colab": {
          "base_uri": "https://localhost:8080/",
          "height": 99
        },
        "id": "_JafXRd2pxE0",
        "outputId": "63651d99-d263-4244-b809-4c740264d8ba"
      },
      "outputs": [
        {
          "output_type": "execute_result",
          "data": {
            "text/plain": [
              "Empty DataFrame\n",
              "Columns: [Intro_07_1, start, end, admin0, admin1, admin2, admin3, Final_01, ID, rosterposition, HH_03, HH_02, ageYears, Intro_camp_label, HH_00, HH_00a_year, HH_00a_month, HH_00b_year, HH_00b_month, HH_11a, HH_11b, HH_13, ID_00, ID_01a, ID_01b, ID_02, ID_03, ID_04, ID_05, ID_06, ID_06b, ID_07, ID_08, ID_09, ID_10, ID_11, ID_VAR, HH_06, HH_06_specify, HH_07a, HH_07b, HH_08, HH_09, HH_10, HH_10hhmemberother, HH_10name1, HH_10name2, HH_10name3, HH_10name4, HH_10name5, HH_10name6, HH_10name7, HH_10name8, HH_10name9, HH_10name10, HH_10name11, HH_10name12, HH_10name13, HH_10name14, HH_10name15, HH_10name16, HH_10name17, HH_10name18, HH_10name19, HH_10name20, HH_10name21, HH_10name22, HH_10name23, HH_10name24, HH_10name25, HH_10name26, HH_10name27, HH_10name28, HH_10name29, HH_10name30, HH_16, HH_17, HH_18, HH_19, HH_21, HH_22, HH_23, HH_25, HH_26, HH_27, HH_28, HH_29, HH_Educ00, HH_Educ01, HH_Educ02a, HH_Educ02b, HH_Educ02c, HH_Educ03, HH_Educ04a, HH_Educ04b, HH_Educ05, HH_Educ05hhmemberother, HH_Educ05name1, HH_Educ05name2, HH_Educ05name3, ...]\n",
              "Index: []\n",
              "\n",
              "[0 rows x 144 columns]"
            ],
            "text/html": [
              "\n",
              "  <div id=\"df-84e12438-03b0-4e7c-9cda-8d80bd32ecef\" class=\"colab-df-container\">\n",
              "    <div>\n",
              "<style scoped>\n",
              "    .dataframe tbody tr th:only-of-type {\n",
              "        vertical-align: middle;\n",
              "    }\n",
              "\n",
              "    .dataframe tbody tr th {\n",
              "        vertical-align: top;\n",
              "    }\n",
              "\n",
              "    .dataframe thead th {\n",
              "        text-align: right;\n",
              "    }\n",
              "</style>\n",
              "<table border=\"1\" class=\"dataframe\">\n",
              "  <thead>\n",
              "    <tr style=\"text-align: right;\">\n",
              "      <th></th>\n",
              "      <th>Intro_07_1</th>\n",
              "      <th>start</th>\n",
              "      <th>end</th>\n",
              "      <th>admin0</th>\n",
              "      <th>admin1</th>\n",
              "      <th>admin2</th>\n",
              "      <th>admin3</th>\n",
              "      <th>Final_01</th>\n",
              "      <th>ID</th>\n",
              "      <th>rosterposition</th>\n",
              "      <th>...</th>\n",
              "      <th>HH_Educ18</th>\n",
              "      <th>HH_Educ23</th>\n",
              "      <th>Dis_03</th>\n",
              "      <th>Dis_06</th>\n",
              "      <th>Dis_09</th>\n",
              "      <th>Dis_12</th>\n",
              "      <th>Dis_15</th>\n",
              "      <th>Dis_18</th>\n",
              "      <th>wgh_samp_resc_pop</th>\n",
              "      <th>wgh_samp_resc_str</th>\n",
              "    </tr>\n",
              "  </thead>\n",
              "  <tbody>\n",
              "  </tbody>\n",
              "</table>\n",
              "<p>0 rows × 144 columns</p>\n",
              "</div>\n",
              "    <div class=\"colab-df-buttons\">\n",
              "\n",
              "  <div class=\"colab-df-container\">\n",
              "    <button class=\"colab-df-convert\" onclick=\"convertToInteractive('df-84e12438-03b0-4e7c-9cda-8d80bd32ecef')\"\n",
              "            title=\"Convert this dataframe to an interactive table.\"\n",
              "            style=\"display:none;\">\n",
              "\n",
              "  <svg xmlns=\"http://www.w3.org/2000/svg\" height=\"24px\" viewBox=\"0 -960 960 960\">\n",
              "    <path d=\"M120-120v-720h720v720H120Zm60-500h600v-160H180v160Zm220 220h160v-160H400v160Zm0 220h160v-160H400v160ZM180-400h160v-160H180v160Zm440 0h160v-160H620v160ZM180-180h160v-160H180v160Zm440 0h160v-160H620v160Z\"/>\n",
              "  </svg>\n",
              "    </button>\n",
              "\n",
              "  <style>\n",
              "    .colab-df-container {\n",
              "      display:flex;\n",
              "      gap: 12px;\n",
              "    }\n",
              "\n",
              "    .colab-df-convert {\n",
              "      background-color: #E8F0FE;\n",
              "      border: none;\n",
              "      border-radius: 50%;\n",
              "      cursor: pointer;\n",
              "      display: none;\n",
              "      fill: #1967D2;\n",
              "      height: 32px;\n",
              "      padding: 0 0 0 0;\n",
              "      width: 32px;\n",
              "    }\n",
              "\n",
              "    .colab-df-convert:hover {\n",
              "      background-color: #E2EBFA;\n",
              "      box-shadow: 0px 1px 2px rgba(60, 64, 67, 0.3), 0px 1px 3px 1px rgba(60, 64, 67, 0.15);\n",
              "      fill: #174EA6;\n",
              "    }\n",
              "\n",
              "    .colab-df-buttons div {\n",
              "      margin-bottom: 4px;\n",
              "    }\n",
              "\n",
              "    [theme=dark] .colab-df-convert {\n",
              "      background-color: #3B4455;\n",
              "      fill: #D2E3FC;\n",
              "    }\n",
              "\n",
              "    [theme=dark] .colab-df-convert:hover {\n",
              "      background-color: #434B5C;\n",
              "      box-shadow: 0px 1px 3px 1px rgba(0, 0, 0, 0.15);\n",
              "      filter: drop-shadow(0px 1px 2px rgba(0, 0, 0, 0.3));\n",
              "      fill: #FFFFFF;\n",
              "    }\n",
              "  </style>\n",
              "\n",
              "    <script>\n",
              "      const buttonEl =\n",
              "        document.querySelector('#df-84e12438-03b0-4e7c-9cda-8d80bd32ecef button.colab-df-convert');\n",
              "      buttonEl.style.display =\n",
              "        google.colab.kernel.accessAllowed ? 'block' : 'none';\n",
              "\n",
              "      async function convertToInteractive(key) {\n",
              "        const element = document.querySelector('#df-84e12438-03b0-4e7c-9cda-8d80bd32ecef');\n",
              "        const dataTable =\n",
              "          await google.colab.kernel.invokeFunction('convertToInteractive',\n",
              "                                                    [key], {});\n",
              "        if (!dataTable) return;\n",
              "\n",
              "        const docLinkHtml = 'Like what you see? Visit the ' +\n",
              "          '<a target=\"_blank\" href=https://colab.research.google.com/notebooks/data_table.ipynb>data table notebook</a>'\n",
              "          + ' to learn more about interactive tables.';\n",
              "        element.innerHTML = '';\n",
              "        dataTable['output_type'] = 'display_data';\n",
              "        await google.colab.output.renderOutput(dataTable, element);\n",
              "        const docLink = document.createElement('div');\n",
              "        docLink.innerHTML = docLinkHtml;\n",
              "        element.appendChild(docLink);\n",
              "      }\n",
              "    </script>\n",
              "  </div>\n",
              "\n",
              "\n",
              "    </div>\n",
              "  </div>\n"
            ],
            "application/vnd.google.colaboratory.intrinsic+json": {
              "type": "dataframe"
            }
          },
          "metadata": {},
          "execution_count": 5
        }
      ],
      "source": [
        "#Check if there are rows with null values at weights column or zero\n",
        "\n",
        "df[df['wgh_samp_resc_str'].isna() | (df['wgh_samp_resc_str'] == 0)]"
      ]
    },
    {
      "cell_type": "code",
      "execution_count": 6,
      "metadata": {
        "colab": {
          "base_uri": "https://localhost:8080/"
        },
        "id": "IWbhvpUsRPkZ",
        "outputId": "11fdf384-d8e9-4ffa-b16e-7499bf435922"
      },
      "outputs": [
        {
          "output_type": "stream",
          "name": "stdout",
          "text": [
            "<class 'pandas.core.frame.DataFrame'>\n",
            "RangeIndex: 22092 entries, 0 to 22091\n",
            "Columns: 144 entries, Intro_07_1 to wgh_samp_resc_str\n",
            "dtypes: float64(74), int64(2), object(68)\n",
            "memory usage: 24.3+ MB\n"
          ]
        }
      ],
      "source": [
        "df.info()"
      ]
    },
    {
      "cell_type": "code",
      "execution_count": 7,
      "metadata": {
        "colab": {
          "base_uri": "https://localhost:8080/"
        },
        "id": "VKfJRyLuRWHL",
        "outputId": "d042d653-610f-458d-bdfa-0329c15098e7"
      },
      "outputs": [
        {
          "output_type": "execute_result",
          "data": {
            "text/plain": [
              "array(['30', '43', '18', '15', '11', '09', '03', '01', '12', '10', '02',\n",
              "       nan, '59', '50', '21', '16', '13', '08', '05', '00', '33', '45',\n",
              "       '14', '07', '60 or more', '42', '38', '06', '20', '36', '24', '35',\n",
              "       '28', '26', '53', '44', '48', '27', '04', '22', '19', '17', '34',\n",
              "       '39', '25', '55', '23', '46', '32', '29', '41', '40', '31', '56',\n",
              "       '51', '52', '49', '37', '47', '57', '54', '58'], dtype=object)"
            ]
          },
          "metadata": {},
          "execution_count": 7
        }
      ],
      "source": [
        "df['ageYears'].unique()"
      ]
    },
    {
      "cell_type": "code",
      "execution_count": 8,
      "metadata": {
        "id": "xyt6xg34TK4E"
      },
      "outputs": [],
      "source": [
        "# I will filter out the columns to remain with ones having the desired information\n",
        "desired_columns =[\n",
        "    \"Intro_07_1\",\n",
        "    \"admin0\",\n",
        "    \"admin1\",\n",
        "    \"ID\",\n",
        "    \"rosterposition\",\n",
        "    \"HH_03\",\n",
        "    \"HH_02\",\n",
        "    \"ageYears\",\n",
        "    \"HH_00\",\n",
        "    \"HH_00a_year\",\n",
        "    \"HH_00a_month\",\n",
        "    \"HH_00b_year\",\n",
        "    \"HH_00b_month\",\n",
        "    \"HH_11a\",\n",
        "    \"HH_11b\",\n",
        "    \"HH_13\",\n",
        "    \"ID_00\",\n",
        "    \"ID_01a\",\n",
        "    \"ID_01b\",\n",
        "    \"ID_02\",\n",
        "    \"ID_03\",\n",
        "    \"ID_04\",\n",
        "    \"ID_05\",\n",
        "    \"ID_06\",\n",
        "    \"ID_06b\",\n",
        "    \"ID_07\",\n",
        "    \"ID_08\",\n",
        "    \"ID_09\",\n",
        "    \"ID_10\",\n",
        "    \"ID_11\",\n",
        "    \"ID_VAR\",\n",
        "    \"HH_06\",\n",
        "    \"HH_06_specify\",\n",
        "    \"HH_07a\",\n",
        "    \"HH_07b\",\n",
        "    \"HH_08\",\n",
        "    \"HH_09\",\n",
        "    \"HH_16\",\n",
        "    \"HH_18\",\n",
        "    \"HH_19\",\n",
        "    \"HH_21\",\n",
        "    \"HH_22\",\n",
        "    \"HH_23\",\n",
        "    \"HH_25\",\n",
        "    \"HH_26\",\n",
        "    \"HH_27\",\n",
        "    \"HH_28\",\n",
        "    \"HH_29\",\n",
        "    \"HH_Educ00\",\n",
        "    \"HH_Educ01\",\n",
        "    \"HH_Educ02a\",\n",
        "    \"HH_Educ02b\",\n",
        "    \"HH_Educ02c\",\n",
        "    \"HH_Educ03\",\n",
        "    \"HH_Educ04a\",\n",
        "    \"HH_Educ04b\",\n",
        "    \"HH_Educ05\",\n",
        "    \"HH_Educ06\",\n",
        "    \"HH_Educ07\",\n",
        "    \"HH_Educ10\",\n",
        "    \"HH_Educ15a\",\n",
        "    \"HH_Educ15b\",\n",
        "    \"HH_Educ16\",\n",
        "    \"HH_Educ17\",\n",
        "    \"HH_Educ18\",\n",
        "    \"HH_Educ23\",\n",
        "    \"Dis_03\",\n",
        "    \"Dis_06\",\n",
        "    \"Dis_09\",\n",
        "    \"Dis_12\",\n",
        "    \"Dis_15\",\n",
        "    \"Dis_18\",\n",
        "    \"wgh_samp_resc_pop\",\n",
        "    \"wgh_samp_resc_str\"\n",
        "]\n"
      ]
    },
    {
      "cell_type": "code",
      "execution_count": 9,
      "metadata": {
        "id": "MVyFmbaJc8ep"
      },
      "outputs": [],
      "source": [
        "#cleaning age column converting age column to integer and doing away with null rows in this column\n",
        "#first,deal with the 60 or more rows\n",
        "df = df.drop(df[df['ageYears'] == '60 or more'].index)\n",
        "df = df.dropna(subset=['ageYears'])\n",
        "df['ageYears'] = df['ageYears'].astype(int)"
      ]
    },
    {
      "cell_type": "code",
      "execution_count": 10,
      "metadata": {
        "colab": {
          "base_uri": "https://localhost:8080/"
        },
        "id": "kKq5AVV7Z-BE",
        "outputId": "da8c4a17-ab67-4e14-c974-79f44b7cfd9b"
      },
      "outputs": [
        {
          "output_type": "stream",
          "name": "stdout",
          "text": [
            "<class 'pandas.core.frame.DataFrame'>\n",
            "Index: 12479 entries, 3 to 22091\n",
            "Data columns (total 74 columns):\n",
            " #   Column             Non-Null Count  Dtype  \n",
            "---  ------             --------------  -----  \n",
            " 0   Intro_07_1         12479 non-null  object \n",
            " 1   admin0             12479 non-null  object \n",
            " 2   admin1             11962 non-null  object \n",
            " 3   ID                 12479 non-null  int64  \n",
            " 4   rosterposition     12479 non-null  int64  \n",
            " 5   HH_03              12463 non-null  object \n",
            " 6   HH_02              12474 non-null  object \n",
            " 7   ageYears           12479 non-null  int64  \n",
            " 8   HH_00              12478 non-null  object \n",
            " 9   HH_00a_year        521 non-null    object \n",
            " 10  HH_00a_month       525 non-null    float64\n",
            " 11  HH_00b_year        1 non-null      object \n",
            " 12  HH_00b_month       0 non-null      float64\n",
            " 13  HH_11a             8046 non-null   float64\n",
            " 14  HH_11b             32 non-null     object \n",
            " 15  HH_13              12401 non-null  object \n",
            " 16  ID_00              1775 non-null   object \n",
            " 17  ID_01a             578 non-null    object \n",
            " 18  ID_01b             1044 non-null   object \n",
            " 19  ID_02              953 non-null    object \n",
            " 20  ID_03              908 non-null    object \n",
            " 21  ID_04              22 non-null     object \n",
            " 22  ID_05              758 non-null    object \n",
            " 23  ID_06              42 non-null     object \n",
            " 24  ID_06b             639 non-null    object \n",
            " 25  ID_07              759 non-null    object \n",
            " 26  ID_08              350 non-null    object \n",
            " 27  ID_09              1196 non-null   object \n",
            " 28  ID_10              930 non-null    object \n",
            " 29  ID_11              587 non-null    object \n",
            " 30  ID_VAR             12383 non-null  float64\n",
            " 31  HH_06              12379 non-null  object \n",
            " 32  HH_06_specify      3166 non-null   object \n",
            " 33  HH_07a             3664 non-null   object \n",
            " 34  HH_07b             1028 non-null   object \n",
            " 35  HH_08              5005 non-null   object \n",
            " 36  HH_09              103 non-null    object \n",
            " 37  HH_16              50 non-null     object \n",
            " 38  HH_18              8418 non-null   object \n",
            " 39  HH_19              7173 non-null   object \n",
            " 40  HH_21              12374 non-null  object \n",
            " 41  HH_22              6782 non-null   object \n",
            " 42  HH_23              0 non-null      float64\n",
            " 43  HH_25              12375 non-null  object \n",
            " 44  HH_26              0 non-null      float64\n",
            " 45  HH_27              872 non-null    object \n",
            " 46  HH_28              40 non-null     float64\n",
            " 47  HH_29              40 non-null     object \n",
            " 48  HH_Educ00          5197 non-null   object \n",
            " 49  HH_Educ01          1787 non-null   float64\n",
            " 50  HH_Educ02a         7766 non-null   object \n",
            " 51  HH_Educ02b         5316 non-null   object \n",
            " 52  HH_Educ02c         5316 non-null   object \n",
            " 53  HH_Educ03          5316 non-null   float64\n",
            " 54  HH_Educ04a         5316 non-null   object \n",
            " 55  HH_Educ04b         4297 non-null   object \n",
            " 56  HH_Educ05          7757 non-null   object \n",
            " 57  HH_Educ06          2439 non-null   object \n",
            " 58  HH_Educ07          2447 non-null   float64\n",
            " 59  HH_Educ10          5887 non-null   object \n",
            " 60  HH_Educ15a         5891 non-null   object \n",
            " 61  HH_Educ15b         850 non-null    object \n",
            " 62  HH_Educ16          849 non-null    object \n",
            " 63  HH_Educ17          253 non-null    object \n",
            " 64  HH_Educ18          575 non-null    object \n",
            " 65  HH_Educ23          1871 non-null   object \n",
            " 66  Dis_03             143 non-null    object \n",
            " 67  Dis_06             146 non-null    object \n",
            " 68  Dis_09             81 non-null     object \n",
            " 69  Dis_12             55 non-null     object \n",
            " 70  Dis_15             34 non-null     object \n",
            " 71  Dis_18             52 non-null     object \n",
            " 72  wgh_samp_resc_pop  12479 non-null  float64\n",
            " 73  wgh_samp_resc_str  12479 non-null  float64\n",
            "dtypes: float64(12), int64(3), object(59)\n",
            "memory usage: 7.1+ MB\n"
          ]
        }
      ],
      "source": [
        "# I will filter upto the age 17years since thats the standard child age range according to UNICEF\n",
        "# https://www.unicef.org/child-rights-convention/convention-text-childrens-version#:~:text=A%20child%20is%20any%20person%20under%20the%20age%20of%2018.\n",
        "#\"A child is any person under the age of 18.\"\n",
        "\n",
        "df = df[desired_columns]\n",
        "df = df[df['ageYears'] < 18]\n",
        "df.info()"
      ]
    },
    {
      "cell_type": "code",
      "execution_count": 11,
      "metadata": {
        "colab": {
          "base_uri": "https://localhost:8080/",
          "height": 99
        },
        "id": "JYtX6QMkmn0M",
        "outputId": "2457ceb9-aa22-40d0-8cd1-005f969c4349"
      },
      "outputs": [
        {
          "output_type": "execute_result",
          "data": {
            "text/plain": [
              "Empty DataFrame\n",
              "Columns: [Intro_07_1, admin0, admin1, ID, rosterposition, HH_03, HH_02, ageYears, HH_00, HH_00a_year, HH_00a_month, HH_00b_year, HH_00b_month, HH_11a, HH_11b, HH_13, ID_00, ID_01a, ID_01b, ID_02, ID_03, ID_04, ID_05, ID_06, ID_06b, ID_07, ID_08, ID_09, ID_10, ID_11, ID_VAR, HH_06, HH_06_specify, HH_07a, HH_07b, HH_08, HH_09, HH_16, HH_18, HH_19, HH_21, HH_22, HH_23, HH_25, HH_26, HH_27, HH_28, HH_29, HH_Educ00, HH_Educ01, HH_Educ02a, HH_Educ02b, HH_Educ02c, HH_Educ03, HH_Educ04a, HH_Educ04b, HH_Educ05, HH_Educ06, HH_Educ07, HH_Educ10, HH_Educ15a, HH_Educ15b, HH_Educ16, HH_Educ17, HH_Educ18, HH_Educ23, Dis_03, Dis_06, Dis_09, Dis_12, Dis_15, Dis_18, wgh_samp_resc_pop, wgh_samp_resc_str]\n",
              "Index: []\n",
              "\n",
              "[0 rows x 74 columns]"
            ],
            "text/html": [
              "\n",
              "  <div id=\"df-71fb29f3-cdb7-405a-8d9b-422b58db11d8\" class=\"colab-df-container\">\n",
              "    <div>\n",
              "<style scoped>\n",
              "    .dataframe tbody tr th:only-of-type {\n",
              "        vertical-align: middle;\n",
              "    }\n",
              "\n",
              "    .dataframe tbody tr th {\n",
              "        vertical-align: top;\n",
              "    }\n",
              "\n",
              "    .dataframe thead th {\n",
              "        text-align: right;\n",
              "    }\n",
              "</style>\n",
              "<table border=\"1\" class=\"dataframe\">\n",
              "  <thead>\n",
              "    <tr style=\"text-align: right;\">\n",
              "      <th></th>\n",
              "      <th>Intro_07_1</th>\n",
              "      <th>admin0</th>\n",
              "      <th>admin1</th>\n",
              "      <th>ID</th>\n",
              "      <th>rosterposition</th>\n",
              "      <th>HH_03</th>\n",
              "      <th>HH_02</th>\n",
              "      <th>ageYears</th>\n",
              "      <th>HH_00</th>\n",
              "      <th>HH_00a_year</th>\n",
              "      <th>...</th>\n",
              "      <th>HH_Educ18</th>\n",
              "      <th>HH_Educ23</th>\n",
              "      <th>Dis_03</th>\n",
              "      <th>Dis_06</th>\n",
              "      <th>Dis_09</th>\n",
              "      <th>Dis_12</th>\n",
              "      <th>Dis_15</th>\n",
              "      <th>Dis_18</th>\n",
              "      <th>wgh_samp_resc_pop</th>\n",
              "      <th>wgh_samp_resc_str</th>\n",
              "    </tr>\n",
              "  </thead>\n",
              "  <tbody>\n",
              "  </tbody>\n",
              "</table>\n",
              "<p>0 rows × 74 columns</p>\n",
              "</div>\n",
              "    <div class=\"colab-df-buttons\">\n",
              "\n",
              "  <div class=\"colab-df-container\">\n",
              "    <button class=\"colab-df-convert\" onclick=\"convertToInteractive('df-71fb29f3-cdb7-405a-8d9b-422b58db11d8')\"\n",
              "            title=\"Convert this dataframe to an interactive table.\"\n",
              "            style=\"display:none;\">\n",
              "\n",
              "  <svg xmlns=\"http://www.w3.org/2000/svg\" height=\"24px\" viewBox=\"0 -960 960 960\">\n",
              "    <path d=\"M120-120v-720h720v720H120Zm60-500h600v-160H180v160Zm220 220h160v-160H400v160Zm0 220h160v-160H400v160ZM180-400h160v-160H180v160Zm440 0h160v-160H620v160ZM180-180h160v-160H180v160Zm440 0h160v-160H620v160Z\"/>\n",
              "  </svg>\n",
              "    </button>\n",
              "\n",
              "  <style>\n",
              "    .colab-df-container {\n",
              "      display:flex;\n",
              "      gap: 12px;\n",
              "    }\n",
              "\n",
              "    .colab-df-convert {\n",
              "      background-color: #E8F0FE;\n",
              "      border: none;\n",
              "      border-radius: 50%;\n",
              "      cursor: pointer;\n",
              "      display: none;\n",
              "      fill: #1967D2;\n",
              "      height: 32px;\n",
              "      padding: 0 0 0 0;\n",
              "      width: 32px;\n",
              "    }\n",
              "\n",
              "    .colab-df-convert:hover {\n",
              "      background-color: #E2EBFA;\n",
              "      box-shadow: 0px 1px 2px rgba(60, 64, 67, 0.3), 0px 1px 3px 1px rgba(60, 64, 67, 0.15);\n",
              "      fill: #174EA6;\n",
              "    }\n",
              "\n",
              "    .colab-df-buttons div {\n",
              "      margin-bottom: 4px;\n",
              "    }\n",
              "\n",
              "    [theme=dark] .colab-df-convert {\n",
              "      background-color: #3B4455;\n",
              "      fill: #D2E3FC;\n",
              "    }\n",
              "\n",
              "    [theme=dark] .colab-df-convert:hover {\n",
              "      background-color: #434B5C;\n",
              "      box-shadow: 0px 1px 3px 1px rgba(0, 0, 0, 0.15);\n",
              "      filter: drop-shadow(0px 1px 2px rgba(0, 0, 0, 0.3));\n",
              "      fill: #FFFFFF;\n",
              "    }\n",
              "  </style>\n",
              "\n",
              "    <script>\n",
              "      const buttonEl =\n",
              "        document.querySelector('#df-71fb29f3-cdb7-405a-8d9b-422b58db11d8 button.colab-df-convert');\n",
              "      buttonEl.style.display =\n",
              "        google.colab.kernel.accessAllowed ? 'block' : 'none';\n",
              "\n",
              "      async function convertToInteractive(key) {\n",
              "        const element = document.querySelector('#df-71fb29f3-cdb7-405a-8d9b-422b58db11d8');\n",
              "        const dataTable =\n",
              "          await google.colab.kernel.invokeFunction('convertToInteractive',\n",
              "                                                    [key], {});\n",
              "        if (!dataTable) return;\n",
              "\n",
              "        const docLinkHtml = 'Like what you see? Visit the ' +\n",
              "          '<a target=\"_blank\" href=https://colab.research.google.com/notebooks/data_table.ipynb>data table notebook</a>'\n",
              "          + ' to learn more about interactive tables.';\n",
              "        element.innerHTML = '';\n",
              "        dataTable['output_type'] = 'display_data';\n",
              "        await google.colab.output.renderOutput(dataTable, element);\n",
              "        const docLink = document.createElement('div');\n",
              "        docLink.innerHTML = docLinkHtml;\n",
              "        element.appendChild(docLink);\n",
              "      }\n",
              "    </script>\n",
              "  </div>\n",
              "\n",
              "\n",
              "    </div>\n",
              "  </div>\n"
            ],
            "application/vnd.google.colaboratory.intrinsic+json": {
              "type": "dataframe"
            }
          },
          "metadata": {},
          "execution_count": 11
        }
      ],
      "source": [
        "#I have also checked for inconsistencies in this questions\n",
        "# such as male reporting giving birth and found the data to be clean\n",
        "df[(df['HH_02'] == 'Male') & (df['HH_27'] == 'yes')]"
      ]
    },
    {
      "cell_type": "code",
      "execution_count": 12,
      "metadata": {
        "colab": {
          "base_uri": "https://localhost:8080/"
        },
        "id": "NXBv9UisCTS_",
        "outputId": "ec35cd1d-4dbb-48c5-8408-a2197456283a"
      },
      "outputs": [
        {
          "output_type": "execute_result",
          "data": {
            "text/plain": [
              "12479"
            ]
          },
          "metadata": {},
          "execution_count": 12
        }
      ],
      "source": [
        "#This actually nice for the analysis, about half of the respondents are children\n",
        "len(df)"
      ]
    },
    {
      "cell_type": "code",
      "execution_count": 13,
      "metadata": {
        "id": "y-usMIw0eEJ5"
      },
      "outputs": [],
      "source": [
        "# First we'll get a look at children who have given birth in the past two years.\n",
        "# As this is question is specific to females I will create a dataset that has only female children\n",
        "#respondents\n",
        "df_f_children = df[df['HH_02'] == 'Female']"
      ]
    },
    {
      "cell_type": "code",
      "execution_count": 14,
      "metadata": {
        "id": "qAp_86D8rwOm"
      },
      "outputs": [],
      "source": [
        "df_f_children['HH_27'].unique()\n",
        "pregnancy_answer = ['yes', 'no',\"don't know\", 'refuse to answer']"
      ]
    },
    {
      "cell_type": "code",
      "execution_count": 15,
      "metadata": {
        "id": "4igPcTGJr_2l"
      },
      "outputs": [],
      "source": [
        "# function that will help in getting stats and insights that\n",
        "# represent the whole population(either refugee or host community)\n",
        "def weighted_category_proportions2(df, var, weight,var_values,merge_dict = None):\n",
        "\n",
        "  \"\"\"df -- dataframe that has the column we are viewing\n",
        "   var -- column we want to get the weighted rate\n",
        "   weight -- column with the weight values\n",
        "   var_values -- unique values in the var coumn we would like to get there rates\"\"\"\n",
        "\n",
        "  df = df[df[var].isin(var_values)].copy()\n",
        "  if merge_dict:\n",
        "    df[var] = df[var].replace(merge_dict)\n",
        "    var_values = list(merge_dict.values())\n",
        "\n",
        "  def helper(df, var, weight,var_values):\n",
        "\n",
        "    dummies = pd.get_dummies(df[var])\n",
        "\n",
        "    # Ensure all expected columns exist, even if not in data\n",
        "    for v in set(var_values):\n",
        "        if v not in dummies.columns:\n",
        "            dummies[v] = 0\n",
        "    # Remove columns that are all zeros\n",
        "    dummies = dummies.loc[:, (dummies != 0).any(axis=0)]\n",
        "\n",
        "    dsw = DescrStatsW(dummies, weights=df[weight], ddof=0)\n",
        "\n",
        "    means = pd.Series(dsw.mean, index=dummies.columns)\n",
        "\n",
        "    result = {}\n",
        "    for i, category in enumerate(dummies.columns):\n",
        "        pct = means.get(category, 0) * 100\n",
        "        result[f\"{category.title()} -----> (%)\"] = f\"{pct:.1f}%\"\n",
        "    return result\n",
        "\n",
        "      # Only valid answers\n",
        "\n",
        "  groups = ['Host community North', 'Refugees']\n",
        "  results = {}\n",
        "  for group in groups:\n",
        "    subset = df[df['Intro_07_1'] == group]\n",
        "    stats = helper(df = subset, var = var,weight = weight,var_values = var_values)\n",
        "    results[group] = stats\n",
        "\n",
        "  return results\n"
      ]
    },
    {
      "cell_type": "code",
      "execution_count": 16,
      "metadata": {
        "id": "fRXloMNSsMna"
      },
      "outputs": [],
      "source": [
        "#Checking pregnancy rate among children in both communities\n",
        "pregnancy_rate_among_children = weighted_category_proportions2(df = df_f_children,\n",
        "                                                                var = 'HH_27',\n",
        "                                                                weight = 'wgh_samp_resc_str',\n",
        "                                                                var_values = pregnancy_answer)"
      ]
    },
    {
      "cell_type": "code",
      "execution_count": 17,
      "metadata": {
        "colab": {
          "base_uri": "https://localhost:8080/"
        },
        "id": "OxMYy8nSsW_3",
        "outputId": "c5833f3b-a13c-43a7-db3b-9504b36d7fe9"
      },
      "outputs": [
        {
          "output_type": "execute_result",
          "data": {
            "text/plain": [
              "{'Host community North': {\"Don'T Know -----> (%)\": '0.4%',\n",
              "  'No -----> (%)': '96.6%',\n",
              "  'Yes -----> (%)': '3.0%'},\n",
              " 'Refugees': {\"Don'T Know -----> (%)\": '0.1%',\n",
              "  'No -----> (%)': '94.6%',\n",
              "  'Refuse To Answer -----> (%)': '0.2%',\n",
              "  'Yes -----> (%)': '5.2%'}}"
            ]
          },
          "metadata": {},
          "execution_count": 17
        }
      ],
      "source": [
        "pregnancy_rate_among_children"
      ]
    },
    {
      "cell_type": "code",
      "execution_count": 18,
      "metadata": {
        "colab": {
          "base_uri": "https://localhost:8080/",
          "height": 405
        },
        "id": "CGb4IzjdCmj1",
        "outputId": "417ab78d-68df-42e6-918e-fe05577a1f9d"
      },
      "outputs": [
        {
          "output_type": "display_data",
          "data": {
            "text/plain": [
              "<Figure size 1200x500 with 2 Axes>"
            ],
            "image/png": "[encoded data removed]"
          },
          "metadata": {}
        }
      ],
      "source": [
        "# Categories\n",
        "categories = ['No', 'Yes']\n",
        "\n",
        "# Extract values\n",
        "host_values = [\n",
        "    float(pregnancy_rate_among_children['Host community North']['No -----> (%)'].replace('%', '')),\n",
        "    float(pregnancy_rate_among_children['Host community North']['Yes -----> (%)'].replace('%', '')),\n",
        "]\n",
        "refugee_values = [\n",
        "    float(pregnancy_rate_among_children['Refugees']['No -----> (%)'].replace('%', '')),\n",
        "    float(pregnancy_rate_among_children['Refugees']['Yes -----> (%)'].replace('%', '')),\n",
        "]\n",
        "\n",
        "# Reverse for top-down plotting\n",
        "categories = categories[::-1]\n",
        "host_values = host_values[::-1]\n",
        "refugee_values = refugee_values[::-1]\n",
        "\n",
        "# Plot\n",
        "fig, axes = plt.subplots(1, 2, figsize=(12, 5), sharey=True)\n",
        "\n",
        "# Custom premium colors\n",
        "color_host = '#aec7e8'    # soft light blue\n",
        "color_refugee = '#1f77b4' # deep bold blue\n",
        "\n",
        "# Host Community Plot\n",
        "axes[0].barh(categories, host_values, color=color_host)\n",
        "axes[0].set_title('Host community North')\n",
        "axes[0].set_xlim(0, 100)\n",
        "axes[0].xaxis.set_major_formatter(plt.FuncFormatter(lambda x, _: f'{int(x)}%'))\n",
        "axes[0].invert_yaxis()\n",
        "axes[0].xaxis.grid(True, linestyle='-', linewidth=0.2, color='gray')\n",
        "axes[0].set_axisbelow(True)\n",
        "\n",
        "# Refugee Plot\n",
        "axes[1].barh(categories, refugee_values, color=color_refugee)\n",
        "axes[1].set_title('Refugees')\n",
        "axes[1].set_xlim(0, 100)\n",
        "axes[1].xaxis.set_major_formatter(plt.FuncFormatter(lambda x, _: f'{int(x)}%'))\n",
        "axes[1].invert_yaxis()\n",
        "axes[1].xaxis.grid(True, linestyle='-', linewidth=0.2, color='gray')\n",
        "axes[1].set_axisbelow(True)\n",
        "\n",
        "# Add value labels at end of bars\n",
        "for ax, values in zip(axes, [host_values, refugee_values]):\n",
        "    for idx, value in enumerate(values):\n",
        "        ax.annotate(f'{value:.1f}%',\n",
        "                    xy=(value, idx),\n",
        "                    xytext=(1, 0),\n",
        "                    textcoords='offset points',\n",
        "                    va='center',\n",
        "                    ha='left',\n",
        "                    color='black',\n",
        "                    fontsize=9,\n",
        "                    fontweight='bold')\n",
        "\n",
        "# Layout and show\n",
        "plt.tight_layout()\n",
        "plt.show()\n"
      ]
    },
    {
      "cell_type": "markdown",
      "metadata": {
        "id": "kaRZlVu6F8hS"
      },
      "source": [
        "### Pregnancy Among Girls Aged 17 Years and Below\n",
        "\n",
        "Pregnancy cases were reported among girls aged 17 years and younger in both the host community and refugee populations. In the host community, 3.0% of girls were pregnant, while 5.2% of refugee girls were reported to be pregnant. Despite most girls not being pregnant, these findings confirm the presence of pregnancy among children in both groups."
      ]
    },
    {
      "cell_type": "code",
      "execution_count": 19,
      "metadata": {
        "id": "Mmwf1jggeJ_w"
      },
      "outputs": [],
      "source": [
        "# Now onto the next checking marital status of children respondents\n",
        "# This can be from both genders but also due to the marriage nature in\n",
        "# african countries we'll check the individual rates of each gender too\n",
        "\n",
        "#Creating the Male dataset\n",
        "df_m_children = df[df['HH_02'] == 'Male']"
      ]
    },
    {
      "cell_type": "code",
      "execution_count": 20,
      "metadata": {
        "colab": {
          "base_uri": "https://localhost:8080/",
          "height": 99
        },
        "id": "UCg1IjHat6YO",
        "outputId": "4c52cb7b-e14e-44be-88c8-41c54eceeab4"
      },
      "outputs": [
        {
          "output_type": "execute_result",
          "data": {
            "text/plain": [
              "Empty DataFrame\n",
              "Columns: [Intro_07_1, admin0, admin1, ID, rosterposition, HH_03, HH_02, ageYears, HH_00, HH_00a_year, HH_00a_month, HH_00b_year, HH_00b_month, HH_11a, HH_11b, HH_13, ID_00, ID_01a, ID_01b, ID_02, ID_03, ID_04, ID_05, ID_06, ID_06b, ID_07, ID_08, ID_09, ID_10, ID_11, ID_VAR, HH_06, HH_06_specify, HH_07a, HH_07b, HH_08, HH_09, HH_16, HH_18, HH_19, HH_21, HH_22, HH_23, HH_25, HH_26, HH_27, HH_28, HH_29, HH_Educ00, HH_Educ01, HH_Educ02a, HH_Educ02b, HH_Educ02c, HH_Educ03, HH_Educ04a, HH_Educ04b, HH_Educ05, HH_Educ06, HH_Educ07, HH_Educ10, HH_Educ15a, HH_Educ15b, HH_Educ16, HH_Educ17, HH_Educ18, HH_Educ23, Dis_03, Dis_06, Dis_09, Dis_12, Dis_15, Dis_18, wgh_samp_resc_pop, wgh_samp_resc_str]\n",
              "Index: []\n",
              "\n",
              "[0 rows x 74 columns]"
            ],
            "text/html": [
              "\n",
              "  <div id=\"df-247c635e-9d0c-48e6-9e44-648c37723855\" class=\"colab-df-container\">\n",
              "    <div>\n",
              "<style scoped>\n",
              "    .dataframe tbody tr th:only-of-type {\n",
              "        vertical-align: middle;\n",
              "    }\n",
              "\n",
              "    .dataframe tbody tr th {\n",
              "        vertical-align: top;\n",
              "    }\n",
              "\n",
              "    .dataframe thead th {\n",
              "        text-align: right;\n",
              "    }\n",
              "</style>\n",
              "<table border=\"1\" class=\"dataframe\">\n",
              "  <thead>\n",
              "    <tr style=\"text-align: right;\">\n",
              "      <th></th>\n",
              "      <th>Intro_07_1</th>\n",
              "      <th>admin0</th>\n",
              "      <th>admin1</th>\n",
              "      <th>ID</th>\n",
              "      <th>rosterposition</th>\n",
              "      <th>HH_03</th>\n",
              "      <th>HH_02</th>\n",
              "      <th>ageYears</th>\n",
              "      <th>HH_00</th>\n",
              "      <th>HH_00a_year</th>\n",
              "      <th>...</th>\n",
              "      <th>HH_Educ18</th>\n",
              "      <th>HH_Educ23</th>\n",
              "      <th>Dis_03</th>\n",
              "      <th>Dis_06</th>\n",
              "      <th>Dis_09</th>\n",
              "      <th>Dis_12</th>\n",
              "      <th>Dis_15</th>\n",
              "      <th>Dis_18</th>\n",
              "      <th>wgh_samp_resc_pop</th>\n",
              "      <th>wgh_samp_resc_str</th>\n",
              "    </tr>\n",
              "  </thead>\n",
              "  <tbody>\n",
              "  </tbody>\n",
              "</table>\n",
              "<p>0 rows × 74 columns</p>\n",
              "</div>\n",
              "    <div class=\"colab-df-buttons\">\n",
              "\n",
              "  <div class=\"colab-df-container\">\n",
              "    <button class=\"colab-df-convert\" onclick=\"convertToInteractive('df-247c635e-9d0c-48e6-9e44-648c37723855')\"\n",
              "            title=\"Convert this dataframe to an interactive table.\"\n",
              "            style=\"display:none;\">\n",
              "\n",
              "  <svg xmlns=\"http://www.w3.org/2000/svg\" height=\"24px\" viewBox=\"0 -960 960 960\">\n",
              "    <path d=\"M120-120v-720h720v720H120Zm60-500h600v-160H180v160Zm220 220h160v-160H400v160Zm0 220h160v-160H400v160ZM180-400h160v-160H180v160Zm440 0h160v-160H620v160ZM180-180h160v-160H180v160Zm440 0h160v-160H620v160Z\"/>\n",
              "  </svg>\n",
              "    </button>\n",
              "\n",
              "  <style>\n",
              "    .colab-df-container {\n",
              "      display:flex;\n",
              "      gap: 12px;\n",
              "    }\n",
              "\n",
              "    .colab-df-convert {\n",
              "      background-color: #E8F0FE;\n",
              "      border: none;\n",
              "      border-radius: 50%;\n",
              "      cursor: pointer;\n",
              "      display: none;\n",
              "      fill: #1967D2;\n",
              "      height: 32px;\n",
              "      padding: 0 0 0 0;\n",
              "      width: 32px;\n",
              "    }\n",
              "\n",
              "    .colab-df-convert:hover {\n",
              "      background-color: #E2EBFA;\n",
              "      box-shadow: 0px 1px 2px rgba(60, 64, 67, 0.3), 0px 1px 3px 1px rgba(60, 64, 67, 0.15);\n",
              "      fill: #174EA6;\n",
              "    }\n",
              "\n",
              "    .colab-df-buttons div {\n",
              "      margin-bottom: 4px;\n",
              "    }\n",
              "\n",
              "    [theme=dark] .colab-df-convert {\n",
              "      background-color: #3B4455;\n",
              "      fill: #D2E3FC;\n",
              "    }\n",
              "\n",
              "    [theme=dark] .colab-df-convert:hover {\n",
              "      background-color: #434B5C;\n",
              "      box-shadow: 0px 1px 3px 1px rgba(0, 0, 0, 0.15);\n",
              "      filter: drop-shadow(0px 1px 2px rgba(0, 0, 0, 0.3));\n",
              "      fill: #FFFFFF;\n",
              "    }\n",
              "  </style>\n",
              "\n",
              "    <script>\n",
              "      const buttonEl =\n",
              "        document.querySelector('#df-247c635e-9d0c-48e6-9e44-648c37723855 button.colab-df-convert');\n",
              "      buttonEl.style.display =\n",
              "        google.colab.kernel.accessAllowed ? 'block' : 'none';\n",
              "\n",
              "      async function convertToInteractive(key) {\n",
              "        const element = document.querySelector('#df-247c635e-9d0c-48e6-9e44-648c37723855');\n",
              "        const dataTable =\n",
              "          await google.colab.kernel.invokeFunction('convertToInteractive',\n",
              "                                                    [key], {});\n",
              "        if (!dataTable) return;\n",
              "\n",
              "        const docLinkHtml = 'Like what you see? Visit the ' +\n",
              "          '<a target=\"_blank\" href=https://colab.research.google.com/notebooks/data_table.ipynb>data table notebook</a>'\n",
              "          + ' to learn more about interactive tables.';\n",
              "        element.innerHTML = '';\n",
              "        dataTable['output_type'] = 'display_data';\n",
              "        await google.colab.output.renderOutput(dataTable, element);\n",
              "        const docLink = document.createElement('div');\n",
              "        docLink.innerHTML = docLinkHtml;\n",
              "        element.appendChild(docLink);\n",
              "      }\n",
              "    </script>\n",
              "  </div>\n",
              "\n",
              "\n",
              "    </div>\n",
              "  </div>\n"
            ],
            "application/vnd.google.colaboratory.intrinsic+json": {
              "type": "dataframe"
            }
          },
          "metadata": {},
          "execution_count": 20
        }
      ],
      "source": [
        "#Checking to also ensure there is no form of union for children below the age of 10\n",
        "df[(df['ageYears'] < 10) & df['HH_08'].isin(['monogamous/married',\n",
        "    'polygamous/married','non-formal union','divorced','separated','non-formal union','never married'])]"
      ]
    },
    {
      "cell_type": "code",
      "execution_count": 21,
      "metadata": {
        "colab": {
          "base_uri": "https://localhost:8080/"
        },
        "id": "_CtVkOUuv2K3",
        "outputId": "317b1f16-9116-4aa3-c694-4aa75871a2fe"
      },
      "outputs": [
        {
          "output_type": "stream",
          "name": "stdout",
          "text": [
            "['never married' nan 'monogamous/married']\n",
            "['never married' nan 'monogamous/married' 'widow or widower' 'divorced'\n",
            " 'separated' 'polygamous/married' 'non-formal union']\n",
            "['never married' nan 'monogamous/married' 'widow or widower' 'divorced'\n",
            " 'separated' 'polygamous/married' 'non-formal union']\n"
          ]
        }
      ],
      "source": [
        "print(df_m_children['HH_08'].unique())\n",
        "print(df_f_children['HH_08'].unique())\n",
        "print(df['HH_08'].unique())"
      ]
    },
    {
      "cell_type": "code",
      "execution_count": 22,
      "metadata": {
        "id": "jwfBtejjxBQC"
      },
      "outputs": [],
      "source": [
        "marital_status_answers = ['monogamous/married','never married','polygamous/married'\n",
        " 'widow or widower','non-formal union','divorced','separated']\n",
        "marital_status_mapping = {\n",
        "    'monogamous/married': 'Married',\n",
        "    'polygamous/married': 'Married',\n",
        "    'non-formal union': 'Union/Informal',\n",
        "    'never married': 'Never Married',\n",
        "    'divorced': 'Previously Married',\n",
        "    'separated': 'Previously Married',\n",
        "    'widow or widower': 'Previously Married',\n",
        "}\n"
      ]
    },
    {
      "cell_type": "code",
      "execution_count": 23,
      "metadata": {
        "id": "IoPOy2mkxdvS"
      },
      "outputs": [],
      "source": [
        "# marriage rate for all children\n",
        "children_marriage_rate = weighted_category_proportions2(df = df,\n",
        "                                                       var = 'HH_08',\n",
        "                                                       weight = 'wgh_samp_resc_str',\n",
        "                                                       var_values = marital_status_answers,\n",
        "                                                        merge_dict = marital_status_mapping)"
      ]
    },
    {
      "cell_type": "code",
      "execution_count": 24,
      "metadata": {
        "colab": {
          "base_uri": "https://localhost:8080/"
        },
        "id": "AlKuvt4Kx3TW",
        "outputId": "da613283-eb89-4fd1-f613-0b9232685abe"
      },
      "outputs": [
        {
          "output_type": "execute_result",
          "data": {
            "text/plain": [
              "{'Host community North': {'Married -----> (%)': '3.5%',\n",
              "  'Never Married -----> (%)': '96.5%',\n",
              "  'Union/Informal -----> (%)': '0.1%'},\n",
              " 'Refugees': {'Married -----> (%)': '2.0%',\n",
              "  'Never Married -----> (%)': '97.9%',\n",
              "  'Previously Married -----> (%)': '0.1%',\n",
              "  'Union/Informal -----> (%)': '0.0%'}}"
            ]
          },
          "metadata": {},
          "execution_count": 24
        }
      ],
      "source": [
        "children_marriage_rate"
      ]
    },
    {
      "cell_type": "code",
      "execution_count": 25,
      "metadata": {
        "colab": {
          "base_uri": "https://localhost:8080/",
          "height": 403
        },
        "id": "DxUlpfk3GGjd",
        "outputId": "2a723f90-7f38-4165-986f-ad2bd2841d3a"
      },
      "outputs": [
        {
          "output_type": "display_data",
          "data": {
            "text/plain": [
              "<Figure size 1000x450 with 1 Axes>"
            ],
            "image/png": "[encoded data removed]"
          },
          "metadata": {}
        }
      ],
      "source": [
        "# Categories in order you want\n",
        "categories = [\n",
        "    'Married',\n",
        "    'Never Married'\n",
        "]\n",
        "\n",
        "# Color mapping\n",
        "colors = {\n",
        "    'Married': '#152745',\n",
        "    'Never Married': '#a8c4e3'\n",
        "    }\n",
        "\n",
        "\n",
        "# Groups\n",
        "groups = ['Host community North', 'Refugees']\n",
        "\n",
        "# Prepare data\n",
        "group_data = {group: [] for group in groups}\n",
        "\n",
        "for group in groups:\n",
        "    for cat in categories:\n",
        "        key = f'{cat} -----> (%)'\n",
        "        if key in children_marriage_rate[group]:\n",
        "            val = float(children_marriage_rate[group][key].replace('%', ''))\n",
        "        else:\n",
        "            val = 0.0  # If missing, assume 0\n",
        "        group_data[group].append(val)\n",
        "\n",
        "# Plotting\n",
        "fig, ax = plt.subplots(figsize=(10, 4.5))  # Wide, not too tall\n",
        "\n",
        "y_pos = np.arange(len(groups))\n",
        "left = np.zeros(len(groups))\n",
        "bar_height = 0.2  # Thick bars\n",
        "\n",
        "for i, cat in enumerate(categories):\n",
        "    values = [group_data[group][i] for group in groups]\n",
        "    ax.barh(y_pos, values, left=left, color=colors[cat], label=cat, height=bar_height)\n",
        "    left += values\n",
        "\n",
        "# Aesthetics\n",
        "ax.set_yticks(y_pos)\n",
        "ax.set_yticklabels(groups, fontsize=11)\n",
        "ax.invert_yaxis()  # Top to bottom order\n",
        "ax.set_xlabel('Percentage (%)', fontsize=12)\n",
        "ax.set_xlim(0, 100)\n",
        "\n",
        "# Simple legend\n",
        "ax.legend(loc='lower center', bbox_to_anchor=(0.5, -0.45), ncol=2, frameon=False, fontsize=10)\n",
        "\n",
        "# Background and grid\n",
        "ax.set_facecolor('white')\n",
        "fig.patch.set_facecolor('white')\n",
        "ax.xaxis.grid(True, linestyle='-', alpha=0.1)\n",
        "\n",
        "# Layout\n",
        "plt.tight_layout()\n",
        "plt.savefig('Marriage Among children.png', dpi=300, bbox_inches='tight')\n",
        "# Show plot\n",
        "plt.show()\n"
      ]
    },
    {
      "cell_type": "markdown",
      "metadata": {
        "id": "niSEGN3JISB8"
      },
      "source": [
        "### Marriage Among Children Aged 17 Years and Below\n",
        "\n",
        "Marriage among children aged 17 years and younger was observed in both the host community and refugee populations. In the host community, 3.5% of children were reported as married, compared to 2.0% among refugees. Very few children reported being in a union or having been previously married, and the large majority of children in both groups had never been married."
      ]
    },
    {
      "cell_type": "code",
      "execution_count": 26,
      "metadata": {
        "id": "adXiGoH-yHm-"
      },
      "outputs": [],
      "source": [
        "# marriage rate for female children\n",
        "f_children_marriage_rate = weighted_category_proportions2(df = df_f_children,\n",
        "                                                          var = 'HH_08',\n",
        "                                                          weight = 'wgh_samp_resc_str',\n",
        "                                                          var_values = marital_status_answers,\n",
        "                                                          merge_dict = marital_status_mapping)"
      ]
    },
    {
      "cell_type": "code",
      "execution_count": 27,
      "metadata": {
        "colab": {
          "base_uri": "https://localhost:8080/"
        },
        "id": "uAOGgMGkyxUS",
        "outputId": "8e44283e-b0b2-47b1-8d5c-3f42cd7b2ffc"
      },
      "outputs": [
        {
          "output_type": "execute_result",
          "data": {
            "text/plain": [
              "{'Host community North': {'Married -----> (%)': '5.7%',\n",
              "  'Never Married -----> (%)': '94.1%',\n",
              "  'Union/Informal -----> (%)': '0.2%'},\n",
              " 'Refugees': {'Married -----> (%)': '3.2%',\n",
              "  'Never Married -----> (%)': '96.6%',\n",
              "  'Previously Married -----> (%)': '0.2%',\n",
              "  'Union/Informal -----> (%)': '0.0%'}}"
            ]
          },
          "metadata": {},
          "execution_count": 27
        }
      ],
      "source": [
        "f_children_marriage_rate"
      ]
    },
    {
      "cell_type": "code",
      "execution_count": 28,
      "metadata": {
        "colab": {
          "base_uri": "https://localhost:8080/",
          "height": 434
        },
        "id": "YTSn5IEjJZJI",
        "outputId": "c9cc724c-f113-4984-d5db-d827fc3a722d"
      },
      "outputs": [
        {
          "output_type": "display_data",
          "data": {
            "text/plain": [
              "<Figure size 1000x450 with 1 Axes>"
            ],
            "image/png": "[encoded data removed]"
          },
          "metadata": {}
        }
      ],
      "source": [
        "# Categories in order you want\n",
        "categories = [\n",
        "    'Married',\n",
        "    'Never Married'\n",
        "]\n",
        "\n",
        "# Color mapping\n",
        "colors = {\n",
        "    'Married': '#152745',\n",
        "    'Never Married': '#a8c4e3'\n",
        "    }\n",
        "\n",
        "\n",
        "# Groups\n",
        "groups = ['Host community North', 'Refugees']\n",
        "\n",
        "# Prepare data\n",
        "group_data = {group: [] for group in groups}\n",
        "\n",
        "for group in groups:\n",
        "    for cat in categories:\n",
        "        key = f'{cat} -----> (%)'\n",
        "        if key in f_children_marriage_rate[group]:\n",
        "            val = float(f_children_marriage_rate[group][key].replace('%', ''))\n",
        "        else:\n",
        "            val = 0.0  # If missing, assume 0\n",
        "        group_data[group].append(val)\n",
        "\n",
        "# Plotting\n",
        "fig, ax = plt.subplots(figsize=(10, 4.5))  # Wide, not too tall\n",
        "\n",
        "y_pos = np.arange(len(groups))\n",
        "left = np.zeros(len(groups))\n",
        "bar_height = 0.2  # Thick bars\n",
        "\n",
        "for i, cat in enumerate(categories):\n",
        "    values = [group_data[group][i] for group in groups]\n",
        "    ax.barh(y_pos, values, left=left, color=colors[cat], label=cat, height=bar_height)\n",
        "    left += values\n",
        "\n",
        "# Aesthetics\n",
        "ax.set_yticks(y_pos)\n",
        "ax.set_yticklabels(groups, fontsize=11)\n",
        "ax.invert_yaxis()  # Top to bottom order\n",
        "ax.set_xlabel('Percentage (%)', fontsize=12)\n",
        "ax.set_xlim(0, 100)\n",
        "\n",
        "# Simple legend\n",
        "ax.legend(loc='lower center', bbox_to_anchor=(0.5, -0.45), ncol=2, frameon=False, fontsize=10)\n",
        "\n",
        "# Background and grid\n",
        "ax.set_facecolor('white')\n",
        "fig.patch.set_facecolor('white')\n",
        "ax.xaxis.grid(True, linestyle='-', alpha=0.1)\n",
        "\n",
        "# Layout\n",
        "plt.tight_layout(rect=[0, 0.05, 1, 1])  # Optional, leaves space for bottom text\n",
        "fig.text(0.01, 0.03, 'Female children marriage rate', ha='left', va='bottom', fontsize=12, fontweight='bold')\n",
        "\n",
        "plt.savefig('1marriage among females.png', dpi=300, bbox_inches='tight')\n",
        "# Show plot\n",
        "plt.show()\n"
      ]
    },
    {
      "cell_type": "code",
      "execution_count": 29,
      "metadata": {
        "id": "_BDidJFXy91u"
      },
      "outputs": [],
      "source": [
        "# marriage rate for male children\n",
        "# Here there is a missing category of widower or widow as no male child reported that case\n",
        "# we'll edit our asnsweer list and dictionary to remove that option\n",
        "marital_status_answers2 = ['monogamous/married','never married','polygamous/married',\n",
        "                           'non-formal union','divorced','separated']\n",
        "marital_status_mapping2 = {\n",
        "    'monogamous/married': 'Married',\n",
        "    'polygamous/married': 'Married',\n",
        "    'non-formal union': 'Union/Informal',\n",
        "    'never married': 'Never Married',\n",
        "    'divorced': 'Previously Married',\n",
        "    'separated': 'Previously Married',\n",
        "}\n"
      ]
    },
    {
      "cell_type": "code",
      "execution_count": 30,
      "metadata": {
        "id": "EJ0KoQm6zj_t"
      },
      "outputs": [],
      "source": [
        "m_children_marriage_rate = weighted_category_proportions2(df = df_m_children,\n",
        "                                                          var = 'HH_08',\n",
        "                                                          weight = 'wgh_samp_resc_str',\n",
        "                                                          var_values = marital_status_answers2,\n",
        "                                                          merge_dict = marital_status_mapping2)"
      ]
    },
    {
      "cell_type": "code",
      "execution_count": 31,
      "metadata": {
        "colab": {
          "base_uri": "https://localhost:8080/"
        },
        "id": "2IRB5_gBzsJm",
        "outputId": "7fc68889-795a-41bf-e679-df69a803981d"
      },
      "outputs": [
        {
          "output_type": "execute_result",
          "data": {
            "text/plain": [
              "{'Host community North': {'Married -----> (%)': '1.2%',\n",
              "  'Never Married -----> (%)': '98.8%'},\n",
              " 'Refugees': {'Married -----> (%)': '0.8%',\n",
              "  'Never Married -----> (%)': '99.2%'}}"
            ]
          },
          "metadata": {},
          "execution_count": 31
        }
      ],
      "source": [
        "m_children_marriage_rate"
      ]
    },
    {
      "cell_type": "code",
      "execution_count": 32,
      "metadata": {
        "colab": {
          "base_uri": "https://localhost:8080/",
          "height": 434
        },
        "id": "zp-ICQhwJpC4",
        "outputId": "f5689afe-69b9-4442-fdb1-bd8d7bbc6137"
      },
      "outputs": [
        {
          "output_type": "display_data",
          "data": {
            "text/plain": [
              "<Figure size 1000x450 with 1 Axes>"
            ],
            "image/png": "[encoded data removed]"
          },
          "metadata": {}
        }
      ],
      "source": [
        "# Categories in order you want\n",
        "categories = [\n",
        "    'Married',\n",
        "    'Never Married'\n",
        "]\n",
        "\n",
        "# Color mapping\n",
        "colors = {\n",
        "    'Married': '#152745',\n",
        "    'Never Married': '#a8c4e3'\n",
        "    }\n",
        "\n",
        "\n",
        "# Groups\n",
        "groups = ['Host community North', 'Refugees']\n",
        "\n",
        "# Prepare data\n",
        "group_data = {group: [] for group in groups}\n",
        "\n",
        "for group in groups:\n",
        "    for cat in categories:\n",
        "        key = f'{cat} -----> (%)'\n",
        "        if key in m_children_marriage_rate[group]:\n",
        "            val = float(m_children_marriage_rate[group][key].replace('%', ''))\n",
        "        else:\n",
        "            val = 0.0  # If missing, assume 0\n",
        "        group_data[group].append(val)\n",
        "\n",
        "# Plotting\n",
        "fig, ax = plt.subplots(figsize=(10, 4.5))  # Wide, not too tall\n",
        "\n",
        "y_pos = np.arange(len(groups))\n",
        "left = np.zeros(len(groups))\n",
        "bar_height = 0.2  # Thick bars\n",
        "\n",
        "for i, cat in enumerate(categories):\n",
        "    values = [group_data[group][i] for group in groups]\n",
        "    ax.barh(y_pos, values, left=left, color=colors[cat], label=cat, height=bar_height)\n",
        "    left += values\n",
        "\n",
        "# Aesthetics\n",
        "ax.set_yticks(y_pos)\n",
        "ax.set_yticklabels(groups, fontsize=11)\n",
        "ax.invert_yaxis()  # Top to bottom order\n",
        "ax.set_xlabel('Percentage (%)', fontsize=12)\n",
        "ax.set_xlim(0, 100)\n",
        "\n",
        "# Simple legend\n",
        "ax.legend(loc='lower center', bbox_to_anchor=(0.5, -0.45), ncol=2, frameon=False, fontsize=10)\n",
        "\n",
        "# Background and grid\n",
        "ax.set_facecolor('white')\n",
        "fig.patch.set_facecolor('white')\n",
        "ax.xaxis.grid(True, linestyle='-', alpha=0.1)\n",
        "\n",
        "# Layout\n",
        "plt.tight_layout(rect=[0, 0.05, 1, 1])  # Optional, leaves space for bottom text\n",
        "fig.text(0.01, 0.03, 'Male children marriage rate', ha='left', va='bottom', fontsize=12, fontweight='bold')\n",
        "\n",
        "plt.savefig('1marriage among males.png', dpi=300, bbox_inches='tight')\n",
        "# Show plot\n",
        "plt.show()\n"
      ]
    },
    {
      "cell_type": "markdown",
      "metadata": {
        "id": "psi875U7Loi2"
      },
      "source": [
        "### Marriage Status Among Female and Male Children (≤17 Years)\n",
        "\n",
        "Marriage was more commonly reported among girls than boys in both populations. Among female children, 5.7% in the host community and 3.2% among refugees were married. In contrast, only 1.2% of male children in the host community and 0.8% among refugee boys were reported as married. The majority of children in both groups had never been married, with slightly higher rates of never-married status among refugees. Informal or previous unions were rare in both populations, but slightly more observable among refugee girls."
      ]
    },
    {
      "cell_type": "code",
      "execution_count": 33,
      "metadata": {
        "id": "AxdP9f4v1QMz"
      },
      "outputs": [],
      "source": [
        "#Looking at education data it is best that we look at early education(pre-school),primary education and also secondary education\n",
        "going_pre_school = df[df['HH_Educ00'] == 'yes']"
      ]
    },
    {
      "cell_type": "code",
      "execution_count": 34,
      "metadata": {
        "colab": {
          "base_uri": "https://localhost:8080/"
        },
        "id": "svEXzPROC0ec",
        "outputId": "f15cf8f1-ce9d-4c4c-8c58-1fc22b7bdcd8"
      },
      "outputs": [
        {
          "output_type": "stream",
          "name": "stdout",
          "text": [
            "oldest year recorded attending pre-school:  6\n",
            "youngest year recorded attending pre-school:  0\n"
          ]
        }
      ],
      "source": [
        "#checking the year range for pre_school education so as to perform accurate analysis\n",
        "print(f\"oldest year recorded attending pre-school:  {going_pre_school['ageYears'].max()}\")\n",
        "print(f\"youngest year recorded attending pre-school:  {going_pre_school['ageYears'].min()}\")"
      ]
    },
    {
      "cell_type": "code",
      "execution_count": 35,
      "metadata": {
        "id": "Hju5MjKdGACU"
      },
      "outputs": [],
      "source": [
        "#While the typical pre-school age range is 3–5 years, our dataset includes reported cases of children aged 0 and 6\n",
        "#in pre-school. For comparability, the main analysis uses the 3–5 range,\n",
        "#but we note and summarize results from the full 0–6 range in an appendix."
      ]
    },
    {
      "cell_type": "code",
      "execution_count": 36,
      "metadata": {
        "id": "lN_MkxwJGMqx"
      },
      "outputs": [],
      "source": [
        "#filtering on the standard age for pre-school\n",
        "pre_school_age = df[(df['ageYears'] >= 3) & (df['ageYears'] <= 5)]"
      ]
    },
    {
      "cell_type": "code",
      "execution_count": 37,
      "metadata": {
        "id": "-0Sf3OPNIIrC"
      },
      "outputs": [],
      "source": [
        "pre_school_age['HH_Educ00'].unique()\n",
        "pre_school_answer = ['yes', 'no']"
      ]
    },
    {
      "cell_type": "code",
      "execution_count": 38,
      "metadata": {
        "id": "RUosYAKgIcXL"
      },
      "outputs": [],
      "source": [
        "#according to standard age pre_school attendance rate\n",
        "standard_pre_school_rate = weighted_category_proportions2(df=pre_school_age,\n",
        "                                                          weight='wgh_samp_resc_str',\n",
        "                                                          var = 'HH_Educ00',\n",
        "                                                          var_values = pre_school_answer)"
      ]
    },
    {
      "cell_type": "code",
      "execution_count": 39,
      "metadata": {
        "colab": {
          "base_uri": "https://localhost:8080/"
        },
        "id": "usuIbaM7KeW7",
        "outputId": "f9b6b151-60c9-41dd-a04c-7ba39ec7c191"
      },
      "outputs": [
        {
          "output_type": "execute_result",
          "data": {
            "text/plain": [
              "{'Host community North': {'No -----> (%)': '77.9%', 'Yes -----> (%)': '22.1%'},\n",
              " 'Refugees': {'No -----> (%)': '36.6%', 'Yes -----> (%)': '63.4%'}}"
            ]
          },
          "metadata": {},
          "execution_count": 39
        }
      ],
      "source": [
        "standard_pre_school_rate"
      ]
    },
    {
      "cell_type": "code",
      "execution_count": 40,
      "metadata": {
        "colab": {
          "base_uri": "https://localhost:8080/",
          "height": 539
        },
        "id": "tl7C4IFoO6wV",
        "outputId": "9d713392-4acd-408d-cac0-405d8347e25f"
      },
      "outputs": [
        {
          "output_type": "display_data",
          "data": {
            "text/plain": [
              "<Figure size 1200x600 with 2 Axes>"
            ],
            "image/png": "[encoded data removed]"
          },
          "metadata": {}
        }
      ],
      "source": [
        "# Colors\n",
        "colors = {\n",
        "    'Yes': '#a8c4e3',  # light blue\n",
        "    'No': '#FFD700'    # Yellow\n",
        "}\n",
        "\n",
        "background_color = '#152745'  # Dark Blue background\n",
        "\n",
        "# Settings\n",
        "n_rows, n_cols = 10, 10  # 10x10 grid = 100 dots\n",
        "groups = ['Host community North', 'Refugees']\n",
        "\n",
        "# Build figure\n",
        "fig, axes = plt.subplots(1, 2, figsize=(12, 6))\n",
        "fig.patch.set_facecolor(background_color)  # Set full background\n",
        "\n",
        "for idx, group in enumerate(groups):\n",
        "    ax = axes[idx]\n",
        "    ax.set_facecolor(background_color)  # Set each subplot background\n",
        "\n",
        "    # Get values\n",
        "    yes_pct = float(standard_pre_school_rate[group]['Yes -----> (%)'].replace('%', ''))\n",
        "    no_pct = float(standard_pre_school_rate[group]['No -----> (%)'].replace('%', ''))\n",
        "\n",
        "    yes_dots = int(round(yes_pct))\n",
        "    no_dots = 100 - yes_dots  # Ensure exactly 100 dots\n",
        "\n",
        "    # Create grid\n",
        "    data = ['Yes'] * yes_dots + ['No'] * no_dots\n",
        "    data = np.array(data).reshape((n_rows, n_cols))\n",
        "\n",
        "    # Plot\n",
        "    for i in range(n_rows):\n",
        "        for j in range(n_cols):\n",
        "            color = colors[data[i, j]]\n",
        "            ax.scatter(j, n_rows - i - 1, color=color, s=100, edgecolors='white', linewidth=0.5)\n",
        "\n",
        "    ax.set_xlim(-0.5, n_cols - 0.5)\n",
        "    ax.set_ylim(-0.5, n_rows - 0.5)\n",
        "    ax.set_aspect('equal')\n",
        "    ax.axis('off')\n",
        "    ax.set_title(group, fontsize=14, weight='bold', color='white')\n",
        "\n",
        "# Overall title\n",
        "fig.suptitle('Standard Pre-School Attendance Rate', fontsize=18, weight='bold', color='white')\n",
        "\n",
        "# Custom Legend\n",
        "legend_labels = ['Yes', 'No']\n",
        "custom_lines = [\n",
        "    plt.Line2D([0], [0], marker='o', color='w', markerfacecolor=colors[label], markersize=10, markeredgecolor='white')\n",
        "    for label in legend_labels\n",
        "]\n",
        "fig.legend(custom_lines, legend_labels, loc='lower center', ncol=2, frameon=False, fontsize=12, labelcolor='white')\n",
        "\n",
        "# Layout\n",
        "plt.tight_layout(rect=[0, 0.05, 1, 0.95])\n",
        "plt.savefig('pre_school_attendance.png', dpi=300, bbox_inches='tight')\n",
        "# Show plot\n",
        "plt.show()\n"
      ]
    },
    {
      "cell_type": "markdown",
      "metadata": {
        "id": "OY0Oa1a9P0pm"
      },
      "source": [
        "### Standard Pre-School Attendance Among Children Aged 3–5 Years\n",
        "\n",
        "Pre-school attendance was significantly higher among refugee children compared to those in the host community. Among children aged 3 to 5, 63.4% of refugees attended standard pre-school, compared to just 22.1% of children in the host community. Conversely, 77.9% of host community children did not attend pre-school, compared to 36.6% of refugee children."
      ]
    },
    {
      "cell_type": "code",
      "execution_count": 41,
      "metadata": {
        "id": "EWZWP8VBK8vS"
      },
      "outputs": [],
      "source": [
        "# Now lets check the pre_school rate according to how children enroll in this region\n",
        "fds_pre_school_age = df[(df['ageYears'] >= 0) & (df['ageYears'] <= 6)]"
      ]
    },
    {
      "cell_type": "code",
      "execution_count": 42,
      "metadata": {
        "colab": {
          "base_uri": "https://localhost:8080/"
        },
        "id": "-YHaS0S_Lff3",
        "outputId": "25bcbbe8-69d7-4eec-89f5-f3353e5fbd49"
      },
      "outputs": [
        {
          "output_type": "stream",
          "name": "stdout",
          "text": [
            "['yes' 'no' nan \"don't know\"]\n"
          ]
        }
      ],
      "source": [
        "print(fds_pre_school_age['HH_Educ00'].unique())\n",
        "fds_pre_school_answer = ['yes', 'no',\"don't know\"]"
      ]
    },
    {
      "cell_type": "code",
      "execution_count": 43,
      "metadata": {
        "id": "lCCyv3rVM2Pg"
      },
      "outputs": [],
      "source": [
        "fds_pre_school_rate = weighted_category_proportions2(df = fds_pre_school_age,\n",
        "                                                      weight = 'wgh_samp_resc_str',\n",
        "                                                      var = 'HH_Educ00',\n",
        "                                                      var_values = fds_pre_school_answer)"
      ]
    },
    {
      "cell_type": "code",
      "execution_count": 44,
      "metadata": {
        "colab": {
          "base_uri": "https://localhost:8080/"
        },
        "id": "27s1Gp5sNUhQ",
        "outputId": "841aeee6-549c-48d5-f98e-ae3c1f8dbeef"
      },
      "outputs": [
        {
          "output_type": "execute_result",
          "data": {
            "text/plain": [
              "{'Host community North': {\"Don'T Know -----> (%)\": '0.1%',\n",
              "  'No -----> (%)': '82.3%',\n",
              "  'Yes -----> (%)': '17.6%'},\n",
              " 'Refugees': {'No -----> (%)': '57.9%', 'Yes -----> (%)': '42.1%'}}"
            ]
          },
          "metadata": {},
          "execution_count": 44
        }
      ],
      "source": [
        "fds_pre_school_rate"
      ]
    },
    {
      "cell_type": "code",
      "execution_count": 45,
      "metadata": {
        "colab": {
          "base_uri": "https://localhost:8080/",
          "height": 539
        },
        "id": "87Et4jf-P_kE",
        "outputId": "4fd21e03-2e7e-4e15-907e-f5ad7c1ecea3"
      },
      "outputs": [
        {
          "output_type": "display_data",
          "data": {
            "text/plain": [
              "<Figure size 1200x600 with 2 Axes>"
            ],
            "image/png": "[encoded data removed]"
          },
          "metadata": {}
        }
      ],
      "source": [
        "# Colors\n",
        "colors = {\n",
        "    'Yes': '#a8c4e3',  # light blue\n",
        "    'No': '#FFD700'    # Yellow\n",
        "}\n",
        "\n",
        "background_color = '#152745'  # Dark Blue background\n",
        "\n",
        "# Settings\n",
        "n_rows, n_cols = 10, 10  # 10x10 grid = 100 dots\n",
        "groups = ['Host community North', 'Refugees']\n",
        "\n",
        "# Build figure\n",
        "fig, axes = plt.subplots(1, 2, figsize=(12, 6))\n",
        "fig.patch.set_facecolor(background_color)  # Set full background\n",
        "\n",
        "for idx, group in enumerate(groups):\n",
        "    ax = axes[idx]\n",
        "    ax.set_facecolor(background_color)  # Set each subplot background\n",
        "\n",
        "    # Get values\n",
        "    yes_pct = float(fds_pre_school_rate[group]['Yes -----> (%)'].replace('%', ''))\n",
        "    no_pct = float(fds_pre_school_rate[group]['No -----> (%)'].replace('%', ''))\n",
        "\n",
        "    yes_dots = int(round(yes_pct))\n",
        "    no_dots = 100 - yes_dots  # Ensure exactly 100 dots\n",
        "\n",
        "    # Create grid\n",
        "    data = ['Yes'] * yes_dots + ['No'] * no_dots\n",
        "    data = np.array(data).reshape((n_rows, n_cols))\n",
        "\n",
        "    # Plot\n",
        "    for i in range(n_rows):\n",
        "        for j in range(n_cols):\n",
        "            color = colors[data[i, j]]\n",
        "            ax.scatter(j, n_rows - i - 1, color=color, s=100, edgecolors='white', linewidth=0.5)\n",
        "\n",
        "    ax.set_xlim(-0.5, n_cols - 0.5)\n",
        "    ax.set_ylim(-0.5, n_rows - 0.5)\n",
        "    ax.set_aspect('equal')\n",
        "    ax.axis('off')\n",
        "    ax.set_title(group, fontsize=14, weight='bold', color='white')\n",
        "\n",
        "# Overall title\n",
        "fig.suptitle('Extended Pre-School Attendance Rate(0-6)', fontsize=18, weight='bold', color='white')\n",
        "\n",
        "# Custom Legend\n",
        "legend_labels = ['Yes', 'No']\n",
        "custom_lines = [\n",
        "    plt.Line2D([0], [0], marker='o', color='w', markerfacecolor=colors[label], markersize=10, markeredgecolor='white')\n",
        "    for label in legend_labels\n",
        "]\n",
        "fig.legend(custom_lines, legend_labels, loc='lower center', ncol=2, frameon=False, fontsize=12, labelcolor='white')\n",
        "\n",
        "# Layout\n",
        "plt.tight_layout(rect=[0, 0.05, 1, 0.95])\n",
        "plt.savefig('extendend_attendance.png', dpi=300, bbox_inches='tight')\n",
        "# Show plot\n",
        "plt.show()\n"
      ]
    },
    {
      "cell_type": "markdown",
      "metadata": {
        "id": "b5LtuK4uQchz"
      },
      "source": [
        "When expanding the age group to 0–6, pre-school participation rates drop slightly, particularly for refugees (from 63.4% to 42.1%), reflecting inclusion of infants and older children less likely to be in pre-school.\n",
        "Host community attendance rates also decline in the extended range (from 22.1% to 17.6%), suggesting fewer children beyond the core pre-school ages are enrolled. Those responses were probably outliers and we are on the right track using the standard rate.\n"
      ]
    },
    {
      "cell_type": "code",
      "execution_count": 46,
      "metadata": {
        "colab": {
          "base_uri": "https://localhost:8080/"
        },
        "id": "cnSIt4vyd5t7",
        "outputId": "fd1ebe59-0f05-47b6-816b-1929144f5b35"
      },
      "outputs": [
        {
          "output_type": "execute_result",
          "data": {
            "text/plain": [
              "array([15, 11,  9,  3,  1, 12, 10,  2, 16, 13,  8,  5,  0, 14,  7,  6,  4,\n",
              "       17])"
            ]
          },
          "metadata": {},
          "execution_count": 46
        }
      ],
      "source": [
        "df['ageYears'].unique()"
      ]
    },
    {
      "cell_type": "code",
      "execution_count": 47,
      "metadata": {
        "colab": {
          "base_uri": "https://localhost:8080/"
        },
        "id": "UUHFRXJSQcF4",
        "outputId": "63f0d79a-77c8-40cb-9897-3d04a7a32b10"
      },
      "outputs": [
        {
          "output_type": "stream",
          "name": "stdout",
          "text": [
            "['yes' nan 'no' \"don't know\"]\n"
          ]
        }
      ],
      "source": [
        "#we will look at both secondary and primary education combined\n",
        "print(df['HH_Educ02a'].unique())\n",
        "school_answer = ['yes','no', \"don't know\", 'refuse to answer']"
      ]
    },
    {
      "cell_type": "code",
      "execution_count": 48,
      "metadata": {
        "id": "L2nGA-6_SHI1"
      },
      "outputs": [],
      "source": [
        "school_attendance_rate = weighted_category_proportions2(df = df,\n",
        "                                                        var = 'HH_Educ02a',\n",
        "                                                        var_values = school_answer,\n",
        "                                                        weight = \"wgh_samp_resc_str\")"
      ]
    },
    {
      "cell_type": "code",
      "execution_count": 49,
      "metadata": {
        "colab": {
          "base_uri": "https://localhost:8080/"
        },
        "id": "C7Sd_IofTF9X",
        "outputId": "7dc1c59e-df18-432d-b98d-4c54e60573c2"
      },
      "outputs": [
        {
          "output_type": "execute_result",
          "data": {
            "text/plain": [
              "{'Host community North': {\"Don'T Know -----> (%)\": '0.0%',\n",
              "  'No -----> (%)': '52.9%',\n",
              "  'Yes -----> (%)': '47.0%'},\n",
              " 'Refugees': {\"Don'T Know -----> (%)\": '0.1%',\n",
              "  'No -----> (%)': '20.8%',\n",
              "  'Yes -----> (%)': '79.1%'}}"
            ]
          },
          "metadata": {},
          "execution_count": 49
        }
      ],
      "source": [
        "school_attendance_rate"
      ]
    },
    {
      "cell_type": "code",
      "execution_count": 50,
      "metadata": {
        "colab": {
          "base_uri": "https://localhost:8080/",
          "height": 295
        },
        "id": "k7KXomnlQ6qh",
        "outputId": "61aa3d35-e326-42c1-8010-831b7e7b09a6"
      },
      "outputs": [
        {
          "output_type": "display_data",
          "data": {
            "text/plain": [
              "<Figure size 800x300 with 1 Axes>"
            ],
            "image/png": "[encoded data removed]"
          },
          "metadata": {}
        }
      ],
      "source": [
        "# Prepare data\n",
        "groups = list(school_attendance_rate.keys())\n",
        "\n",
        "# Only keep 'Yes' and 'No'\n",
        "categories = ['No -----> (%)', 'Yes -----> (%)']\n",
        "\n",
        "data = []\n",
        "for group in groups:\n",
        "    values = [float(school_attendance_rate[group][cat].replace('%', '')) for cat in categories]\n",
        "    data.append(values)\n",
        "\n",
        "# Setup plot\n",
        "bar_height = 0.2\n",
        "y_pos = np.arange(len(groups))\n",
        "fig, ax = plt.subplots(figsize=(8, 3))\n",
        "\n",
        "# Colors\n",
        "colors = ['#1f77b4', '#aec7e8']  # No = dark blue, Yes = light blue\n",
        "\n",
        "# Plot stacked bars\n",
        "left = np.zeros(len(groups))\n",
        "for idx, category in enumerate(categories):\n",
        "    values = [data[group_idx][idx] for group_idx in range(len(groups))]\n",
        "    label = 'No' if 'No' in category else 'Yes'\n",
        "    ax.barh(y_pos, values, left=left, height=bar_height, label=label, color=colors[idx])\n",
        "    left += values\n",
        "\n",
        "# Decorate\n",
        "ax.set_yticks(y_pos)\n",
        "ax.set_yticklabels(groups)\n",
        "ax.set_xlim(0, 100)\n",
        "ax.set_xlabel('Primary and Secondary School Attendance Rate')\n",
        "ax.xaxis.set_major_formatter(plt.FuncFormatter(lambda x, _: f'{int(x)}%'))\n",
        "ax.spines['right'].set_visible(False)\n",
        "ax.spines['top'].set_visible(False)\n",
        "\n",
        "# Legend\n",
        "ax.legend(title='Response', loc='upper center', bbox_to_anchor=(0.5, 1.25),\n",
        "          ncol=2, frameon=False)\n",
        "\n",
        "plt.tight_layout(rect=[0, 0.05, 1, 1])  # Optional, leaves space for bottom text\n",
        "fig.text(0.01, 0.03, 'School Attendance Rate', ha='left', va='bottom', fontsize=10, fontweight='bold')\n",
        "\n",
        "plt.savefig('pri_sec_school_attendance.png', dpi=300, bbox_inches='tight')\n",
        "plt.show()\n"
      ]
    },
    {
      "cell_type": "markdown",
      "metadata": {
        "id": "1cuNozkZR9si"
      },
      "source": [
        "### School Attendance Among Children Aged 17 and Below\n",
        "\n",
        "School attendance among children aged 17 and below was notably higher among refugees than in the host community. While 79.1% of refugee children were attending primary or secondary school, only 47.0% of host community children were in school. Non-attendance was more common in the host community, where 52.9% of children were not enrolled, compared to 20.8% among refugee children."
      ]
    },
    {
      "cell_type": "code",
      "execution_count": 51,
      "metadata": {
        "colab": {
          "base_uri": "https://localhost:8080/"
        },
        "id": "SFUjBJUqez9c",
        "outputId": "1c3bc93a-28fa-45f8-f8bb-8058befb7e9c"
      },
      "outputs": [
        {
          "output_type": "stream",
          "name": "stdout",
          "text": [
            "['most of the year' nan 'half of the year' 'less than half of the year'\n",
            " \"don't know\"]\n"
          ]
        }
      ],
      "source": [
        "# Answers to the frequency the child attend school\n",
        "print(df['HH_Educ02b'].unique())\n",
        "school_attendance_rate_answer = ['most of the year','half of the year','less than half of the year', \"don't know\"]"
      ]
    },
    {
      "cell_type": "code",
      "execution_count": 52,
      "metadata": {
        "colab": {
          "base_uri": "https://localhost:8080/",
          "height": 418
        },
        "id": "ngJBjwP9fm0e",
        "outputId": "40518c5e-b9b5-462c-e90b-7840ac50d415"
      },
      "outputs": [
        {
          "output_type": "execute_result",
          "data": {
            "text/plain": [
              "                 Intro_07_1 admin0      admin1    ID  rosterposition  \\\n",
              "4222   Host community North    SSD  Upper Nile   593               5   \n",
              "12929  Host community North    SSD  Upper Nile  1802               4   \n",
              "12930  Host community North    SSD  Upper Nile  1802               5   \n",
              "\n",
              "                  HH_03   HH_02  ageYears  \\\n",
              "4222   biological child  Female        11   \n",
              "12929  biological child    Male        12   \n",
              "12930  biological child    Male        10   \n",
              "\n",
              "                                      HH_00 HH_00a_year  ...  HH_Educ18  \\\n",
              "4222           Always lived in host country         NaN  ...        NaN   \n",
              "12929  Has not always lived in host country      2019.0  ...        NaN   \n",
              "12930  Has not always lived in host country      2019.0  ...        NaN   \n",
              "\n",
              "      HH_Educ23  Dis_03  Dis_06 Dis_09 Dis_12 Dis_15 Dis_18 wgh_samp_resc_pop  \\\n",
              "4222        NaN     NaN     NaN    NaN    NaN    NaN    NaN          0.513402   \n",
              "12929       NaN     NaN     NaN    NaN    NaN    NaN    NaN          1.540206   \n",
              "12930       NaN     NaN     NaN    NaN    NaN    NaN    NaN          1.540206   \n",
              "\n",
              "      wgh_samp_resc_str  \n",
              "4222           0.513402  \n",
              "12929          1.540206  \n",
              "12930          1.540206  \n",
              "\n",
              "[3 rows x 74 columns]"
            ],
            "text/html": [
              "\n",
              "  <div id=\"df-1a541d51-e6f7-40a6-bb63-aeb00e70fadb\" class=\"colab-df-container\">\n",
              "    <div>\n",
              "<style scoped>\n",
              "    .dataframe tbody tr th:only-of-type {\n",
              "        vertical-align: middle;\n",
              "    }\n",
              "\n",
              "    .dataframe tbody tr th {\n",
              "        vertical-align: top;\n",
              "    }\n",
              "\n",
              "    .dataframe thead th {\n",
              "        text-align: right;\n",
              "    }\n",
              "</style>\n",
              "<table border=\"1\" class=\"dataframe\">\n",
              "  <thead>\n",
              "    <tr style=\"text-align: right;\">\n",
              "      <th></th>\n",
              "      <th>Intro_07_1</th>\n",
              "      <th>admin0</th>\n",
              "      <th>admin1</th>\n",
              "      <th>ID</th>\n",
              "      <th>rosterposition</th>\n",
              "      <th>HH_03</th>\n",
              "      <th>HH_02</th>\n",
              "      <th>ageYears</th>\n",
              "      <th>HH_00</th>\n",
              "      <th>HH_00a_year</th>\n",
              "      <th>...</th>\n",
              "      <th>HH_Educ18</th>\n",
              "      <th>HH_Educ23</th>\n",
              "      <th>Dis_03</th>\n",
              "      <th>Dis_06</th>\n",
              "      <th>Dis_09</th>\n",
              "      <th>Dis_12</th>\n",
              "      <th>Dis_15</th>\n",
              "      <th>Dis_18</th>\n",
              "      <th>wgh_samp_resc_pop</th>\n",
              "      <th>wgh_samp_resc_str</th>\n",
              "    </tr>\n",
              "  </thead>\n",
              "  <tbody>\n",
              "    <tr>\n",
              "      <th>4222</th>\n",
              "      <td>Host community North</td>\n",
              "      <td>SSD</td>\n",
              "      <td>Upper Nile</td>\n",
              "      <td>593</td>\n",
              "      <td>5</td>\n",
              "      <td>biological child</td>\n",
              "      <td>Female</td>\n",
              "      <td>11</td>\n",
              "      <td>Always lived in host country</td>\n",
              "      <td>NaN</td>\n",
              "      <td>...</td>\n",
              "      <td>NaN</td>\n",
              "      <td>NaN</td>\n",
              "      <td>NaN</td>\n",
              "      <td>NaN</td>\n",
              "      <td>NaN</td>\n",
              "      <td>NaN</td>\n",
              "      <td>NaN</td>\n",
              "      <td>NaN</td>\n",
              "      <td>0.513402</td>\n",
              "      <td>0.513402</td>\n",
              "    </tr>\n",
              "    <tr>\n",
              "      <th>12929</th>\n",
              "      <td>Host community North</td>\n",
              "      <td>SSD</td>\n",
              "      <td>Upper Nile</td>\n",
              "      <td>1802</td>\n",
              "      <td>4</td>\n",
              "      <td>biological child</td>\n",
              "      <td>Male</td>\n",
              "      <td>12</td>\n",
              "      <td>Has not always lived in host country</td>\n",
              "      <td>2019.0</td>\n",
              "      <td>...</td>\n",
              "      <td>NaN</td>\n",
              "      <td>NaN</td>\n",
              "      <td>NaN</td>\n",
              "      <td>NaN</td>\n",
              "      <td>NaN</td>\n",
              "      <td>NaN</td>\n",
              "      <td>NaN</td>\n",
              "      <td>NaN</td>\n",
              "      <td>1.540206</td>\n",
              "      <td>1.540206</td>\n",
              "    </tr>\n",
              "    <tr>\n",
              "      <th>12930</th>\n",
              "      <td>Host community North</td>\n",
              "      <td>SSD</td>\n",
              "      <td>Upper Nile</td>\n",
              "      <td>1802</td>\n",
              "      <td>5</td>\n",
              "      <td>biological child</td>\n",
              "      <td>Male</td>\n",
              "      <td>10</td>\n",
              "      <td>Has not always lived in host country</td>\n",
              "      <td>2019.0</td>\n",
              "      <td>...</td>\n",
              "      <td>NaN</td>\n",
              "      <td>NaN</td>\n",
              "      <td>NaN</td>\n",
              "      <td>NaN</td>\n",
              "      <td>NaN</td>\n",
              "      <td>NaN</td>\n",
              "      <td>NaN</td>\n",
              "      <td>NaN</td>\n",
              "      <td>1.540206</td>\n",
              "      <td>1.540206</td>\n",
              "    </tr>\n",
              "  </tbody>\n",
              "</table>\n",
              "<p>3 rows × 74 columns</p>\n",
              "</div>\n",
              "    <div class=\"colab-df-buttons\">\n",
              "\n",
              "  <div class=\"colab-df-container\">\n",
              "    <button class=\"colab-df-convert\" onclick=\"convertToInteractive('df-1a541d51-e6f7-40a6-bb63-aeb00e70fadb')\"\n",
              "            title=\"Convert this dataframe to an interactive table.\"\n",
              "            style=\"display:none;\">\n",
              "\n",
              "  <svg xmlns=\"http://www.w3.org/2000/svg\" height=\"24px\" viewBox=\"0 -960 960 960\">\n",
              "    <path d=\"M120-120v-720h720v720H120Zm60-500h600v-160H180v160Zm220 220h160v-160H400v160Zm0 220h160v-160H400v160ZM180-400h160v-160H180v160Zm440 0h160v-160H620v160ZM180-180h160v-160H180v160Zm440 0h160v-160H620v160Z\"/>\n",
              "  </svg>\n",
              "    </button>\n",
              "\n",
              "  <style>\n",
              "    .colab-df-container {\n",
              "      display:flex;\n",
              "      gap: 12px;\n",
              "    }\n",
              "\n",
              "    .colab-df-convert {\n",
              "      background-color: #E8F0FE;\n",
              "      border: none;\n",
              "      border-radius: 50%;\n",
              "      cursor: pointer;\n",
              "      display: none;\n",
              "      fill: #1967D2;\n",
              "      height: 32px;\n",
              "      padding: 0 0 0 0;\n",
              "      width: 32px;\n",
              "    }\n",
              "\n",
              "    .colab-df-convert:hover {\n",
              "      background-color: #E2EBFA;\n",
              "      box-shadow: 0px 1px 2px rgba(60, 64, 67, 0.3), 0px 1px 3px 1px rgba(60, 64, 67, 0.15);\n",
              "      fill: #174EA6;\n",
              "    }\n",
              "\n",
              "    .colab-df-buttons div {\n",
              "      margin-bottom: 4px;\n",
              "    }\n",
              "\n",
              "    [theme=dark] .colab-df-convert {\n",
              "      background-color: #3B4455;\n",
              "      fill: #D2E3FC;\n",
              "    }\n",
              "\n",
              "    [theme=dark] .colab-df-convert:hover {\n",
              "      background-color: #434B5C;\n",
              "      box-shadow: 0px 1px 3px 1px rgba(0, 0, 0, 0.15);\n",
              "      filter: drop-shadow(0px 1px 2px rgba(0, 0, 0, 0.3));\n",
              "      fill: #FFFFFF;\n",
              "    }\n",
              "  </style>\n",
              "\n",
              "    <script>\n",
              "      const buttonEl =\n",
              "        document.querySelector('#df-1a541d51-e6f7-40a6-bb63-aeb00e70fadb button.colab-df-convert');\n",
              "      buttonEl.style.display =\n",
              "        google.colab.kernel.accessAllowed ? 'block' : 'none';\n",
              "\n",
              "      async function convertToInteractive(key) {\n",
              "        const element = document.querySelector('#df-1a541d51-e6f7-40a6-bb63-aeb00e70fadb');\n",
              "        const dataTable =\n",
              "          await google.colab.kernel.invokeFunction('convertToInteractive',\n",
              "                                                    [key], {});\n",
              "        if (!dataTable) return;\n",
              "\n",
              "        const docLinkHtml = 'Like what you see? Visit the ' +\n",
              "          '<a target=\"_blank\" href=https://colab.research.google.com/notebooks/data_table.ipynb>data table notebook</a>'\n",
              "          + ' to learn more about interactive tables.';\n",
              "        element.innerHTML = '';\n",
              "        dataTable['output_type'] = 'display_data';\n",
              "        await google.colab.output.renderOutput(dataTable, element);\n",
              "        const docLink = document.createElement('div');\n",
              "        docLink.innerHTML = docLinkHtml;\n",
              "        element.appendChild(docLink);\n",
              "      }\n",
              "    </script>\n",
              "  </div>\n",
              "\n",
              "\n",
              "    <div id=\"df-ec1acc7d-f8d5-466c-b8af-7c10af5e1488\">\n",
              "      <button class=\"colab-df-quickchart\" onclick=\"quickchart('df-ec1acc7d-f8d5-466c-b8af-7c10af5e1488')\"\n",
              "                title=\"Suggest charts\"\n",
              "                style=\"display:none;\">\n",
              "\n",
              "<svg xmlns=\"http://www.w3.org/2000/svg\" height=\"24px\"viewBox=\"0 0 24 24\"\n",
              "     width=\"24px\">\n",
              "    <g>\n",
              "        <path d=\"M19 3H5c-1.1 0-2 .9-2 2v14c0 1.1.9 2 2 2h14c1.1 0 2-.9 2-2V5c0-1.1-.9-2-2-2zM9 17H7v-7h2v7zm4 0h-2V7h2v10zm4 0h-2v-4h2v4z\"/>\n",
              "    </g>\n",
              "</svg>\n",
              "      </button>\n",
              "\n",
              "<style>\n",
              "  .colab-df-quickchart {\n",
              "      --bg-color: #E8F0FE;\n",
              "      --fill-color: #1967D2;\n",
              "      --hover-bg-color: #E2EBFA;\n",
              "      --hover-fill-color: #174EA6;\n",
              "      --disabled-fill-color: #AAA;\n",
              "      --disabled-bg-color: #DDD;\n",
              "  }\n",
              "\n",
              "  [theme=dark] .colab-df-quickchart {\n",
              "      --bg-color: #3B4455;\n",
              "      --fill-color: #D2E3FC;\n",
              "      --hover-bg-color: #434B5C;\n",
              "      --hover-fill-color: #FFFFFF;\n",
              "      --disabled-bg-color: #3B4455;\n",
              "      --disabled-fill-color: #666;\n",
              "  }\n",
              "\n",
              "  .colab-df-quickchart {\n",
              "    background-color: var(--bg-color);\n",
              "    border: none;\n",
              "    border-radius: 50%;\n",
              "    cursor: pointer;\n",
              "    display: none;\n",
              "    fill: var(--fill-color);\n",
              "    height: 32px;\n",
              "    padding: 0;\n",
              "    width: 32px;\n",
              "  }\n",
              "\n",
              "  .colab-df-quickchart:hover {\n",
              "    background-color: var(--hover-bg-color);\n",
              "    box-shadow: 0 1px 2px rgba(60, 64, 67, 0.3), 0 1px 3px 1px rgba(60, 64, 67, 0.15);\n",
              "    fill: var(--button-hover-fill-color);\n",
              "  }\n",
              "\n",
              "  .colab-df-quickchart-complete:disabled,\n",
              "  .colab-df-quickchart-complete:disabled:hover {\n",
              "    background-color: var(--disabled-bg-color);\n",
              "    fill: var(--disabled-fill-color);\n",
              "    box-shadow: none;\n",
              "  }\n",
              "\n",
              "  .colab-df-spinner {\n",
              "    border: 2px solid var(--fill-color);\n",
              "    border-color: transparent;\n",
              "    border-bottom-color: var(--fill-color);\n",
              "    animation:\n",
              "      spin 1s steps(1) infinite;\n",
              "  }\n",
              "\n",
              "  @keyframes spin {\n",
              "    0% {\n",
              "      border-color: transparent;\n",
              "      border-bottom-color: var(--fill-color);\n",
              "      border-left-color: var(--fill-color);\n",
              "    }\n",
              "    20% {\n",
              "      border-color: transparent;\n",
              "      border-left-color: var(--fill-color);\n",
              "      border-top-color: var(--fill-color);\n",
              "    }\n",
              "    30% {\n",
              "      border-color: transparent;\n",
              "      border-left-color: var(--fill-color);\n",
              "      border-top-color: var(--fill-color);\n",
              "      border-right-color: var(--fill-color);\n",
              "    }\n",
              "    40% {\n",
              "      border-color: transparent;\n",
              "      border-right-color: var(--fill-color);\n",
              "      border-top-color: var(--fill-color);\n",
              "    }\n",
              "    60% {\n",
              "      border-color: transparent;\n",
              "      border-right-color: var(--fill-color);\n",
              "    }\n",
              "    80% {\n",
              "      border-color: transparent;\n",
              "      border-right-color: var(--fill-color);\n",
              "      border-bottom-color: var(--fill-color);\n",
              "    }\n",
              "    90% {\n",
              "      border-color: transparent;\n",
              "      border-bottom-color: var(--fill-color);\n",
              "    }\n",
              "  }\n",
              "</style>\n",
              "\n",
              "      <script>\n",
              "        async function quickchart(key) {\n",
              "          const quickchartButtonEl =\n",
              "            document.querySelector('#' + key + ' button');\n",
              "          quickchartButtonEl.disabled = true;  // To prevent multiple clicks.\n",
              "          quickchartButtonEl.classList.add('colab-df-spinner');\n",
              "          try {\n",
              "            const charts = await google.colab.kernel.invokeFunction(\n",
              "                'suggestCharts', [key], {});\n",
              "          } catch (error) {\n",
              "            console.error('Error during call to suggestCharts:', error);\n",
              "          }\n",
              "          quickchartButtonEl.classList.remove('colab-df-spinner');\n",
              "          quickchartButtonEl.classList.add('colab-df-quickchart-complete');\n",
              "        }\n",
              "        (() => {\n",
              "          let quickchartButtonEl =\n",
              "            document.querySelector('#df-ec1acc7d-f8d5-466c-b8af-7c10af5e1488 button');\n",
              "          quickchartButtonEl.style.display =\n",
              "            google.colab.kernel.accessAllowed ? 'block' : 'none';\n",
              "        })();\n",
              "      </script>\n",
              "    </div>\n",
              "\n",
              "    </div>\n",
              "  </div>\n"
            ],
            "application/vnd.google.colaboratory.intrinsic+json": {
              "type": "dataframe"
            }
          },
          "metadata": {},
          "execution_count": 52
        }
      ],
      "source": [
        "# “Only 1 respondent from the Host Community reported attending school less than half of the year. As such,\n",
        "#confidence intervals for this group are not available I will go ahead and gcombine this data in a merge dict to avoid\n",
        "#unstable estimates.”\n",
        "# There are also no don't know response from the refugee sample and only 3 from the refugee. I will group this in a merge dictonary\n",
        "df[(df['HH_Educ02b'] == \"don't know\") & (df['Intro_07_1'] == 'Host community North')]"
      ]
    },
    {
      "cell_type": "code",
      "execution_count": 53,
      "metadata": {
        "id": "TD03Jy7zghOI"
      },
      "outputs": [],
      "source": [
        "#Creating primary,secondary school attendance rate dict\n",
        "school_attendance_rate_dict = {'most of the year':'most of the year',\n",
        "                               'half of the year': \"less than most of the year or don't know\",\n",
        "                               'less than half of the year':\"less than most of the year or don't know\",\n",
        "                               \"don't know\":\"less than most of the year or don't know\"}"
      ]
    },
    {
      "cell_type": "code",
      "execution_count": 54,
      "metadata": {
        "id": "-WeVTTyzfJKI"
      },
      "outputs": [],
      "source": [
        "#Checking the rate difference between the communities\n",
        "school_attendance_frequency = weighted_category_proportions2(df = df,\n",
        "                                                          var = 'HH_Educ02b',\n",
        "                                                          var_values = school_attendance_rate_answer,\n",
        "                                                          weight = 'wgh_samp_resc_str',\n",
        "                                                             merge_dict = school_attendance_rate_dict)"
      ]
    },
    {
      "cell_type": "code",
      "execution_count": 55,
      "metadata": {
        "colab": {
          "base_uri": "https://localhost:8080/"
        },
        "id": "2u7-5TW-lspZ",
        "outputId": "dd1b3e15-1e72-43fa-ce20-c2a52f3b9187"
      },
      "outputs": [
        {
          "output_type": "execute_result",
          "data": {
            "text/plain": [
              "{'Host community North': {\"Less Than Most Of The Year Or Don'T Know -----> (%)\": '1.1%',\n",
              "  'Most Of The Year -----> (%)': '98.9%'},\n",
              " 'Refugees': {\"Less Than Most Of The Year Or Don'T Know -----> (%)\": '0.8%',\n",
              "  'Most Of The Year -----> (%)': '99.2%'}}"
            ]
          },
          "metadata": {},
          "execution_count": 55
        }
      ],
      "source": [
        "school_attendance_frequency"
      ]
    },
    {
      "cell_type": "code",
      "execution_count": 56,
      "metadata": {
        "colab": {
          "base_uri": "https://localhost:8080/",
          "height": 349
        },
        "id": "69l1_XU1TM7c",
        "outputId": "c1278d34-a4f3-4c63-b03c-b7b9bb3dad33"
      },
      "outputs": [
        {
          "output_type": "display_data",
          "data": {
            "text/plain": [
              "<Figure size 1400x500 with 2 Axes>"
            ],
            "image/png": "[encoded data removed]"
          },
          "metadata": {}
        }
      ],
      "source": [
        "# Categories\n",
        "categories = ['Most Of The Year', \"Less Than Most Of The Year Or Don'T Know\"]\n",
        "\n",
        "# Extract values\n",
        "host_values = [\n",
        "    float(school_attendance_frequency['Host community North']['Most Of The Year -----> (%)'].replace('%', '')),\n",
        "    float(school_attendance_frequency['Host community North'][\"Less Than Most Of The Year Or Don'T Know -----> (%)\"].replace('%', '')),\n",
        "\n",
        "]\n",
        "refugee_values = [\n",
        "    float(school_attendance_frequency['Refugees']['Most Of The Year -----> (%)'].replace('%', '')),\n",
        "    float(school_attendance_frequency['Refugees'][\"Less Than Most Of The Year Or Don'T Know -----> (%)\"].replace('%', '')),\n",
        "]\n",
        "\n",
        "# Reverse for top-down plotting\n",
        "categories = categories[::-1]\n",
        "host_values = host_values[::-1]\n",
        "refugee_values = refugee_values[::-1]\n",
        "\n",
        "# Plot\n",
        "fig, axes = plt.subplots(1, 2, figsize=(14, 5), sharey=True)\n",
        "\n",
        "# Custom premium colors\n",
        "color_host = '#aec7e8'    # soft light blue\n",
        "color_refugee = '#1f77b4' # deep bold blue\n",
        "\n",
        "# Host Community Plot\n",
        "axes[0].barh(categories, host_values, color=color_host)\n",
        "axes[0].set_title('Host community North')\n",
        "axes[0].set_xlim(0, 100)\n",
        "axes[0].xaxis.set_major_formatter(plt.FuncFormatter(lambda x, _: f'{int(x)}%'))\n",
        "axes[0].invert_yaxis()\n",
        "axes[0].xaxis.grid(True, linestyle='-', linewidth=0.1, color='gray')\n",
        "axes[0].set_axisbelow(True)\n",
        "\n",
        "# Refugee Plot\n",
        "axes[1].barh(categories, refugee_values, color=color_refugee)\n",
        "axes[1].set_title('Refugees')\n",
        "axes[1].set_xlim(0, 100)\n",
        "axes[1].xaxis.set_major_formatter(plt.FuncFormatter(lambda x, _: f'{int(x)}%'))\n",
        "axes[1].invert_yaxis()\n",
        "axes[1].xaxis.grid(True, linestyle='-', linewidth=0.1, color='gray')\n",
        "axes[1].set_axisbelow(True)\n",
        "\n",
        "# Add value labels at end of bars\n",
        "for ax, values in zip(axes, [host_values, refugee_values]):\n",
        "    for idx, value in enumerate(values):\n",
        "        ax.annotate(f'{value:.1f}%',\n",
        "                    xy=(value, idx),\n",
        "                    xytext=(2, 0),\n",
        "                    textcoords='offset points',\n",
        "                    va='center',\n",
        "                    ha='left',\n",
        "                    color='black',\n",
        "                    fontsize=9,\n",
        "                    fontweight='bold')\n",
        "\n",
        "# Layout and show\n",
        "plt.tight_layout()\n",
        "plt.savefig('frequency_school_attendance.png', dpi=300, bbox_inches='tight')\n",
        "plt.show()\n"
      ]
    },
    {
      "cell_type": "markdown",
      "metadata": {
        "id": "OD0CA79MUFQw"
      },
      "source": [
        "### School Attendance Frequency Among Children Aged 17 and Below\n",
        "\n",
        "Among children who were attending school, the majority in both groups attended most of the year. In the host community, 98.9% of school-attending children were present for most of the academic year, while 99.2% of refugee children did the same. Instances of attending less than most of the year or uncertainty about attendance were very low in both populations."
      ]
    },
    {
      "cell_type": "code",
      "execution_count": 57,
      "metadata": {
        "colab": {
          "base_uri": "https://localhost:8080/"
        },
        "id": "YCWW8sNcrDx9",
        "outputId": "89806685-b4ca-44d0-831b-e6c7963928b0"
      },
      "outputs": [
        {
          "output_type": "execute_result",
          "data": {
            "text/plain": [
              "array([ 4.,  1., nan,  3.,  2.,  7.,  5.,  8., 11.,  6.,  9., 10., 22.,\n",
              "       28., 29., 13., 12., 21., 23., 15., 24.])"
            ]
          },
          "metadata": {},
          "execution_count": 57
        }
      ],
      "source": [
        "# checking the students unique education grade levels\n",
        "df['HH_Educ03'].unique()\n"
      ]
    },
    {
      "cell_type": "code",
      "execution_count": 58,
      "metadata": {
        "colab": {
          "base_uri": "https://localhost:8080/"
        },
        "id": "G28vs2aEsd3j",
        "outputId": "02de4bc8-ba65-40d1-bdbf-efca28dc7411"
      },
      "outputs": [
        {
          "output_type": "execute_result",
          "data": {
            "text/plain": [
              "array([ 4.,  1.,  3.,  2.,  7.,  5.,  8., 11.,  6.,  9., 10., 22., 28.,\n",
              "       29., 13., 12., 21., 23., 15., 24.])"
            ]
          },
          "metadata": {},
          "execution_count": 58
        }
      ],
      "source": [
        "#creating education level dataset clean of null responses\n",
        "education_levels_df = df[df['HH_Educ03'].notna()].copy()\n",
        "education_levels_df['HH_Educ03'].unique()"
      ]
    },
    {
      "cell_type": "code",
      "execution_count": 59,
      "metadata": {
        "id": "Je-bLfcRtkje"
      },
      "outputs": [],
      "source": [
        "# A function to calculate expected grade from age\n",
        "def expected_grade(age):\n",
        "    if age >= 5:\n",
        "        return age - 4  # e.g., age 6 -> grade 1, age 7 -> grade 2, etc.\n",
        "    else:\n",
        "        return 0  # preschool or not yet in school\n"
      ]
    },
    {
      "cell_type": "code",
      "execution_count": 60,
      "metadata": {
        "id": "gPEOb01AtqJI"
      },
      "outputs": [],
      "source": [
        "# according to unicef South Sudan education budget brief 2019\n",
        "#https://www.mofep-grss.org/wp-content/uploads/2019/09/UNICEF-South-Sudan-2019-Education-Budget-Brief.pdf\n",
        "#\"Primary education generally starts at age 5–6 years...\"\n",
        "# That is the standard I will use\n",
        "education_levels_df['expected_grade'] = education_levels_df['ageYears'].apply(expected_grade)\n"
      ]
    },
    {
      "cell_type": "code",
      "execution_count": 61,
      "metadata": {
        "id": "TGqFnWOjt252"
      },
      "outputs": [],
      "source": [
        "education_levels_df['grade_delay'] = education_levels_df['expected_grade'] - education_levels_df['HH_Educ03']\n"
      ]
    },
    {
      "cell_type": "code",
      "execution_count": 62,
      "metadata": {
        "id": "zpb1cFSOvlmI"
      },
      "outputs": [],
      "source": [
        "# creating a categorical delay column\n",
        "def categorize_delay(delay):\n",
        "    if pd.isna(delay):\n",
        "        return np.nan\n",
        "    elif delay == 0:\n",
        "        return 'No delay'\n",
        "    elif delay > 0:\n",
        "        return 'Delayed'\n",
        "    else:\n",
        "        return 'Advanced'\n",
        "\n",
        "education_levels_df['delay_status'] = education_levels_df['grade_delay'].apply(categorize_delay)\n"
      ]
    },
    {
      "cell_type": "code",
      "execution_count": 63,
      "metadata": {
        "id": "LlBkTS8Sw_eD"
      },
      "outputs": [],
      "source": [
        "# Then get weighted proportions:\n",
        "var = 'delay_status'\n",
        "weight = 'wgh_samp_resc_str'\n",
        "var_values = ['Delayed', 'No delay', 'Advanced']  # All expected categories"
      ]
    },
    {
      "cell_type": "code",
      "execution_count": 64,
      "metadata": {
        "id": "vHWQt4Cpxaqt"
      },
      "outputs": [],
      "source": [
        "education_delay_rate = weighted_category_proportions2(\n",
        "    df=education_levels_df,\n",
        "    var=var,\n",
        "    weight=weight,\n",
        "    var_values=var_values\n",
        ")"
      ]
    },
    {
      "cell_type": "code",
      "execution_count": 65,
      "metadata": {
        "colab": {
          "base_uri": "https://localhost:8080/"
        },
        "id": "9j4wkGu3xmVp",
        "outputId": "f7a43b49-4c9c-4066-b36a-720a4fc782c5"
      },
      "outputs": [
        {
          "output_type": "execute_result",
          "data": {
            "text/plain": [
              "{'Host community North': {'Advanced -----> (%)': '2.6%',\n",
              "  'Delayed -----> (%)': '95.1%',\n",
              "  'No Delay -----> (%)': '2.3%'},\n",
              " 'Refugees': {'Advanced -----> (%)': '2.3%',\n",
              "  'Delayed -----> (%)': '96.9%',\n",
              "  'No Delay -----> (%)': '0.8%'}}"
            ]
          },
          "metadata": {},
          "execution_count": 65
        }
      ],
      "source": [
        "education_delay_rate"
      ]
    },
    {
      "cell_type": "code",
      "execution_count": 66,
      "metadata": {
        "id": "jmo4VY-yVlfy",
        "colab": {
          "base_uri": "https://localhost:8080/",
          "height": 539
        },
        "outputId": "6f1557fc-647a-4bbf-84ff-3b4454810a71"
      },
      "outputs": [
        {
          "output_type": "display_data",
          "data": {
            "text/plain": [
              "<Figure size 1200x600 with 2 Axes>"
            ],
            "image/png": "[encoded data removed]"
          },
          "metadata": {}
        }
      ],
      "source": [
        "# Simplify category names\n",
        "categories = ['Advanced', 'No Delay', 'Delayed']\n",
        "\n",
        "# Define colors\n",
        "colors = {\n",
        "    'Advanced': '#152745',\n",
        "    'No Delay': '#ADD8E6',\n",
        "    'Delayed': '#FFD700'\n",
        "}\n",
        "\n",
        "# Grid size\n",
        "n_rows, n_cols = 10, 10  # 100 dots\n",
        "groups = list(education_delay_rate.keys())\n",
        "\n",
        "# Create the figure and subplots\n",
        "fig, axes = plt.subplots(1, 2, figsize=(12, 6))\n",
        "fig.patch.set_facecolor('#152745')  # Set dark background\n",
        "\n",
        "for idx, group in enumerate(groups):\n",
        "    ax = axes[idx]\n",
        "    ax.set_facecolor('#152745')  # Set subplot background\n",
        "\n",
        "    # Convert percentage strings to integers (of dots)\n",
        "    values = education_delay_rate[group]\n",
        "    counts = {\n",
        "        cat: int(round(float(values[f'{cat} -----> (%)'].replace('%', ''))))\n",
        "        for cat in categories\n",
        "    }\n",
        "\n",
        "    # Adjust total to 100 if rounding causes errors\n",
        "    total = sum(counts.values())\n",
        "    if total != 100:\n",
        "        # Adjust the largest count\n",
        "        largest_cat = max(counts, key=counts.get)\n",
        "        counts[largest_cat] += (100 - total)\n",
        "\n",
        "    # Create flat list of categories\n",
        "    data = sum([[cat] * counts[cat] for cat in categories], [])\n",
        "    data = np.array(data).reshape((n_rows, n_cols))\n",
        "\n",
        "    # Plot the dots\n",
        "    for i in range(n_rows):\n",
        "        for j in range(n_cols):\n",
        "            label = data[i, j]\n",
        "            ax.scatter(j, n_rows - i - 1, color=colors[label], s=100, edgecolors='white', linewidth=0.5)\n",
        "\n",
        "    ax.set_xlim(-0.5, n_cols - 0.5)\n",
        "    ax.set_ylim(-0.5, n_rows - 0.5)\n",
        "    ax.set_aspect('equal')\n",
        "    ax.axis('off')\n",
        "    ax.set_title(group, fontsize=14, weight='bold', color='white')\n",
        "\n",
        "# Overall title\n",
        "fig.suptitle('Education Delay Rate', fontsize=18, weight='bold', color='white')\n",
        "\n",
        "# Custom legend\n",
        "custom_lines = [\n",
        "    plt.Line2D([0], [0], marker='o', color='w', markerfacecolor=colors[cat],\n",
        "               markersize=10, markeredgecolor='white')\n",
        "    for cat in categories\n",
        "]\n",
        "fig.legend(custom_lines, categories, loc='lower center', ncol=3, frameon=False, fontsize=12, labelcolor='white')\n",
        "\n",
        "plt.tight_layout(rect=[0, 0.05, 1, 0.95])\n",
        "plt.savefig('delay_rate_education.png', dpi=300, bbox_inches='tight')\n",
        "plt.show()\n"
      ]
    },
    {
      "cell_type": "markdown",
      "metadata": {
        "id": "1PgxsNp7WBF2"
      },
      "source": [
        "### Education Progress Status Among Children Aged 5–17 Years\n",
        "\n",
        "A large majority of children were reported as delayed in their education progress, with 95.1% of host community children and 96.9% of refugee children experiencing delays. Only a small proportion were progressing without delay—2.3% in the host community and 0.8% among refugees. Children who were advanced for their age were similarly few in both groups."
      ]
    },
    {
      "cell_type": "code",
      "execution_count": 67,
      "metadata": {
        "colab": {
          "base_uri": "https://localhost:8080/"
        },
        "id": "dy-rqUYtygYX",
        "outputId": "210f4915-a07b-435e-becb-c7e790339301"
      },
      "outputs": [
        {
          "output_type": "execute_result",
          "data": {
            "text/plain": [
              "array(['UN or NGO', nan, 'Government or Public',\n",
              "       'Religious or faith-based organization', 'Private', 'Community',\n",
              "       \"Don't know\", 'Other: specify'], dtype=object)"
            ]
          },
          "metadata": {},
          "execution_count": 67
        }
      ],
      "source": [
        "# Checking unique schools attended\n",
        "df['HH_Educ04a'].unique()"
      ]
    },
    {
      "cell_type": "code",
      "execution_count": 68,
      "metadata": {
        "id": "plA36c9vyuxq"
      },
      "outputs": [],
      "source": [
        "#calculating school type attended rate\n",
        "school_type_answer = ['UN or NGO','Government or Public','Religious or faith-based organization',\n",
        "                      'Private', 'Community',\"Don't know\", 'Other: specify']"
      ]
    },
    {
      "cell_type": "code",
      "execution_count": 69,
      "metadata": {
        "id": "fPxvUkE-zCBG"
      },
      "outputs": [],
      "source": [
        "school_type_rate = weighted_category_proportions2(df = df,\n",
        "                                                  var = 'HH_Educ04a',\n",
        "                                                  var_values = school_type_answer,\n",
        "                                                  weight = 'wgh_samp_resc_str')"
      ]
    },
    {
      "cell_type": "code",
      "execution_count": 70,
      "metadata": {
        "colab": {
          "base_uri": "https://localhost:8080/"
        },
        "id": "Gucf6-uXzIkf",
        "outputId": "4cfb2ec6-e247-4d78-cc51-8d415adb434c"
      },
      "outputs": [
        {
          "output_type": "execute_result",
          "data": {
            "text/plain": [
              "{'Host community North': {'Community -----> (%)': '0.2%',\n",
              "  \"Don'T Know -----> (%)\": '0.2%',\n",
              "  'Government Or Public -----> (%)': '54.8%',\n",
              "  'Other: Specify -----> (%)': '0.1%',\n",
              "  'Private -----> (%)': '8.9%',\n",
              "  'Religious Or Faith-Based Organization -----> (%)': '3.0%',\n",
              "  'Un Or Ngo -----> (%)': '32.9%'},\n",
              " 'Refugees': {'Community -----> (%)': '0.2%',\n",
              "  \"Don'T Know -----> (%)\": '0.0%',\n",
              "  'Government Or Public -----> (%)': '8.6%',\n",
              "  'Other: Specify -----> (%)': '0.0%',\n",
              "  'Private -----> (%)': '3.3%',\n",
              "  'Religious Or Faith-Based Organization -----> (%)': '2.3%',\n",
              "  'Un Or Ngo -----> (%)': '85.5%'}}"
            ]
          },
          "metadata": {},
          "execution_count": 70
        }
      ],
      "source": [
        "school_type_rate"
      ]
    },
    {
      "cell_type": "code",
      "execution_count": 71,
      "metadata": {
        "colab": {
          "base_uri": "https://localhost:8080/",
          "height": 403
        },
        "id": "J_yXR8J0WrQ1",
        "outputId": "0cea58f9-92e2-47ce-998a-d0f36d45085f"
      },
      "outputs": [
        {
          "output_type": "display_data",
          "data": {
            "text/plain": [
              "<Figure size 1000x450 with 1 Axes>"
            ],
            "image/png": "[encoded data removed]"
          },
          "metadata": {}
        }
      ],
      "source": [
        "# Categories in order you want\n",
        "categories = [\n",
        "    'Government Or Public',\n",
        "    'Un Or Ngo',\n",
        "    'Other: Specify',\n",
        "    'Community',\n",
        "    'Private',\n",
        "    'Religious Or Faith-Based Organization'\n",
        "]\n",
        "\n",
        "# Color mapping\n",
        "colors = {\n",
        "    'Government Or Public': '#152745',\n",
        "    'Un Or Ngo': '#0066b3',\n",
        "    'Other: Specify': '#FFD700',\n",
        "    'Community': '#00a89c',\n",
        "    'Private': '#7cd2c2',\n",
        "    'Religious Or Faith-Based Organization':'#a8c4e3'\n",
        "    }\n",
        "\n",
        "\n",
        "# Groups\n",
        "groups = ['Host community North', 'Refugees']\n",
        "\n",
        "# Prepare data\n",
        "group_data = {group: [] for group in groups}\n",
        "\n",
        "for group in groups:\n",
        "    for cat in categories:\n",
        "        key = f'{cat} -----> (%)'\n",
        "        if key in school_type_rate[group]:\n",
        "            val = float(school_type_rate[group][key].replace('%', ''))\n",
        "        else:\n",
        "            val = 0.0  # If missing, assume 0\n",
        "        group_data[group].append(val)\n",
        "\n",
        "# Plotting\n",
        "fig, ax = plt.subplots(figsize=(10, 4.5))  # Wide, not too tall\n",
        "\n",
        "y_pos = np.arange(len(groups))\n",
        "left = np.zeros(len(groups))\n",
        "bar_height = 0.2  # Thick bars\n",
        "\n",
        "for i, cat in enumerate(categories):\n",
        "    values = [group_data[group][i] for group in groups]\n",
        "    ax.barh(y_pos, values, left=left, color=colors[cat], label=cat, height=bar_height)\n",
        "    left += values\n",
        "\n",
        "# Aesthetics\n",
        "ax.set_yticks(y_pos)\n",
        "ax.set_yticklabels(groups, fontsize=11)\n",
        "ax.invert_yaxis()  # Top to bottom order\n",
        "ax.set_xlabel('Percentage (%)', fontsize=12)\n",
        "ax.set_xlim(0, 100)\n",
        "\n",
        "# Simple legend\n",
        "ax.legend(loc='lower center', bbox_to_anchor=(0.5, -0.45), ncol=2, frameon=False, fontsize=10)\n",
        "\n",
        "# Background and grid\n",
        "ax.set_facecolor('white')\n",
        "fig.patch.set_facecolor('white')\n",
        "ax.xaxis.grid(True, linestyle='-', alpha=0.1)\n",
        "\n",
        "# Layout\n",
        "plt.tight_layout()\n",
        "\n",
        "# Show plot\n",
        "plt.show()\n"
      ]
    },
    {
      "cell_type": "markdown",
      "metadata": {
        "id": "u06BOD5jYknU"
      },
      "source": [
        "### Type of School Attendance Among Children\n",
        "\n",
        "Among host community children, the majority attended government or public schools (54.8%), followed by UN or NGO-supported schools (32.9%). In contrast, most refugee children attended UN or NGO-supported schools (85.5%), with a much smaller share enrolled in government or public schools (8.6%). Attendance at private schools was relatively low for both groups but slightly higher among the host community (8.9%) compared to refugees (3.3%). Attendance at religious, community, or other types of schools remained very limited across both populations."
      ]
    },
    {
      "cell_type": "code",
      "execution_count": 72,
      "metadata": {
        "colab": {
          "base_uri": "https://localhost:8080/"
        },
        "id": "b1J3a7Gbzone",
        "outputId": "87f4b716-2e2c-4f83-9584-7cbbe5dbccdd"
      },
      "outputs": [
        {
          "output_type": "execute_result",
          "data": {
            "text/plain": [
              "array(['yes', nan, 'no', \"don't know\"], dtype=object)"
            ]
          },
          "metadata": {},
          "execution_count": 72
        }
      ],
      "source": [
        "# replies to if school is accepted by national authorities\n",
        "df[\"HH_Educ04b\"].unique()"
      ]
    },
    {
      "cell_type": "code",
      "execution_count": 73,
      "metadata": {
        "id": "62599nhbz3xs"
      },
      "outputs": [],
      "source": [
        "#checking the rate of attendance in both accepted and unaccepted\n",
        "school_n_acceptance_answer = ['yes', 'no', \"don't know\"]"
      ]
    },
    {
      "cell_type": "code",
      "execution_count": 74,
      "metadata": {
        "id": "kLsfazby0I3q"
      },
      "outputs": [],
      "source": [
        "attendance_n_accepted_rate = weighted_category_proportions2(df = df,\n",
        "                                                           var = 'HH_Educ04b',\n",
        "                                                           var_values = school_n_acceptance_answer,\n",
        "                                                           weight = 'wgh_samp_resc_str')"
      ]
    },
    {
      "cell_type": "code",
      "execution_count": 75,
      "metadata": {
        "colab": {
          "base_uri": "https://localhost:8080/"
        },
        "id": "zKRbTnFH0WZf",
        "outputId": "455aa32a-9a2d-4683-9114-3534be62a362"
      },
      "outputs": [
        {
          "output_type": "execute_result",
          "data": {
            "text/plain": [
              "{'Host community North': {\"Don'T Know -----> (%)\": '2.7%',\n",
              "  'No -----> (%)': '5.1%',\n",
              "  'Yes -----> (%)': '92.2%'},\n",
              " 'Refugees': {\"Don'T Know -----> (%)\": '0.6%',\n",
              "  'No -----> (%)': '2.3%',\n",
              "  'Yes -----> (%)': '97.1%'}}"
            ]
          },
          "metadata": {},
          "execution_count": 75
        }
      ],
      "source": [
        "attendance_n_accepted_rate"
      ]
    },
    {
      "cell_type": "code",
      "execution_count": 76,
      "metadata": {
        "colab": {
          "base_uri": "https://localhost:8080/",
          "height": 506
        },
        "id": "Unye46ghY3r5",
        "outputId": "e2766de2-ee08-4edd-d524-4822f61a8dc6"
      },
      "outputs": [
        {
          "output_type": "display_data",
          "data": {
            "text/plain": [
              "<Figure size 900x500 with 1 Axes>"
            ],
            "image/png": "[encoded data removed]"
          },
          "metadata": {}
        }
      ],
      "source": [
        "# Process data\n",
        "group_labels = ['Refugees North', 'Host community North']\n",
        "values_yes = [\n",
        "    float(attendance_n_accepted_rate['Refugees']['Yes -----> (%)'].replace('%', '')),\n",
        "    float(attendance_n_accepted_rate['Host community North']['Yes -----> (%)'].replace('%', ''))\n",
        "]\n",
        "values_no = [\n",
        "    float(attendance_n_accepted_rate['Refugees']['No -----> (%)'].replace('%', '')),\n",
        "    float(attendance_n_accepted_rate['Host community North']['No -----> (%)'].replace('%', ''))\n",
        "]\n",
        "\n",
        "# Reverse order for top-down\n",
        "values_yes = values_yes[::-1]\n",
        "values_no = values_no[::-1]\n",
        "group_labels = group_labels[::-1]\n",
        "\n",
        "# Plotting\n",
        "y = np.arange(len(group_labels))\n",
        "height = 0.35\n",
        "\n",
        "fig, ax = plt.subplots(figsize=(9, 5))\n",
        "\n",
        "# Custom premium colors\n",
        "deep_blue = '#1f77b4'    # Deep premium blue\n",
        "light_blue = '#aec7e8'   # Soft premium skyblue\n",
        "\n",
        "# Bars\n",
        "bars1 = ax.barh(y - height/2, values_yes, height, label='Accepted', color=deep_blue)\n",
        "bars2 = ax.barh(y + height/2, values_no, height, label='Not accepted', color=light_blue)\n",
        "\n",
        "# Labels\n",
        "ax.set_xlabel('Percentage')\n",
        "ax.set_yticks(y)\n",
        "ax.set_yticklabels(group_labels)\n",
        "ax.set_xlim(0, 100)\n",
        "ax.invert_yaxis()  # Highest at top\n",
        "ax.xaxis.set_major_formatter(plt.FuncFormatter(lambda x, _: f'{int(x)}%'))\n",
        "ax.legend(loc='upper center', bbox_to_anchor=(0.5, -0.15), ncol=2, frameon=False)\n",
        "\n",
        "# Grid lines\n",
        "ax.xaxis.grid(True, linestyle='--', linewidth=0.5, color='gray')\n",
        "ax.set_axisbelow(True)\n",
        "\n",
        "# Add percentages **right at the end** of bars\n",
        "for bars in [bars1, bars2]:\n",
        "    for bar in bars:\n",
        "        width_bar = bar.get_width()\n",
        "        # Tiny nudge to right (only 1 or 2 pixels) to avoid overlapping the bar end\n",
        "        ax.annotate(f'{width_bar:.1f}%',\n",
        "                    xy=(width_bar, bar.get_y() + bar.get_height()/2),\n",
        "                    xytext=(2, 0),   # Only 2 pixels to right\n",
        "                    textcoords='offset points',\n",
        "                    va='center',\n",
        "                    ha='left',\n",
        "                    color='black',\n",
        "                    fontsize=9,\n",
        "                    fontweight='bold')\n",
        "\n",
        "plt.tight_layout()\n",
        "plt.show()\n"
      ]
    },
    {
      "cell_type": "markdown",
      "metadata": {
        "id": "DMtLBbiWZmsK"
      },
      "source": [
        "## Recognition of School by National Authority\n",
        "\n",
        "A high proportion of both host community and refugee children attended schools recognized by the national authority. Among host community children, 92.2% were in recognized schools, while the proportion was even higher among refugee children at 97.1%. Conversely, a small share of children attended unrecognized schools, 5.1% in the host community and 2.3% among refugees."
      ]
    },
    {
      "cell_type": "code",
      "execution_count": 77,
      "metadata": {
        "colab": {
          "base_uri": "https://localhost:8080/"
        },
        "id": "mZigoY5400kM",
        "outputId": "ee446d3c-e777-4b59-ebf3-c0601dcf65a7"
      },
      "outputs": [
        {
          "output_type": "execute_result",
          "data": {
            "text/plain": [
              "array([nan, 'do not have interest', 'illness or disability',\n",
              "       'high costs for education. for instance, the following costs: fees, uniform, books, transport',\n",
              "       'security concerns for getting to school or at school',\n",
              "       'too old to continue', 'problem with birth certificate',\n",
              "       'pregnancy', 'school too far from home',\n",
              "       'parents think that educating girls is not important',\n",
              "       'too young to attend school', 'other: specify',\n",
              "       'death of parent(s)', 'had to work either outside home or at home',\n",
              "       'do not understand the language of instruction (language barrier)',\n",
              "       'had to look after children / other household members',\n",
              "       'teacher absenteeism', \"don't know\",\n",
              "       'poor quality of schools / education', 'marriage',\n",
              "       'experienced bullying / discrimination/ xenophobia from classmates',\n",
              "       'no admission in school', 'separation of parents',\n",
              "       'parents consider that school is not important',\n",
              "       'refuse to answer', 'dismissed / expelled',\n",
              "       'school conflicts with religious beliefs',\n",
              "       'no recognition of previous formal education'], dtype=object)"
            ]
          },
          "metadata": {},
          "execution_count": 77
        }
      ],
      "source": [
        "df['HH_Educ06'].unique()"
      ]
    },
    {
      "cell_type": "code",
      "execution_count": 78,
      "metadata": {
        "id": "TdXtd9211YMk"
      },
      "outputs": [],
      "source": [
        "reasons_not_going_school = ['do not have interest', 'illness or disability',\n",
        "       'high costs for education. for instance, the following costs: fees, uniform, books, transport',\n",
        "       'security concerns for getting to school or at school',\n",
        "       'too old to continue', 'problem with birth certificate',\n",
        "       'pregnancy', 'school too far from home',\n",
        "       'parents think that educating girls is not important',\n",
        "       'too young to attend school', 'other: specify',\n",
        "       'death of parent(s)', 'had to work either outside home or at home',\n",
        "       'do not understand the language of instruction (language barrier)',\n",
        "       'had to look after children / other household members',\n",
        "       'teacher absenteeism', \"don't know\",\n",
        "       'poor quality of schools / education', 'marriage',\n",
        "       'experienced bullying / discrimination/ xenophobia from classmates',\n",
        "       'no admission in school', 'separation of parents',\n",
        "       'parents consider that school is not important',\n",
        "       'refuse to answer', 'dismissed / expelled',\n",
        "       'school conflicts with religious beliefs',\n",
        "       'no recognition of previous formal education']"
      ]
    },
    {
      "cell_type": "code",
      "execution_count": 79,
      "metadata": {
        "id": "EcAUuPPU1giZ"
      },
      "outputs": [],
      "source": [
        "reasons_not_going_school_rates = weighted_category_proportions2(df = df,\n",
        "                                                                weight = weight,\n",
        "                                                                var = 'HH_Educ06',\n",
        "                                                                var_values = reasons_not_going_school)"
      ]
    },
    {
      "cell_type": "code",
      "execution_count": 80,
      "metadata": {
        "colab": {
          "base_uri": "https://localhost:8080/"
        },
        "id": "uMD_bv3114QT",
        "outputId": "3aa256be-4512-4980-ae45-89fa301aa497"
      },
      "outputs": [
        {
          "output_type": "execute_result",
          "data": {
            "text/plain": [
              "{'Host community North': {'Death Of Parent(S) -----> (%)': '1.2%',\n",
              "  'Do Not Have Interest -----> (%)': '8.0%',\n",
              "  'Do Not Understand The Language Of Instruction (Language Barrier) -----> (%)': '0.1%',\n",
              "  \"Don'T Know -----> (%)\": '0.6%',\n",
              "  'Had To Look After Children / Other Household Members -----> (%)': '3.2%',\n",
              "  'Had To Work Either Outside Home Or At Home -----> (%)': '0.7%',\n",
              "  'High Costs For Education. For Instance, The Following Costs: Fees, Uniform, Books, Transport -----> (%)': '35.0%',\n",
              "  'Illness Or Disability -----> (%)': '1.2%',\n",
              "  'Marriage -----> (%)': '0.4%',\n",
              "  'No Admission In School -----> (%)': '0.4%',\n",
              "  'Other: Specify -----> (%)': '5.6%',\n",
              "  'Parents Consider That School Is Not Important -----> (%)': '0.1%',\n",
              "  'Parents Think That Educating Girls Is Not Important -----> (%)': '0.1%',\n",
              "  'Poor Quality Of Schools / Education -----> (%)': '0.3%',\n",
              "  'Pregnancy -----> (%)': '0.1%',\n",
              "  'Problem With Birth Certificate -----> (%)': '0.0%',\n",
              "  'Refuse To Answer -----> (%)': '0.2%',\n",
              "  'School Too Far From Home -----> (%)': '28.7%',\n",
              "  'Security Concerns For Getting To School Or At School -----> (%)': '2.8%',\n",
              "  'Separation Of Parents -----> (%)': '0.2%',\n",
              "  'Teacher Absenteeism -----> (%)': '2.4%',\n",
              "  'Too Old To Continue -----> (%)': '0.4%',\n",
              "  'Too Young To Attend School -----> (%)': '8.0%'},\n",
              " 'Refugees': {'Death Of Parent(S) -----> (%)': '0.2%',\n",
              "  'Dismissed / Expelled -----> (%)': '0.1%',\n",
              "  'Do Not Have Interest -----> (%)': '21.1%',\n",
              "  'Do Not Understand The Language Of Instruction (Language Barrier) -----> (%)': '0.2%',\n",
              "  \"Don'T Know -----> (%)\": '1.6%',\n",
              "  'Experienced Bullying / Discrimination/ Xenophobia From Classmates -----> (%)': '0.3%',\n",
              "  'Had To Look After Children / Other Household Members -----> (%)': '2.3%',\n",
              "  'Had To Work Either Outside Home Or At Home -----> (%)': '2.5%',\n",
              "  'High Costs For Education. For Instance, The Following Costs: Fees, Uniform, Books, Transport -----> (%)': '31.9%',\n",
              "  'Illness Or Disability -----> (%)': '2.3%',\n",
              "  'Marriage -----> (%)': '1.1%',\n",
              "  'No Admission In School -----> (%)': '0.2%',\n",
              "  'No Recognition Of Previous Formal Education -----> (%)': '0.1%',\n",
              "  'Other: Specify -----> (%)': '10.9%',\n",
              "  'Parents Consider That School Is Not Important -----> (%)': '0.8%',\n",
              "  'Parents Think That Educating Girls Is Not Important -----> (%)': '0.3%',\n",
              "  'Poor Quality Of Schools / Education -----> (%)': '0.3%',\n",
              "  'Pregnancy -----> (%)': '2.4%',\n",
              "  'Problem With Birth Certificate -----> (%)': '0.5%',\n",
              "  'Refuse To Answer -----> (%)': '0.2%',\n",
              "  'School Conflicts With Religious Beliefs -----> (%)': '0.2%',\n",
              "  'School Too Far From Home -----> (%)': '2.4%',\n",
              "  'Security Concerns For Getting To School Or At School -----> (%)': '0.1%',\n",
              "  'Separation Of Parents -----> (%)': '0.5%',\n",
              "  'Teacher Absenteeism -----> (%)': '0.2%',\n",
              "  'Too Old To Continue -----> (%)': '0.5%',\n",
              "  'Too Young To Attend School -----> (%)': '16.8%'}}"
            ]
          },
          "metadata": {},
          "execution_count": 80
        }
      ],
      "source": [
        "reasons_not_going_school_rates"
      ]
    },
    {
      "cell_type": "code",
      "execution_count": 81,
      "metadata": {
        "colab": {
          "base_uri": "https://localhost:8080/",
          "height": 674
        },
        "id": "nB_7zujqbeVT",
        "outputId": "aa359f49-d9a3-42da-940a-1d4b99c230a4"
      },
      "outputs": [
        {
          "output_type": "display_data",
          "data": {
            "text/plain": [
              "<Figure size 1000x700 with 1 Axes>"
            ],
            "image/png": "[encoded data removed]"
          },
          "metadata": {}
        }
      ],
      "source": [
        "#Top 10 reasons data\n",
        "data = {\n",
        "    'Host community North': {\n",
        "        'High Costs For Education': '35.0%',\n",
        "        'School Too Far From Home': '28.7%',\n",
        "        'Do Not Have Interest': '8.0%',\n",
        "        'Too Young To Attend School': '8.0%',\n",
        "        'Other: Specify': '5.6%',\n",
        "        'Had To Look After Children': '3.2%',\n",
        "        'Security Concerns': '2.8%',\n",
        "        'Teacher Absenteeism': '2.4%',\n",
        "        'Illness Or Disability': '1.2%',\n",
        "        'Death Of Parent(S)': '1.2%',\n",
        "    },\n",
        "    'Refugees': {\n",
        "        'High Costs For Education': '31.9%',\n",
        "        'Do Not Have Interest': '21.1%',\n",
        "        'Too Young To Attend School': '16.8%',\n",
        "        'Other: Specify': '10.9%',\n",
        "        'Had To Work': '2.5%',\n",
        "        'Had To Look After Children': '2.3%',\n",
        "        'Illness Or Disability': '2.3%',\n",
        "        'Pregnancy': '2.4%',\n",
        "        'School Too Far From Home': '2.4%',\n",
        "    }\n",
        "}\n",
        "\n",
        "# Convert percentage strings to floats\n",
        "for group in data:\n",
        "    for reason in data[group]:\n",
        "        data[group][reason] = float(data[group][reason].replace('%', ''))\n",
        "\n",
        "# Create dataframe\n",
        "df1 = pd.DataFrame(data).fillna(0)\n",
        "\n",
        "# Sort by total impact (optional)\n",
        "df1['Total'] = df1.sum(axis=1)\n",
        "df1 = df1.sort_values('Total', ascending=True)\n",
        "df1.drop(columns='Total', inplace=True)\n",
        "\n",
        "# Plotting\n",
        "fig, ax = plt.subplots(figsize=(10, 7))\n",
        "\n",
        "df1.plot(kind='barh', ax=ax, color=['#1f77b4', '#aec7e8'])  # dark and light blue\n",
        "ax.set_xlabel('Percentage (%)')\n",
        "ax.set_title('Top Reasons for Not Attending School (≥10%)')\n",
        "plt.legend(title='Group')\n",
        "plt.tight_layout()\n",
        "plt.show()\n"
      ]
    },
    {
      "cell_type": "markdown",
      "metadata": {
        "id": "Wjp6oSWvb1Jy"
      },
      "source": [
        "## **Barriers to School Attendance Among Host and Refugee Children**\n",
        "\n",
        "**Financial burden** is the leading barrier to school attendance for both host communities and refugees, with more than 30% in each group citing the high costs of education—such as fees, uniforms, books, and transport—as a key reason.\n",
        "\n",
        "However, the nature of challenges diverges significantly between the two groups:\n",
        "\n",
        "- **Host communities** report much greater issues related to **infrastructure**, particularly the **distance to school** and **teacher absenteeism**. These challenges reflect more on service availability and accessibility than individual or household-level factors.\n",
        "  \n",
        "- In contrast, **refugees face a broader range of social and personal challenges**, including **low interest in education**, being **too young**, **illness or disability**, **work responsibilities**, and even **pregnancy**. These reasons point toward more complex systemic and psychosocial stressors affecting refugee children and their households.\n",
        "\n",
        "- The **host group’s reasons are more concentrated** around a few key issues—mainly financial and infrastructural—while **refugee reasons are more diversified**, suggesting that interventions for refugee communities need to be multifaceted and sensitive to social and emotional wellbeing.\n",
        "\n",
        "### Additional Low-Prevalence Reasons (Not Shown in Visuals)\n",
        "\n",
        "Though not visualized due to their lower frequency, both groups reported other barriers:\n",
        "\n",
        "- **Host community children** sometimes missed school due to **marriage**, **no admission**, **language barriers**, **parental separation**, **parents undervaluing education**, **administrative issues** (e.g., lack of birth certificates), and perceptions of being **too old**.\n",
        "\n",
        "- **Refugee children** faced unique additional barriers like **bullying or xenophobia**, being **dismissed or expelled**, **conflicts between school and religious beliefs**, **non-recognition of prior formal education**, and similar cultural or administrative obstacles.\n",
        "\n",
        "These lesser-reported reasons, while statistically minor, highlight underlying cultural, bureaucratic, and psychological dimensions that merit attention in policy and programming."
      ]
    },
    {
      "cell_type": "code",
      "execution_count": 82,
      "metadata": {
        "colab": {
          "base_uri": "https://localhost:8080/"
        },
        "id": "dS0DqEOTX0xz",
        "outputId": "d5aa44f7-fa43-4367-aa4c-87961bafc6e5"
      },
      "outputs": [
        {
          "output_type": "execute_result",
          "data": {
            "text/plain": [
              "array(['yes', nan, \"don't know\"], dtype=object)"
            ]
          },
          "metadata": {},
          "execution_count": 82
        }
      ],
      "source": [
        "# The column on if a child has ever gone to school has ambiguous codes which makes it difficult\n",
        "# to understand what they represent. I have tried checking with the column having response on\n",
        "#'if you are currently going to school Educ02a but its still incosistent.\n",
        "df[df['HH_Educ07'].isna()]['HH_Educ02a'].unique()"
      ]
    },
    {
      "cell_type": "code",
      "execution_count": 83,
      "metadata": {
        "colab": {
          "base_uri": "https://localhost:8080/"
        },
        "id": "_In-k5IZbnPM",
        "outputId": "d4b6201e-ce98-4672-cf01-37e6bf1cfe92"
      },
      "outputs": [
        {
          "output_type": "execute_result",
          "data": {
            "text/plain": [
              "array(['05', '04', nan, '06', '08', '07', '11', '09', '10', '13', '12',\n",
              "       '60 or more', '15', '14', 5.0, 6.0, 4.0, 7.0, 8.0, 10.0, 9.0, 11.0,\n",
              "       12.0, 13.0, 15.0, 14.0, 17.0, 16.0], dtype=object)"
            ]
          },
          "metadata": {},
          "execution_count": 83
        }
      ],
      "source": [
        "# checking responses of at what age child started going to school\n",
        "df['HH_Educ10'].unique()"
      ]
    },
    {
      "cell_type": "code",
      "execution_count": 84,
      "metadata": {
        "colab": {
          "base_uri": "https://localhost:8080/",
          "height": 182
        },
        "id": "qX1aATOccWub",
        "outputId": "d69a20a8-8c7a-49bc-f79b-1241aa1f53e1"
      },
      "outputs": [
        {
          "output_type": "execute_result",
          "data": {
            "text/plain": [
              "    Intro_07_1 admin0             admin1   ID  rosterposition         HH_03  \\\n",
              "819   Refugees    SSD  Western Equatoria  110               9  niece/nephew   \n",
              "\n",
              "      HH_02  ageYears                         HH_00 HH_00a_year  ...  \\\n",
              "819  Female        15  Always lived in host country         NaN  ...   \n",
              "\n",
              "     HH_Educ18 HH_Educ23  Dis_03  Dis_06 Dis_09 Dis_12 Dis_15 Dis_18  \\\n",
              "819        NaN       NaN     NaN     NaN    NaN    NaN    NaN    NaN   \n",
              "\n",
              "    wgh_samp_resc_pop wgh_samp_resc_str  \n",
              "819          0.250428          1.026042  \n",
              "\n",
              "[1 rows x 74 columns]"
            ],
            "text/html": [
              "\n",
              "  <div id=\"df-a50e8e08-a114-4ea9-802c-9e418eec7f19\" class=\"colab-df-container\">\n",
              "    <div>\n",
              "<style scoped>\n",
              "    .dataframe tbody tr th:only-of-type {\n",
              "        vertical-align: middle;\n",
              "    }\n",
              "\n",
              "    .dataframe tbody tr th {\n",
              "        vertical-align: top;\n",
              "    }\n",
              "\n",
              "    .dataframe thead th {\n",
              "        text-align: right;\n",
              "    }\n",
              "</style>\n",
              "<table border=\"1\" class=\"dataframe\">\n",
              "  <thead>\n",
              "    <tr style=\"text-align: right;\">\n",
              "      <th></th>\n",
              "      <th>Intro_07_1</th>\n",
              "      <th>admin0</th>\n",
              "      <th>admin1</th>\n",
              "      <th>ID</th>\n",
              "      <th>rosterposition</th>\n",
              "      <th>HH_03</th>\n",
              "      <th>HH_02</th>\n",
              "      <th>ageYears</th>\n",
              "      <th>HH_00</th>\n",
              "      <th>HH_00a_year</th>\n",
              "      <th>...</th>\n",
              "      <th>HH_Educ18</th>\n",
              "      <th>HH_Educ23</th>\n",
              "      <th>Dis_03</th>\n",
              "      <th>Dis_06</th>\n",
              "      <th>Dis_09</th>\n",
              "      <th>Dis_12</th>\n",
              "      <th>Dis_15</th>\n",
              "      <th>Dis_18</th>\n",
              "      <th>wgh_samp_resc_pop</th>\n",
              "      <th>wgh_samp_resc_str</th>\n",
              "    </tr>\n",
              "  </thead>\n",
              "  <tbody>\n",
              "    <tr>\n",
              "      <th>819</th>\n",
              "      <td>Refugees</td>\n",
              "      <td>SSD</td>\n",
              "      <td>Western Equatoria</td>\n",
              "      <td>110</td>\n",
              "      <td>9</td>\n",
              "      <td>niece/nephew</td>\n",
              "      <td>Female</td>\n",
              "      <td>15</td>\n",
              "      <td>Always lived in host country</td>\n",
              "      <td>NaN</td>\n",
              "      <td>...</td>\n",
              "      <td>NaN</td>\n",
              "      <td>NaN</td>\n",
              "      <td>NaN</td>\n",
              "      <td>NaN</td>\n",
              "      <td>NaN</td>\n",
              "      <td>NaN</td>\n",
              "      <td>NaN</td>\n",
              "      <td>NaN</td>\n",
              "      <td>0.250428</td>\n",
              "      <td>1.026042</td>\n",
              "    </tr>\n",
              "  </tbody>\n",
              "</table>\n",
              "<p>1 rows × 74 columns</p>\n",
              "</div>\n",
              "    <div class=\"colab-df-buttons\">\n",
              "\n",
              "  <div class=\"colab-df-container\">\n",
              "    <button class=\"colab-df-convert\" onclick=\"convertToInteractive('df-a50e8e08-a114-4ea9-802c-9e418eec7f19')\"\n",
              "            title=\"Convert this dataframe to an interactive table.\"\n",
              "            style=\"display:none;\">\n",
              "\n",
              "  <svg xmlns=\"http://www.w3.org/2000/svg\" height=\"24px\" viewBox=\"0 -960 960 960\">\n",
              "    <path d=\"M120-120v-720h720v720H120Zm60-500h600v-160H180v160Zm220 220h160v-160H400v160Zm0 220h160v-160H400v160ZM180-400h160v-160H180v160Zm440 0h160v-160H620v160ZM180-180h160v-160H180v160Zm440 0h160v-160H620v160Z\"/>\n",
              "  </svg>\n",
              "    </button>\n",
              "\n",
              "  <style>\n",
              "    .colab-df-container {\n",
              "      display:flex;\n",
              "      gap: 12px;\n",
              "    }\n",
              "\n",
              "    .colab-df-convert {\n",
              "      background-color: #E8F0FE;\n",
              "      border: none;\n",
              "      border-radius: 50%;\n",
              "      cursor: pointer;\n",
              "      display: none;\n",
              "      fill: #1967D2;\n",
              "      height: 32px;\n",
              "      padding: 0 0 0 0;\n",
              "      width: 32px;\n",
              "    }\n",
              "\n",
              "    .colab-df-convert:hover {\n",
              "      background-color: #E2EBFA;\n",
              "      box-shadow: 0px 1px 2px rgba(60, 64, 67, 0.3), 0px 1px 3px 1px rgba(60, 64, 67, 0.15);\n",
              "      fill: #174EA6;\n",
              "    }\n",
              "\n",
              "    .colab-df-buttons div {\n",
              "      margin-bottom: 4px;\n",
              "    }\n",
              "\n",
              "    [theme=dark] .colab-df-convert {\n",
              "      background-color: #3B4455;\n",
              "      fill: #D2E3FC;\n",
              "    }\n",
              "\n",
              "    [theme=dark] .colab-df-convert:hover {\n",
              "      background-color: #434B5C;\n",
              "      box-shadow: 0px 1px 3px 1px rgba(0, 0, 0, 0.15);\n",
              "      filter: drop-shadow(0px 1px 2px rgba(0, 0, 0, 0.3));\n",
              "      fill: #FFFFFF;\n",
              "    }\n",
              "  </style>\n",
              "\n",
              "    <script>\n",
              "      const buttonEl =\n",
              "        document.querySelector('#df-a50e8e08-a114-4ea9-802c-9e418eec7f19 button.colab-df-convert');\n",
              "      buttonEl.style.display =\n",
              "        google.colab.kernel.accessAllowed ? 'block' : 'none';\n",
              "\n",
              "      async function convertToInteractive(key) {\n",
              "        const element = document.querySelector('#df-a50e8e08-a114-4ea9-802c-9e418eec7f19');\n",
              "        const dataTable =\n",
              "          await google.colab.kernel.invokeFunction('convertToInteractive',\n",
              "                                                    [key], {});\n",
              "        if (!dataTable) return;\n",
              "\n",
              "        const docLinkHtml = 'Like what you see? Visit the ' +\n",
              "          '<a target=\"_blank\" href=https://colab.research.google.com/notebooks/data_table.ipynb>data table notebook</a>'\n",
              "          + ' to learn more about interactive tables.';\n",
              "        element.innerHTML = '';\n",
              "        dataTable['output_type'] = 'display_data';\n",
              "        await google.colab.output.renderOutput(dataTable, element);\n",
              "        const docLink = document.createElement('div');\n",
              "        docLink.innerHTML = docLinkHtml;\n",
              "        element.appendChild(docLink);\n",
              "      }\n",
              "    </script>\n",
              "  </div>\n",
              "\n",
              "\n",
              "    </div>\n",
              "  </div>\n"
            ],
            "application/vnd.google.colaboratory.intrinsic+json": {
              "type": "dataframe"
            }
          },
          "metadata": {},
          "execution_count": 84
        }
      ],
      "source": [
        "# Found an incosistent reponse of child of 15 years saying they started going to school at the age of 60 years or more\n",
        "df[(df['HH_Educ10'] ==  '60 or more' )]"
      ]
    },
    {
      "cell_type": "code",
      "execution_count": 85,
      "metadata": {
        "id": "uYyK529ec0Pm"
      },
      "outputs": [],
      "source": [
        "def checking_age_consistency(df,age_column,school_year_column):\n",
        "    \"\"\"\n",
        "    df - Dataframe containing the two columns\n",
        "    age_column - represents the age of the child\n",
        "    school_year_column - represents the reponse of the child to the question\n",
        "    when they started going to school\"\"\"\n",
        "    df = df.copy()\n",
        "    df[school_year_column] = df['HH_Educ10'].replace({'60 or more': '60'})\n",
        "    df = df.dropna(subset = [school_year_column,age_column])\n",
        "    df[school_year_column] = df[school_year_column].astype(int)\n",
        "    incosistent_data = pd.DataFrame()\n",
        "    df['range'] = df[age_column] - df[school_year_column]\n",
        "    for i in df['range']:\n",
        "      if i < 0:\n",
        "        incosistent_data = pd.concat([incosistent_data,df[df['range'] == i][[age_column,school_year_column]]])\n",
        "    return incosistent_data"
      ]
    },
    {
      "cell_type": "code",
      "execution_count": 86,
      "metadata": {
        "id": "V1oJbi0wfp-D"
      },
      "outputs": [],
      "source": [
        "inconsistent_data = checking_age_consistency(df = df,age_column = 'ageYears',school_year_column = 'HH_Educ10')"
      ]
    },
    {
      "cell_type": "code",
      "execution_count": 87,
      "metadata": {
        "colab": {
          "base_uri": "https://localhost:8080/",
          "height": 424
        },
        "id": "g5tdr5ZugWvZ",
        "outputId": "82a83622-7f64-401b-d4b2-73f9657cf91b"
      },
      "outputs": [
        {
          "output_type": "execute_result",
          "data": {
            "text/plain": [
              "       ageYears  HH_Educ10\n",
              "244           7          8\n",
              "477           3          4\n",
              "926           4          5\n",
              "1675          5          6\n",
              "2731         10         11\n",
              "...         ...        ...\n",
              "16382         8         10\n",
              "16648         8         10\n",
              "18035         7          9\n",
              "20428        11         13\n",
              "21025         8         10\n",
              "\n",
              "[997 rows x 2 columns]"
            ],
            "text/html": [
              "\n",
              "  <div id=\"df-cca9975f-831f-4310-9008-e419d2aecd77\" class=\"colab-df-container\">\n",
              "    <div>\n",
              "<style scoped>\n",
              "    .dataframe tbody tr th:only-of-type {\n",
              "        vertical-align: middle;\n",
              "    }\n",
              "\n",
              "    .dataframe tbody tr th {\n",
              "        vertical-align: top;\n",
              "    }\n",
              "\n",
              "    .dataframe thead th {\n",
              "        text-align: right;\n",
              "    }\n",
              "</style>\n",
              "<table border=\"1\" class=\"dataframe\">\n",
              "  <thead>\n",
              "    <tr style=\"text-align: right;\">\n",
              "      <th></th>\n",
              "      <th>ageYears</th>\n",
              "      <th>HH_Educ10</th>\n",
              "    </tr>\n",
              "  </thead>\n",
              "  <tbody>\n",
              "    <tr>\n",
              "      <th>244</th>\n",
              "      <td>7</td>\n",
              "      <td>8</td>\n",
              "    </tr>\n",
              "    <tr>\n",
              "      <th>477</th>\n",
              "      <td>3</td>\n",
              "      <td>4</td>\n",
              "    </tr>\n",
              "    <tr>\n",
              "      <th>926</th>\n",
              "      <td>4</td>\n",
              "      <td>5</td>\n",
              "    </tr>\n",
              "    <tr>\n",
              "      <th>1675</th>\n",
              "      <td>5</td>\n",
              "      <td>6</td>\n",
              "    </tr>\n",
              "    <tr>\n",
              "      <th>2731</th>\n",
              "      <td>10</td>\n",
              "      <td>11</td>\n",
              "    </tr>\n",
              "    <tr>\n",
              "      <th>...</th>\n",
              "      <td>...</td>\n",
              "      <td>...</td>\n",
              "    </tr>\n",
              "    <tr>\n",
              "      <th>16382</th>\n",
              "      <td>8</td>\n",
              "      <td>10</td>\n",
              "    </tr>\n",
              "    <tr>\n",
              "      <th>16648</th>\n",
              "      <td>8</td>\n",
              "      <td>10</td>\n",
              "    </tr>\n",
              "    <tr>\n",
              "      <th>18035</th>\n",
              "      <td>7</td>\n",
              "      <td>9</td>\n",
              "    </tr>\n",
              "    <tr>\n",
              "      <th>20428</th>\n",
              "      <td>11</td>\n",
              "      <td>13</td>\n",
              "    </tr>\n",
              "    <tr>\n",
              "      <th>21025</th>\n",
              "      <td>8</td>\n",
              "      <td>10</td>\n",
              "    </tr>\n",
              "  </tbody>\n",
              "</table>\n",
              "<p>997 rows × 2 columns</p>\n",
              "</div>\n",
              "    <div class=\"colab-df-buttons\">\n",
              "\n",
              "  <div class=\"colab-df-container\">\n",
              "    <button class=\"colab-df-convert\" onclick=\"convertToInteractive('df-cca9975f-831f-4310-9008-e419d2aecd77')\"\n",
              "            title=\"Convert this dataframe to an interactive table.\"\n",
              "            style=\"display:none;\">\n",
              "\n",
              "  <svg xmlns=\"http://www.w3.org/2000/svg\" height=\"24px\" viewBox=\"0 -960 960 960\">\n",
              "    <path d=\"M120-120v-720h720v720H120Zm60-500h600v-160H180v160Zm220 220h160v-160H400v160Zm0 220h160v-160H400v160ZM180-400h160v-160H180v160Zm440 0h160v-160H620v160ZM180-180h160v-160H180v160Zm440 0h160v-160H620v160Z\"/>\n",
              "  </svg>\n",
              "    </button>\n",
              "\n",
              "  <style>\n",
              "    .colab-df-container {\n",
              "      display:flex;\n",
              "      gap: 12px;\n",
              "    }\n",
              "\n",
              "    .colab-df-convert {\n",
              "      background-color: #E8F0FE;\n",
              "      border: none;\n",
              "      border-radius: 50%;\n",
              "      cursor: pointer;\n",
              "      display: none;\n",
              "      fill: #1967D2;\n",
              "      height: 32px;\n",
              "      padding: 0 0 0 0;\n",
              "      width: 32px;\n",
              "    }\n",
              "\n",
              "    .colab-df-convert:hover {\n",
              "      background-color: #E2EBFA;\n",
              "      box-shadow: 0px 1px 2px rgba(60, 64, 67, 0.3), 0px 1px 3px 1px rgba(60, 64, 67, 0.15);\n",
              "      fill: #174EA6;\n",
              "    }\n",
              "\n",
              "    .colab-df-buttons div {\n",
              "      margin-bottom: 4px;\n",
              "    }\n",
              "\n",
              "    [theme=dark] .colab-df-convert {\n",
              "      background-color: #3B4455;\n",
              "      fill: #D2E3FC;\n",
              "    }\n",
              "\n",
              "    [theme=dark] .colab-df-convert:hover {\n",
              "      background-color: #434B5C;\n",
              "      box-shadow: 0px 1px 3px 1px rgba(0, 0, 0, 0.15);\n",
              "      filter: drop-shadow(0px 1px 2px rgba(0, 0, 0, 0.3));\n",
              "      fill: #FFFFFF;\n",
              "    }\n",
              "  </style>\n",
              "\n",
              "    <script>\n",
              "      const buttonEl =\n",
              "        document.querySelector('#df-cca9975f-831f-4310-9008-e419d2aecd77 button.colab-df-convert');\n",
              "      buttonEl.style.display =\n",
              "        google.colab.kernel.accessAllowed ? 'block' : 'none';\n",
              "\n",
              "      async function convertToInteractive(key) {\n",
              "        const element = document.querySelector('#df-cca9975f-831f-4310-9008-e419d2aecd77');\n",
              "        const dataTable =\n",
              "          await google.colab.kernel.invokeFunction('convertToInteractive',\n",
              "                                                    [key], {});\n",
              "        if (!dataTable) return;\n",
              "\n",
              "        const docLinkHtml = 'Like what you see? Visit the ' +\n",
              "          '<a target=\"_blank\" href=https://colab.research.google.com/notebooks/data_table.ipynb>data table notebook</a>'\n",
              "          + ' to learn more about interactive tables.';\n",
              "        element.innerHTML = '';\n",
              "        dataTable['output_type'] = 'display_data';\n",
              "        await google.colab.output.renderOutput(dataTable, element);\n",
              "        const docLink = document.createElement('div');\n",
              "        docLink.innerHTML = docLinkHtml;\n",
              "        element.appendChild(docLink);\n",
              "      }\n",
              "    </script>\n",
              "  </div>\n",
              "\n",
              "\n",
              "    <div id=\"df-d644362b-9d46-4a5c-bc99-4a235433d78a\">\n",
              "      <button class=\"colab-df-quickchart\" onclick=\"quickchart('df-d644362b-9d46-4a5c-bc99-4a235433d78a')\"\n",
              "                title=\"Suggest charts\"\n",
              "                style=\"display:none;\">\n",
              "\n",
              "<svg xmlns=\"http://www.w3.org/2000/svg\" height=\"24px\"viewBox=\"0 0 24 24\"\n",
              "     width=\"24px\">\n",
              "    <g>\n",
              "        <path d=\"M19 3H5c-1.1 0-2 .9-2 2v14c0 1.1.9 2 2 2h14c1.1 0 2-.9 2-2V5c0-1.1-.9-2-2-2zM9 17H7v-7h2v7zm4 0h-2V7h2v10zm4 0h-2v-4h2v4z\"/>\n",
              "    </g>\n",
              "</svg>\n",
              "      </button>\n",
              "\n",
              "<style>\n",
              "  .colab-df-quickchart {\n",
              "      --bg-color: #E8F0FE;\n",
              "      --fill-color: #1967D2;\n",
              "      --hover-bg-color: #E2EBFA;\n",
              "      --hover-fill-color: #174EA6;\n",
              "      --disabled-fill-color: #AAA;\n",
              "      --disabled-bg-color: #DDD;\n",
              "  }\n",
              "\n",
              "  [theme=dark] .colab-df-quickchart {\n",
              "      --bg-color: #3B4455;\n",
              "      --fill-color: #D2E3FC;\n",
              "      --hover-bg-color: #434B5C;\n",
              "      --hover-fill-color: #FFFFFF;\n",
              "      --disabled-bg-color: #3B4455;\n",
              "      --disabled-fill-color: #666;\n",
              "  }\n",
              "\n",
              "  .colab-df-quickchart {\n",
              "    background-color: var(--bg-color);\n",
              "    border: none;\n",
              "    border-radius: 50%;\n",
              "    cursor: pointer;\n",
              "    display: none;\n",
              "    fill: var(--fill-color);\n",
              "    height: 32px;\n",
              "    padding: 0;\n",
              "    width: 32px;\n",
              "  }\n",
              "\n",
              "  .colab-df-quickchart:hover {\n",
              "    background-color: var(--hover-bg-color);\n",
              "    box-shadow: 0 1px 2px rgba(60, 64, 67, 0.3), 0 1px 3px 1px rgba(60, 64, 67, 0.15);\n",
              "    fill: var(--button-hover-fill-color);\n",
              "  }\n",
              "\n",
              "  .colab-df-quickchart-complete:disabled,\n",
              "  .colab-df-quickchart-complete:disabled:hover {\n",
              "    background-color: var(--disabled-bg-color);\n",
              "    fill: var(--disabled-fill-color);\n",
              "    box-shadow: none;\n",
              "  }\n",
              "\n",
              "  .colab-df-spinner {\n",
              "    border: 2px solid var(--fill-color);\n",
              "    border-color: transparent;\n",
              "    border-bottom-color: var(--fill-color);\n",
              "    animation:\n",
              "      spin 1s steps(1) infinite;\n",
              "  }\n",
              "\n",
              "  @keyframes spin {\n",
              "    0% {\n",
              "      border-color: transparent;\n",
              "      border-bottom-color: var(--fill-color);\n",
              "      border-left-color: var(--fill-color);\n",
              "    }\n",
              "    20% {\n",
              "      border-color: transparent;\n",
              "      border-left-color: var(--fill-color);\n",
              "      border-top-color: var(--fill-color);\n",
              "    }\n",
              "    30% {\n",
              "      border-color: transparent;\n",
              "      border-left-color: var(--fill-color);\n",
              "      border-top-color: var(--fill-color);\n",
              "      border-right-color: var(--fill-color);\n",
              "    }\n",
              "    40% {\n",
              "      border-color: transparent;\n",
              "      border-right-color: var(--fill-color);\n",
              "      border-top-color: var(--fill-color);\n",
              "    }\n",
              "    60% {\n",
              "      border-color: transparent;\n",
              "      border-right-color: var(--fill-color);\n",
              "    }\n",
              "    80% {\n",
              "      border-color: transparent;\n",
              "      border-right-color: var(--fill-color);\n",
              "      border-bottom-color: var(--fill-color);\n",
              "    }\n",
              "    90% {\n",
              "      border-color: transparent;\n",
              "      border-bottom-color: var(--fill-color);\n",
              "    }\n",
              "  }\n",
              "</style>\n",
              "\n",
              "      <script>\n",
              "        async function quickchart(key) {\n",
              "          const quickchartButtonEl =\n",
              "            document.querySelector('#' + key + ' button');\n",
              "          quickchartButtonEl.disabled = true;  // To prevent multiple clicks.\n",
              "          quickchartButtonEl.classList.add('colab-df-spinner');\n",
              "          try {\n",
              "            const charts = await google.colab.kernel.invokeFunction(\n",
              "                'suggestCharts', [key], {});\n",
              "          } catch (error) {\n",
              "            console.error('Error during call to suggestCharts:', error);\n",
              "          }\n",
              "          quickchartButtonEl.classList.remove('colab-df-spinner');\n",
              "          quickchartButtonEl.classList.add('colab-df-quickchart-complete');\n",
              "        }\n",
              "        (() => {\n",
              "          let quickchartButtonEl =\n",
              "            document.querySelector('#df-d644362b-9d46-4a5c-bc99-4a235433d78a button');\n",
              "          quickchartButtonEl.style.display =\n",
              "            google.colab.kernel.accessAllowed ? 'block' : 'none';\n",
              "        })();\n",
              "      </script>\n",
              "    </div>\n",
              "\n",
              "  <div id=\"id_80768214-aa38-4b91-9334-bd2be57cc353\">\n",
              "    <style>\n",
              "      .colab-df-generate {\n",
              "        background-color: #E8F0FE;\n",
              "        border: none;\n",
              "        border-radius: 50%;\n",
              "        cursor: pointer;\n",
              "        display: none;\n",
              "        fill: #1967D2;\n",
              "        height: 32px;\n",
              "        padding: 0 0 0 0;\n",
              "        width: 32px;\n",
              "      }\n",
              "\n",
              "      .colab-df-generate:hover {\n",
              "        background-color: #E2EBFA;\n",
              "        box-shadow: 0px 1px 2px rgba(60, 64, 67, 0.3), 0px 1px 3px 1px rgba(60, 64, 67, 0.15);\n",
              "        fill: #174EA6;\n",
              "      }\n",
              "\n",
              "      [theme=dark] .colab-df-generate {\n",
              "        background-color: #3B4455;\n",
              "        fill: #D2E3FC;\n",
              "      }\n",
              "\n",
              "      [theme=dark] .colab-df-generate:hover {\n",
              "        background-color: #434B5C;\n",
              "        box-shadow: 0px 1px 3px 1px rgba(0, 0, 0, 0.15);\n",
              "        filter: drop-shadow(0px 1px 2px rgba(0, 0, 0, 0.3));\n",
              "        fill: #FFFFFF;\n",
              "      }\n",
              "    </style>\n",
              "    <button class=\"colab-df-generate\" onclick=\"generateWithVariable('inconsistent_data')\"\n",
              "            title=\"Generate code using this dataframe.\"\n",
              "            style=\"display:none;\">\n",
              "\n",
              "  <svg xmlns=\"http://www.w3.org/2000/svg\" height=\"24px\"viewBox=\"0 0 24 24\"\n",
              "       width=\"24px\">\n",
              "    <path d=\"M7,19H8.4L18.45,9,17,7.55,7,17.6ZM5,21V16.75L18.45,3.32a2,2,0,0,1,2.83,0l1.4,1.43a1.91,1.91,0,0,1,.58,1.4,1.91,1.91,0,0,1-.58,1.4L9.25,21ZM18.45,9,17,7.55Zm-12,3A5.31,5.31,0,0,0,4.9,8.1,5.31,5.31,0,0,0,1,6.5,5.31,5.31,0,0,0,4.9,4.9,5.31,5.31,0,0,0,6.5,1,5.31,5.31,0,0,0,8.1,4.9,5.31,5.31,0,0,0,12,6.5,5.46,5.46,0,0,0,6.5,12Z\"/>\n",
              "  </svg>\n",
              "    </button>\n",
              "    <script>\n",
              "      (() => {\n",
              "      const buttonEl =\n",
              "        document.querySelector('#id_80768214-aa38-4b91-9334-bd2be57cc353 button.colab-df-generate');\n",
              "      buttonEl.style.display =\n",
              "        google.colab.kernel.accessAllowed ? 'block' : 'none';\n",
              "\n",
              "      buttonEl.onclick = () => {\n",
              "        google.colab.notebook.generateWithVariable('inconsistent_data');\n",
              "      }\n",
              "      })();\n",
              "    </script>\n",
              "  </div>\n",
              "\n",
              "    </div>\n",
              "  </div>\n"
            ],
            "application/vnd.google.colaboratory.intrinsic+json": {
              "type": "dataframe",
              "variable_name": "inconsistent_data",
              "summary": "{\n  \"name\": \"inconsistent_data\",\n  \"rows\": 997,\n  \"fields\": [\n    {\n      \"column\": \"ageYears\",\n      \"properties\": {\n        \"dtype\": \"number\",\n        \"std\": 2,\n        \"min\": 3,\n        \"max\": 15,\n        \"num_unique_values\": 12,\n        \"samples\": [\n          6,\n          15,\n          7\n        ],\n        \"semantic_type\": \"\",\n        \"description\": \"\"\n      }\n    },\n    {\n      \"column\": \"HH_Educ10\",\n      \"properties\": {\n        \"dtype\": \"number\",\n        \"std\": 3,\n        \"min\": 4,\n        \"max\": 60,\n        \"num_unique_values\": 14,\n        \"samples\": [\n          60,\n          16,\n          8\n        ],\n        \"semantic_type\": \"\",\n        \"description\": \"\"\n      }\n    }\n  ]\n}"
            }
          },
          "metadata": {},
          "execution_count": 87
        }
      ],
      "source": [
        "# This column has incosistent information which will not help us in our analysis\n",
        "# we have 997 inconsistent rows to this question(Educ10)\n",
        "inconsistent_data"
      ]
    },
    {
      "cell_type": "code",
      "execution_count": 88,
      "metadata": {
        "colab": {
          "base_uri": "https://localhost:8080/"
        },
        "id": "ckTRXBydg6nE",
        "outputId": "cc5b9702-807d-49da-d545-a790004085a7"
      },
      "outputs": [
        {
          "output_type": "execute_result",
          "data": {
            "text/plain": [
              "array(['no', nan, 'yes', \"don't know\"], dtype=object)"
            ]
          },
          "metadata": {},
          "execution_count": 88
        }
      ],
      "source": [
        "# those who have ever experienced interruptions while in school\n",
        "df['HH_Educ15a'].unique()"
      ]
    },
    {
      "cell_type": "code",
      "execution_count": 89,
      "metadata": {
        "id": "he2qnlCyj274"
      },
      "outputs": [],
      "source": [
        "interruptions_at_school_answer = ['no','yes', \"don't know\"]"
      ]
    },
    {
      "cell_type": "code",
      "execution_count": 90,
      "metadata": {
        "id": "fN5WGtUKkCiy"
      },
      "outputs": [],
      "source": [
        "interruptions_rate = weighted_category_proportions2(df = df,\n",
        "                                                  var = 'HH_Educ15a',\n",
        "                                                  var_values = interruptions_at_school_answer,\n",
        "                                                  weight = 'wgh_samp_resc_str')"
      ]
    },
    {
      "cell_type": "code",
      "execution_count": 91,
      "metadata": {
        "colab": {
          "base_uri": "https://localhost:8080/"
        },
        "id": "0oQMxOObkNTI",
        "outputId": "6dc0e085-d9f6-4a33-debc-91f317848a1e"
      },
      "outputs": [
        {
          "output_type": "execute_result",
          "data": {
            "text/plain": [
              "{'Host community North': {\"Don'T Know -----> (%)\": '0.2%',\n",
              "  'No -----> (%)': '81.1%',\n",
              "  'Yes -----> (%)': '18.7%'},\n",
              " 'Refugees': {\"Don'T Know -----> (%)\": '0.1%',\n",
              "  'No -----> (%)': '86.5%',\n",
              "  'Yes -----> (%)': '13.4%'}}"
            ]
          },
          "metadata": {},
          "execution_count": 91
        }
      ],
      "source": [
        "interruptions_rate"
      ]
    },
    {
      "cell_type": "code",
      "execution_count": 92,
      "metadata": {
        "colab": {
          "base_uri": "https://localhost:8080/",
          "height": 506
        },
        "id": "qIIIk8Snh4if",
        "outputId": "ed04410d-79b2-4c91-f7da-ff2070f0df2c"
      },
      "outputs": [
        {
          "output_type": "display_data",
          "data": {
            "text/plain": [
              "<Figure size 900x500 with 1 Axes>"
            ],
            "image/png": "[encoded data removed]"
          },
          "metadata": {}
        }
      ],
      "source": [
        "# Process data\n",
        "group_labels = ['Refugees North', 'Host community North']\n",
        "values_yes = [\n",
        "    float(interruptions_rate['Refugees']['Yes -----> (%)'].replace('%', '')),\n",
        "    float(interruptions_rate['Host community North']['Yes -----> (%)'].replace('%', ''))\n",
        "]\n",
        "values_no = [\n",
        "    float(interruptions_rate['Refugees']['No -----> (%)'].replace('%', '')),\n",
        "    float(interruptions_rate['Host community North']['No -----> (%)'].replace('%', ''))\n",
        "]\n",
        "\n",
        "# Reverse order for top-down\n",
        "values_yes = values_yes[::-1]\n",
        "values_no = values_no[::-1]\n",
        "group_labels = group_labels[::-1]\n",
        "\n",
        "# Plotting\n",
        "y = np.arange(len(group_labels))\n",
        "height = 0.35\n",
        "\n",
        "fig, ax = plt.subplots(figsize=(9, 5))\n",
        "\n",
        "# Custom premium colors\n",
        "deep_blue = '#1f77b4'    # Deep premium blue\n",
        "light_blue = '#aec7e8'   # Soft premium skyblue\n",
        "\n",
        "# Bars\n",
        "bars1 = ax.barh(y - height/2, values_yes, height, label='Interrupted', color=deep_blue)\n",
        "bars2 = ax.barh(y + height/2, values_no, height, label='Never Interrupted', color=light_blue)\n",
        "\n",
        "# Labels\n",
        "ax.set_xlabel('Percentage')\n",
        "ax.set_yticks(y)\n",
        "ax.set_yticklabels(group_labels)\n",
        "ax.set_xlim(0, 100)\n",
        "ax.invert_yaxis()  # Highest at top\n",
        "ax.xaxis.set_major_formatter(plt.FuncFormatter(lambda x, _: f'{int(x)}%'))\n",
        "ax.legend(loc='upper center', bbox_to_anchor=(0.5, -0.15), ncol=2, frameon=False)\n",
        "\n",
        "# Grid lines\n",
        "ax.xaxis.grid(True, linestyle='--', linewidth=0.1, color='gray')\n",
        "ax.set_axisbelow(True)\n",
        "\n",
        "# Add percentages **right at the end** of bars\n",
        "for bars in [bars1, bars2]:\n",
        "    for bar in bars:\n",
        "        width_bar = bar.get_width()\n",
        "        # Tiny nudge to right (only 1 or 2 pixels) to avoid overlapping the bar end\n",
        "        ax.annotate(f'{width_bar:.1f}%',\n",
        "                    xy=(width_bar, bar.get_y() + bar.get_height()/2),\n",
        "                    xytext=(2, 0),   # Only 2 pixels to right\n",
        "                    textcoords='offset points',\n",
        "                    va='center',\n",
        "                    ha='left',\n",
        "                    color='black',\n",
        "                    fontsize=9,\n",
        "                    fontweight='bold')\n",
        "\n",
        "plt.tight_layout()\n",
        "plt.show()\n"
      ]
    },
    {
      "cell_type": "markdown",
      "metadata": {
        "id": "_To9JFCdg00Q"
      },
      "source": [
        "### School Interruption Experiences\n",
        "About 1 in 5 children (18.7%) in the host community reported having their schooling interrupted. A large majority in both groups reported no interruption—81.1% of host children and 86.5% of refugees. Host children are more likely than refugee children to experience schooling interruptions."
      ]
    },
    {
      "cell_type": "code",
      "execution_count": 93,
      "metadata": {
        "colab": {
          "base_uri": "https://localhost:8080/"
        },
        "id": "oh6Z7XPSiAQU",
        "outputId": "30d0a1db-6569-4962-8813-bdaa87d22d37"
      },
      "outputs": [
        {
          "output_type": "execute_result",
          "data": {
            "text/plain": [
              "array([nan, 'Illness or disability',\n",
              "       'Security concerns (getting to school, or at school)', 'Pregnancy',\n",
              "       'High costs', 'Dismissed/Expelled', 'Stopped having interest',\n",
              "       'Other', 'Teacher absenteeism',\n",
              "       'Had to work either outside home or at home',\n",
              "       'Separation of parents', 'Marriage', 'Death of parent(s)',\n",
              "       'Had to look after children/other household members',\n",
              "       'Refuse to answer', 'Poor quality of schools/education',\n",
              "       'School too far from home',\n",
              "       'Did not understand the language of instruction',\n",
              "       'No recognition of previous formal education', 'Don’t know',\n",
              "       'Parents think that educating girls is not important',\n",
              "       'No admission in school',\n",
              "       'Parents consider that school is not important',\n",
              "       'Problem with birth certificate',\n",
              "       'Experienced bullying/discrimination/xenophobia from classmates'],\n",
              "      dtype=object)"
            ]
          },
          "metadata": {},
          "execution_count": 93
        }
      ],
      "source": [
        "df['HH_Educ16'].unique()"
      ]
    },
    {
      "cell_type": "code",
      "execution_count": 94,
      "metadata": {
        "id": "k9TdkfhZnsO5"
      },
      "outputs": [],
      "source": [
        "reasons_for_last_school_interruption = ['Illness or disability',\n",
        "       'Security concerns (getting to school, or at school)', 'Pregnancy',\n",
        "       'High costs', 'Dismissed/Expelled', 'Stopped having interest',\n",
        "       'Other', 'Teacher absenteeism',\n",
        "       'Had to work either outside home or at home',\n",
        "       'Separation of parents', 'Marriage', 'Death of parent(s)',\n",
        "       'Had to look after children/other household members',\n",
        "       'Refuse to answer', 'Poor quality of schools/education',\n",
        "       'School too far from home',\n",
        "       'Did not understand the language of instruction',\n",
        "       'No recognition of previous formal education', 'Don’t know',\n",
        "       'Parents think that educating girls is not important',\n",
        "       'No admission in school',\n",
        "       'Parents consider that school is not important',\n",
        "       'Problem with birth certificate',\n",
        "       'Experienced bullying/discrimination/xenophobia from classmates']"
      ]
    },
    {
      "cell_type": "code",
      "execution_count": 95,
      "metadata": {
        "id": "oRI-IQ52n4oQ"
      },
      "outputs": [],
      "source": [
        "rate_for_each_interruption = weighted_category_proportions2(df=df,\n",
        "                                                            var='HH_Educ16',\n",
        "                                                            var_values = reasons_for_last_school_interruption,\n",
        "                                                            weight = weight)"
      ]
    },
    {
      "cell_type": "code",
      "execution_count": 96,
      "metadata": {
        "colab": {
          "base_uri": "https://localhost:8080/"
        },
        "collapsed": true,
        "id": "G2PpsqCFoTZq",
        "outputId": "cfc16e18-d76c-4d69-ad62-41ddb1f71f97"
      },
      "outputs": [
        {
          "output_type": "execute_result",
          "data": {
            "text/plain": [
              "{'Host community North': {'Death Of Parent(S) -----> (%)': '1.6%',\n",
              "  'Dismissed/Expelled -----> (%)': '0.7%',\n",
              "  'Don’T Know -----> (%)': '1.3%',\n",
              "  'Had To Look After Children/Other Household Members -----> (%)': '1.8%',\n",
              "  'Had To Work Either Outside Home Or At Home -----> (%)': '0.4%',\n",
              "  'High Costs -----> (%)': '46.9%',\n",
              "  'Illness Or Disability -----> (%)': '9.7%',\n",
              "  'Marriage -----> (%)': '1.6%',\n",
              "  'No Admission In School -----> (%)': '0.2%',\n",
              "  'Other -----> (%)': '7.7%',\n",
              "  'Parents Think That Educating Girls Is Not Important -----> (%)': '0.6%',\n",
              "  'Poor Quality Of Schools/Education -----> (%)': '1.0%',\n",
              "  'Pregnancy -----> (%)': '0.4%',\n",
              "  'School Too Far From Home -----> (%)': '6.2%',\n",
              "  'Security Concerns (Getting To School, Or At School) -----> (%)': '6.0%',\n",
              "  'Separation Of Parents -----> (%)': '0.3%',\n",
              "  'Stopped Having Interest -----> (%)': '5.0%',\n",
              "  'Teacher Absenteeism -----> (%)': '8.8%'},\n",
              " 'Refugees': {'Death Of Parent(S) -----> (%)': '0.7%',\n",
              "  'Did Not Understand The Language Of Instruction -----> (%)': '0.2%',\n",
              "  'Dismissed/Expelled -----> (%)': '0.4%',\n",
              "  'Don’T Know -----> (%)': '0.1%',\n",
              "  'Experienced Bullying/Discrimination/Xenophobia From Classmates -----> (%)': '0.2%',\n",
              "  'Had To Look After Children/Other Household Members -----> (%)': '2.5%',\n",
              "  'Had To Work Either Outside Home Or At Home -----> (%)': '1.2%',\n",
              "  'High Costs -----> (%)': '39.8%',\n",
              "  'Illness Or Disability -----> (%)': '8.3%',\n",
              "  'Marriage -----> (%)': '1.4%',\n",
              "  'No Admission In School -----> (%)': '0.1%',\n",
              "  'No Recognition Of Previous Formal Education -----> (%)': '0.1%',\n",
              "  'Other -----> (%)': '20.0%',\n",
              "  'Parents Consider That School Is Not Important -----> (%)': '0.8%',\n",
              "  'Poor Quality Of Schools/Education -----> (%)': '0.9%',\n",
              "  'Pregnancy -----> (%)': '3.9%',\n",
              "  'Problem With Birth Certificate -----> (%)': '0.1%',\n",
              "  'Refuse To Answer -----> (%)': '0.2%',\n",
              "  'School Too Far From Home -----> (%)': '0.2%',\n",
              "  'Security Concerns (Getting To School, Or At School) -----> (%)': '5.7%',\n",
              "  'Separation Of Parents -----> (%)': '0.9%',\n",
              "  'Stopped Having Interest -----> (%)': '11.7%',\n",
              "  'Teacher Absenteeism -----> (%)': '0.5%'}}"
            ]
          },
          "metadata": {},
          "execution_count": 96
        }
      ],
      "source": [
        "rate_for_each_interruption"
      ]
    },
    {
      "cell_type": "code",
      "execution_count": 97,
      "metadata": {
        "colab": {
          "base_uri": "https://localhost:8080/",
          "height": 578
        },
        "id": "h4-YsV9jjRdY",
        "outputId": "f07e37a5-e4a0-4efa-ef2d-ed9d9f0e1bae"
      },
      "outputs": [
        {
          "output_type": "display_data",
          "data": {
            "text/plain": [
              "<Figure size 1000x600 with 1 Axes>"
            ],
            "image/png": "[encoded data removed]"
          },
          "metadata": {}
        }
      ],
      "source": [
        "# Data from your dictionary (simplified and cleaned)\n",
        "host_reasons = {\n",
        "    'High Costs': 46.9,\n",
        "    'Illness or Disability': 9.7,\n",
        "    'Teacher Absenteeism': 8.8,\n",
        "    'Other': 7.7,\n",
        "    'School Too Far From Home': 6.2\n",
        "}\n",
        "\n",
        "refugee_reasons = {\n",
        "    'High Costs': 39.8,\n",
        "    'Stopped Having Interest': 11.7,\n",
        "    'Other': 20.0,\n",
        "    'Illness or Disability': 8.3,\n",
        "    'Security Concerns': 5.7\n",
        "}\n",
        "\n",
        "# Sorting and aligning categories\n",
        "categories = sorted(set(host_reasons) | set(refugee_reasons))\n",
        "host_values = [host_reasons.get(cat, 0) for cat in categories]\n",
        "refugee_values = [refugee_reasons.get(cat, 0) for cat in categories]\n",
        "\n",
        "# Plotting\n",
        "fig, ax = plt.subplots(figsize=(10, 6))\n",
        "bar_width = 0.4\n",
        "x = range(len(categories))\n",
        "\n",
        "ax.barh([i + bar_width/2 for i in x], host_values, height=bar_width, label='Host Community', color='#aec7e8')\n",
        "ax.barh([i - bar_width/2 for i in x], refugee_values, height=bar_width, label='Refugees', color='#1f77b4')\n",
        "\n",
        "# Labels and styling\n",
        "ax.set_xlabel('Percentage (%)')\n",
        "ax.set_title('Top Reasons for Last School Interruption')\n",
        "ax.set_yticks(x)\n",
        "ax.set_yticklabels(categories)\n",
        "ax.invert_yaxis()  # highest values on top\n",
        "ax.legend()\n",
        "plt.tight_layout()\n",
        "plt.show()\n"
      ]
    },
    {
      "cell_type": "markdown",
      "metadata": {
        "id": "jFnnLPwDk2D6"
      },
      "source": [
        "## **Top Reasons for Last School Interruption**\n",
        "\n",
        "The top reasons for the most recent school interruption differ notably between host communities and refugee populations, highlighting both shared and distinct barriers to sustained education.\n",
        "\n",
        "- **High costs** dominate in both groups, cited by nearly **1 in 2 host children (47%)** and **2 in 5 refugee children (40%)**. This underscores the heavy financial burden of education across contexts.\n",
        "  \n",
        "- Among **host community children**, the next leading reasons were:\n",
        "  - **Illness or disability** (10%)\n",
        "  - **Teacher absenteeism** (9%)\n",
        "  - **Other unspecified reasons** (8%)\n",
        "  - **School being too far** (6%)\n",
        "\n",
        "- In contrast, **refugee children** reported:\n",
        "  - A significantly higher share citing **\"Other\" reasons** (20%), indicating diverse and possibly unclassified disruptions.\n",
        "  - **Loss of interest in school** (12%)—a notable psychosocial factor.\n",
        "  - **Illness or disability** (8%) and **security concerns** (6%) also featured prominently.\n",
        "\n",
        "### Key Observations:\n",
        "\n",
        "- While **financial hardship** is a common top issue, **host children experience more structural issues**—such as teacher absenteeism and distance to school—suggesting systemic gaps in service provision.\n",
        "  \n",
        "- **Refugee children report more personal or psychosocial barriers**, including lack of motivation and general uncertainty (\"other\"), reflecting the complex challenges of displacement and instability.\n",
        "\n",
        "- The **\"Other\" category for refugees** is particularly high (1 in 5), which may reflect unspoken or hard-to-classify hardships, such as trauma, documentation problems, or unrecognized educational histories.\n",
        "\n",
        "### Additional Factors (Low Prevalence):\n",
        "\n",
        "Although not dominant, other reasons for school interruption included:\n",
        "- **Pregnancy, marriage, and childcare duties**\n",
        "- **Work responsibilities inside or outside the home**\n",
        "- **Discrimination, language barriers, lack of admission, and parent attitudes**\n",
        "- **Security threats or school quality concerns**\n",
        "\n",
        "These less frequently cited barriers still matter—especially for vulnerable subgroups—and should not be overlooked in programming or policy design. Together, they highlight the **multifaceted nature of educational disruptions**."
      ]
    },
    {
      "cell_type": "code",
      "execution_count": 98,
      "metadata": {
        "colab": {
          "base_uri": "https://localhost:8080/"
        },
        "id": "NJiAluTLpkab",
        "outputId": "e616752b-17a9-44a6-ad57-7d9c47df01a0"
      },
      "outputs": [
        {
          "output_type": "execute_result",
          "data": {
            "text/plain": [
              "array([nan, 'no', 'yes'], dtype=object)"
            ]
          },
          "metadata": {},
          "execution_count": 98
        }
      ],
      "source": [
        "# checking uniques answers to reading or writing simple text\n",
        "df['HH_Educ23'].unique()"
      ]
    },
    {
      "cell_type": "code",
      "execution_count": 99,
      "metadata": {
        "id": "b4xoXwAapw5t"
      },
      "outputs": [],
      "source": [
        "write_or_read_answers = ['no', 'yes']"
      ]
    },
    {
      "cell_type": "code",
      "execution_count": 100,
      "metadata": {
        "id": "y2O7nYzMp8b2"
      },
      "outputs": [],
      "source": [
        "#Checking literacy rate among children\n",
        "literacy_rate = weighted_category_proportions2(df = df,\n",
        "                                              var = 'HH_Educ23',\n",
        "                                              var_values = write_or_read_answers,\n",
        "                                              weight = 'wgh_samp_resc_str')"
      ]
    },
    {
      "cell_type": "code",
      "execution_count": 101,
      "metadata": {
        "colab": {
          "base_uri": "https://localhost:8080/"
        },
        "id": "vA9TbuxTqGUF",
        "outputId": "15054379-f5d7-499c-90f5-5c7082f1f994"
      },
      "outputs": [
        {
          "output_type": "execute_result",
          "data": {
            "text/plain": [
              "{'Host community North': {'No -----> (%)': '99.9%', 'Yes -----> (%)': '0.1%'},\n",
              " 'Refugees': {'No -----> (%)': '99.7%', 'Yes -----> (%)': '0.3%'}}"
            ]
          },
          "metadata": {},
          "execution_count": 101
        }
      ],
      "source": [
        "literacy_rate"
      ]
    },
    {
      "cell_type": "code",
      "execution_count": 102,
      "metadata": {
        "colab": {
          "base_uri": "https://localhost:8080/",
          "height": 407
        },
        "id": "R8jIO-X1l2hR",
        "outputId": "0e066766-2663-4430-e6c7-3a405e236264"
      },
      "outputs": [
        {
          "output_type": "display_data",
          "data": {
            "text/plain": [
              "<Figure size 800x400 with 1 Axes>"
            ],
            "image/png": "[encoded data removed]"
          },
          "metadata": {}
        }
      ],
      "source": [
        "# Illiteracy data\n",
        "illiteracy_data = {\n",
        "    'Host community North': 99.9,\n",
        "    'Refugees': 99.7\n",
        "}\n",
        "\n",
        "# Styling\n",
        "bar_color = '#1f77b4'  # blue\n",
        "labels = list(illiteracy_data.keys())\n",
        "values = list(illiteracy_data.values())\n",
        "\n",
        "# Plot\n",
        "fig, ax = plt.subplots(figsize=(8, 4))\n",
        "bars = ax.barh(labels, values, color=bar_color)\n",
        "\n",
        "# Add percentage labels on bars\n",
        "for bar in bars:\n",
        "    width = bar.get_width()\n",
        "    label_x = width - 5 if width > 10 else width + 1  # Inside if wide enough\n",
        "    ax.text(label_x, bar.get_y() + bar.get_height()/2,\n",
        "            f'{width:.1f}%', va='center', ha='right' if width > 10 else 'left',\n",
        "            color='white' if width > 10 else 'black', fontsize=12, fontweight='bold')\n",
        "\n",
        "# Clean up axes\n",
        "ax.set_xlim(0, 105)\n",
        "ax.set_xticks([])  # No x-axis ticks\n",
        "ax.set_xlabel('')  # No axis label\n",
        "ax.set_title('Children Unable to Read or Write a Simple Text', fontsize=14, fontweight='bold')\n",
        "ax.spines['right'].set_visible(False)\n",
        "ax.spines['top'].set_visible(False)\n",
        "ax.spines['left'].set_linewidth(0.8)\n",
        "ax.spines['bottom'].set_visible(False)\n",
        "ax.grid(False)\n",
        "\n",
        "plt.tight_layout()\n",
        "plt.show()\n"
      ]
    },
    {
      "cell_type": "code",
      "execution_count": 102,
      "metadata": {
        "id": "yhOtJBOamAC3"
      },
      "outputs": [],
      "source": []
    },
    {
      "cell_type": "markdown",
      "metadata": {
        "id": "9IfBwD44mAzc"
      },
      "source": [
        "### Literacy Rate Analysis\n",
        "Both groups show extremely high illiteracy rates, with over 99% of children unable to read or write a simple text.\n",
        "\n",
        "In the host community, only 0.1% of children are literate, meaning 99.9% are not.\n",
        "\n",
        "Among refugees, 0.3% are literate, with 99.7% unable to read or write.\n",
        "\n",
        "These figures reflect a widespread lack of basic literacy skills across both populations."
      ]
    },
    {
      "cell_type": "code",
      "execution_count": 103,
      "metadata": {
        "colab": {
          "base_uri": "https://localhost:8080/"
        },
        "id": "jD8_NFsXqqWW",
        "outputId": "769438a6-ece8-4668-faf4-b579c87e5503"
      },
      "outputs": [
        {
          "output_type": "stream",
          "name": "stdout",
          "text": [
            "<class 'pandas.core.frame.DataFrame'>\n",
            "Index: 12479 entries, 3 to 22091\n",
            "Data columns (total 74 columns):\n",
            " #   Column             Non-Null Count  Dtype  \n",
            "---  ------             --------------  -----  \n",
            " 0   Intro_07_1         12479 non-null  object \n",
            " 1   admin0             12479 non-null  object \n",
            " 2   admin1             11962 non-null  object \n",
            " 3   ID                 12479 non-null  int64  \n",
            " 4   rosterposition     12479 non-null  int64  \n",
            " 5   HH_03              12463 non-null  object \n",
            " 6   HH_02              12474 non-null  object \n",
            " 7   ageYears           12479 non-null  int64  \n",
            " 8   HH_00              12478 non-null  object \n",
            " 9   HH_00a_year        521 non-null    object \n",
            " 10  HH_00a_month       525 non-null    float64\n",
            " 11  HH_00b_year        1 non-null      object \n",
            " 12  HH_00b_month       0 non-null      float64\n",
            " 13  HH_11a             8046 non-null   float64\n",
            " 14  HH_11b             32 non-null     object \n",
            " 15  HH_13              12401 non-null  object \n",
            " 16  ID_00              1775 non-null   object \n",
            " 17  ID_01a             578 non-null    object \n",
            " 18  ID_01b             1044 non-null   object \n",
            " 19  ID_02              953 non-null    object \n",
            " 20  ID_03              908 non-null    object \n",
            " 21  ID_04              22 non-null     object \n",
            " 22  ID_05              758 non-null    object \n",
            " 23  ID_06              42 non-null     object \n",
            " 24  ID_06b             639 non-null    object \n",
            " 25  ID_07              759 non-null    object \n",
            " 26  ID_08              350 non-null    object \n",
            " 27  ID_09              1196 non-null   object \n",
            " 28  ID_10              930 non-null    object \n",
            " 29  ID_11              587 non-null    object \n",
            " 30  ID_VAR             12383 non-null  float64\n",
            " 31  HH_06              12379 non-null  object \n",
            " 32  HH_06_specify      3166 non-null   object \n",
            " 33  HH_07a             3664 non-null   object \n",
            " 34  HH_07b             1028 non-null   object \n",
            " 35  HH_08              5005 non-null   object \n",
            " 36  HH_09              103 non-null    object \n",
            " 37  HH_16              50 non-null     object \n",
            " 38  HH_18              8418 non-null   object \n",
            " 39  HH_19              7173 non-null   object \n",
            " 40  HH_21              12374 non-null  object \n",
            " 41  HH_22              6782 non-null   object \n",
            " 42  HH_23              0 non-null      float64\n",
            " 43  HH_25              12375 non-null  object \n",
            " 44  HH_26              0 non-null      float64\n",
            " 45  HH_27              872 non-null    object \n",
            " 46  HH_28              40 non-null     float64\n",
            " 47  HH_29              40 non-null     object \n",
            " 48  HH_Educ00          5197 non-null   object \n",
            " 49  HH_Educ01          1787 non-null   float64\n",
            " 50  HH_Educ02a         7766 non-null   object \n",
            " 51  HH_Educ02b         5316 non-null   object \n",
            " 52  HH_Educ02c         5316 non-null   object \n",
            " 53  HH_Educ03          5316 non-null   float64\n",
            " 54  HH_Educ04a         5316 non-null   object \n",
            " 55  HH_Educ04b         4297 non-null   object \n",
            " 56  HH_Educ05          7757 non-null   object \n",
            " 57  HH_Educ06          2439 non-null   object \n",
            " 58  HH_Educ07          2447 non-null   float64\n",
            " 59  HH_Educ10          5887 non-null   object \n",
            " 60  HH_Educ15a         5891 non-null   object \n",
            " 61  HH_Educ15b         850 non-null    object \n",
            " 62  HH_Educ16          849 non-null    object \n",
            " 63  HH_Educ17          253 non-null    object \n",
            " 64  HH_Educ18          575 non-null    object \n",
            " 65  HH_Educ23          1871 non-null   object \n",
            " 66  Dis_03             12479 non-null  object \n",
            " 67  Dis_06             146 non-null    object \n",
            " 68  Dis_09             81 non-null     object \n",
            " 69  Dis_12             55 non-null     object \n",
            " 70  Dis_15             34 non-null     object \n",
            " 71  Dis_18             52 non-null     object \n",
            " 72  wgh_samp_resc_pop  12479 non-null  float64\n",
            " 73  wgh_samp_resc_str  12479 non-null  float64\n",
            "dtypes: float64(12), int64(3), object(59)\n",
            "memory usage: 7.1+ MB\n"
          ]
        }
      ],
      "source": [
        "# difficulty seeing\n",
        "#\"Respondents with no recorded disability were assumed not to have one,\n",
        "# based on the survey’s skip patterns and the structure of the data.\n",
        "df['Dis_03'] = df['Dis_03'].fillna('no difficulty')\n",
        "df.info()"
      ]
    },
    {
      "cell_type": "code",
      "execution_count": 104,
      "metadata": {
        "colab": {
          "base_uri": "https://localhost:8080/"
        },
        "id": "OQyh6h9Y-uL3",
        "outputId": "ca5ae3d8-7287-42f1-968d-1343bf0e3675"
      },
      "outputs": [
        {
          "output_type": "execute_result",
          "data": {
            "text/plain": [
              "array(['no difficulty', 'a lot of difficulty', 'some difficulty',\n",
              "       \"don't know\", 'cannot do at all'], dtype=object)"
            ]
          },
          "metadata": {},
          "execution_count": 104
        }
      ],
      "source": [
        "df['Dis_03'].unique()"
      ]
    },
    {
      "cell_type": "code",
      "execution_count": 105,
      "metadata": {
        "id": "v6T7NABwrISM"
      },
      "outputs": [],
      "source": [
        "#calculate rate at which children have difficulty seeing\n",
        "difficulty_seeing = ['no difficulty', 'a lot of difficulty', 'some difficulty',\"don't know\", 'cannot do at all']\n",
        "difficulty_seeing_rate = weighted_category_proportions2(df = df,\n",
        "                                                        var = 'Dis_03',\n",
        "                                                        var_values = difficulty_seeing,\n",
        "                                                        weight = 'wgh_samp_resc_str')"
      ]
    },
    {
      "cell_type": "code",
      "execution_count": 106,
      "metadata": {
        "colab": {
          "base_uri": "https://localhost:8080/"
        },
        "id": "H36DERfQ8jqq",
        "outputId": "17ce4ad0-d0d6-4949-f1aa-8ac63205d651"
      },
      "outputs": [
        {
          "output_type": "execute_result",
          "data": {
            "text/plain": [
              "array(['no difficulty', 'a lot of difficulty', 'some difficulty',\n",
              "       \"don't know\", 'cannot do at all'], dtype=object)"
            ]
          },
          "metadata": {},
          "execution_count": 106
        }
      ],
      "source": [
        "df['Dis_03'].unique()"
      ]
    },
    {
      "cell_type": "code",
      "execution_count": 107,
      "metadata": {
        "colab": {
          "base_uri": "https://localhost:8080/"
        },
        "id": "sEZ1z-bZ_K7T",
        "outputId": "0bc1505c-440c-4568-fc42-73b62d9a3a91"
      },
      "outputs": [
        {
          "output_type": "execute_result",
          "data": {
            "text/plain": [
              "{'Host community North': {'A Lot Of Difficulty -----> (%)': '0.4%',\n",
              "  'Cannot Do At All -----> (%)': '0.0%',\n",
              "  'No Difficulty -----> (%)': '99.3%',\n",
              "  'Some Difficulty -----> (%)': '0.3%'},\n",
              " 'Refugees': {'A Lot Of Difficulty -----> (%)': '0.6%',\n",
              "  'Cannot Do At All -----> (%)': '0.0%',\n",
              "  \"Don'T Know -----> (%)\": '0.0%',\n",
              "  'No Difficulty -----> (%)': '98.8%',\n",
              "  'Some Difficulty -----> (%)': '0.6%'}}"
            ]
          },
          "metadata": {},
          "execution_count": 107
        }
      ],
      "source": [
        "difficulty_seeing_rate"
      ]
    },
    {
      "cell_type": "code",
      "execution_count": 108,
      "metadata": {
        "colab": {
          "base_uri": "https://localhost:8080/",
          "height": 403
        },
        "id": "f9Ly1DGjoQMI",
        "outputId": "c04e6859-4cc5-4d62-d666-2da927d56671"
      },
      "outputs": [
        {
          "output_type": "display_data",
          "data": {
            "text/plain": [
              "<Figure size 1000x450 with 1 Axes>"
            ],
            "image/png": "[encoded data removed]"
          },
          "metadata": {}
        }
      ],
      "source": [
        "# Categories in order you want\n",
        "categories = [\n",
        "    'No Difficulty',\n",
        "    'Some Difficulty',\n",
        "    'A Lot Of Difficulty'\n",
        "]\n",
        "\n",
        "# Color mapping\n",
        "colors = {\n",
        "    'No Difficulty': '#152745',\n",
        "    'Some Difficulty': '#0066b3',\n",
        "    'A Lot Of Difficulty': '#a8c4e3'\n",
        "}\n",
        "\n",
        "\n",
        "# Groups\n",
        "groups = ['Host community North', 'Refugees']\n",
        "\n",
        "# Prepare data\n",
        "group_data = {group: [] for group in groups}\n",
        "\n",
        "for group in groups:\n",
        "    for cat in categories:\n",
        "        key = f'{cat} -----> (%)'\n",
        "        if key in difficulty_seeing_rate[group]:\n",
        "            val = float(difficulty_seeing_rate[group][key].replace('%', ''))\n",
        "        else:\n",
        "            val = 0.0  # If missing, assume 0\n",
        "        group_data[group].append(val)\n",
        "\n",
        "# Plotting\n",
        "fig, ax = plt.subplots(figsize=(10, 4.5))  # Wide, not too tall\n",
        "\n",
        "y_pos = np.arange(len(groups))\n",
        "left = np.zeros(len(groups))\n",
        "bar_height = 0.2  # Thick bars\n",
        "\n",
        "for i, cat in enumerate(categories):\n",
        "    values = [group_data[group][i] for group in groups]\n",
        "    ax.barh(y_pos, values, left=left, color=colors[cat], label=cat, height=bar_height)\n",
        "    left += values\n",
        "\n",
        "# Aesthetics\n",
        "ax.set_yticks(y_pos)\n",
        "ax.set_yticklabels(groups, fontsize=11)\n",
        "ax.invert_yaxis()  # Top to bottom order\n",
        "ax.set_xlabel('Percentage (%)', fontsize=12)\n",
        "ax.set_xlim(0, 100)\n",
        "\n",
        "# Simple legend\n",
        "ax.legend(loc='lower center', bbox_to_anchor=(0.5, -0.45), ncol=2, frameon=False, fontsize=10)\n",
        "\n",
        "# Background and grid\n",
        "ax.set_facecolor('white')\n",
        "fig.patch.set_facecolor('white')\n",
        "ax.xaxis.grid(True, linestyle='-', alpha=0.1)\n",
        "\n",
        "# Layout\n",
        "plt.tight_layout()\n",
        "\n",
        "# Show plot\n",
        "plt.show()\n"
      ]
    },
    {
      "cell_type": "markdown",
      "metadata": {
        "id": "tgByNBE-pl-M"
      },
      "source": [
        "## **Visual Disability Analysis – Sight**\n",
        "\n",
        "Most children in both groups report no visual impairments.\n",
        "\n",
        "- In the **host community**, **99.3%** have no difficulty seeing, while a very small proportion report **some (0.3%)** or **a lot of difficulty (0.4%)**.\n",
        "- Among **refugees**, **98.8%** report no difficulty, with **0.6%** experiencing **some** and another **0.6% a lot** of difficulty seeing.\n",
        "\n",
        "Overall, visual disability is **rare** in both groups, affecting **less than 1%** of children."
      ]
    },
    {
      "cell_type": "code",
      "execution_count": 109,
      "metadata": {
        "colab": {
          "base_uri": "https://localhost:8080/"
        },
        "id": "tZ9JdFsOAIkm",
        "outputId": "4e5e7300-ecdf-4079-c0ff-af652e55f6a1"
      },
      "outputs": [
        {
          "output_type": "execute_result",
          "data": {
            "text/plain": [
              "array(['no difficulty', 'a lot of difficulty', 'some difficulty',\n",
              "       'cannot do at all'], dtype=object)"
            ]
          },
          "metadata": {},
          "execution_count": 109
        }
      ],
      "source": [
        "#difficulty hearing analysis\n",
        "df['Dis_06'] = df['Dis_06'].fillna('no difficulty')\n",
        "df['Dis_06'].unique()"
      ]
    },
    {
      "cell_type": "code",
      "execution_count": 110,
      "metadata": {
        "id": "s_VoRelFAadH"
      },
      "outputs": [],
      "source": [
        "difficulty_hearing = ['no difficulty', 'a lot of difficulty', 'some difficulty','cannot do at all']\n",
        "difficulty_hearing_rate = weighted_category_proportions2(df = df,\n",
        "                                                         var = 'Dis_06',\n",
        "                                                         var_values = difficulty_hearing,\n",
        "                                                         weight = 'wgh_samp_resc_str')"
      ]
    },
    {
      "cell_type": "code",
      "execution_count": 111,
      "metadata": {
        "colab": {
          "base_uri": "https://localhost:8080/"
        },
        "id": "BqrUTOhTAvt9",
        "outputId": "57e23d68-0e5f-49af-9307-7def9af0057a"
      },
      "outputs": [
        {
          "output_type": "execute_result",
          "data": {
            "text/plain": [
              "{'Host community North': {'A Lot Of Difficulty -----> (%)': '0.2%',\n",
              "  'Cannot Do At All -----> (%)': '0.0%',\n",
              "  'No Difficulty -----> (%)': '99.3%',\n",
              "  'Some Difficulty -----> (%)': '0.5%'},\n",
              " 'Refugees': {'A Lot Of Difficulty -----> (%)': '0.6%',\n",
              "  'Cannot Do At All -----> (%)': '0.1%',\n",
              "  'No Difficulty -----> (%)': '98.6%',\n",
              "  'Some Difficulty -----> (%)': '0.7%'}}"
            ]
          },
          "metadata": {},
          "execution_count": 111
        }
      ],
      "source": [
        "difficulty_hearing_rate"
      ]
    },
    {
      "cell_type": "code",
      "execution_count": 112,
      "metadata": {
        "colab": {
          "base_uri": "https://localhost:8080/",
          "height": 403
        },
        "id": "e6UXsFyupjsW",
        "outputId": "36cdb6a3-5806-4362-b9d7-c09f708d1bdd"
      },
      "outputs": [
        {
          "output_type": "display_data",
          "data": {
            "text/plain": [
              "<Figure size 1000x450 with 1 Axes>"
            ],
            "image/png": "[encoded data removed]"
          },
          "metadata": {}
        }
      ],
      "source": [
        "# Categories in order you want\n",
        "categories = [\n",
        "    'No Difficulty',\n",
        "    'Some Difficulty',\n",
        "    'A Lot Of Difficulty',\n",
        "    'Cannot Do At All'\n",
        "]\n",
        "\n",
        "# Color mapping\n",
        "colors = {\n",
        "    'No Difficulty': '#152745',\n",
        "    'Some Difficulty': '#0066b3',\n",
        "    'A Lot Of Difficulty': '#a8c4e3' ,\n",
        "    'Cannot Do At All' : '#00a89c'\n",
        "}\n",
        "\n",
        "\n",
        "# Groups\n",
        "groups = ['Host community North', 'Refugees']\n",
        "\n",
        "# Prepare data\n",
        "group_data = {group: [] for group in groups}\n",
        "\n",
        "for group in groups:\n",
        "    for cat in categories:\n",
        "        key = f'{cat} -----> (%)'\n",
        "        if key in difficulty_hearing_rate[group]:\n",
        "            val = float(difficulty_hearing_rate[group][key].replace('%', ''))\n",
        "        else:\n",
        "            val = 0.0  # If missing, assume 0\n",
        "        group_data[group].append(val)\n",
        "\n",
        "# Plotting\n",
        "fig, ax = plt.subplots(figsize=(10, 4.5))  # Wide, not too tall\n",
        "\n",
        "y_pos = np.arange(len(groups))\n",
        "left = np.zeros(len(groups))\n",
        "bar_height = 0.2  # Thick bars\n",
        "\n",
        "for i, cat in enumerate(categories):\n",
        "    values = [group_data[group][i] for group in groups]\n",
        "    ax.barh(y_pos, values, left=left, color=colors[cat], label=cat, height=bar_height)\n",
        "    left += values\n",
        "\n",
        "# Aesthetics\n",
        "ax.set_yticks(y_pos)\n",
        "ax.set_yticklabels(groups, fontsize=11)\n",
        "ax.invert_yaxis()  # Top to bottom order\n",
        "ax.set_xlabel('Percentage (%)', fontsize=12)\n",
        "ax.set_xlim(0, 100)\n",
        "\n",
        "# Simple legend\n",
        "ax.legend(loc='lower center', bbox_to_anchor=(0.5, -0.45), ncol=2, frameon=False, fontsize=10)\n",
        "\n",
        "# Background and grid\n",
        "ax.set_facecolor('white')\n",
        "fig.patch.set_facecolor('white')\n",
        "ax.xaxis.grid(True, linestyle='-', alpha=0.1)\n",
        "\n",
        "# Layout\n",
        "plt.tight_layout()\n",
        "\n",
        "# Show plot\n",
        "plt.show()\n"
      ]
    },
    {
      "cell_type": "markdown",
      "metadata": {
        "id": "TVkzAAX2qzFK"
      },
      "source": [
        "## **Hearing Difficulty Analysis**\n",
        "\n",
        "Both groups report very high levels of no hearing difficulty, with only small portions facing challenges:\n",
        "\n",
        "- In the **host community**, **99.3%** of children report **no difficulty**, while **0.5%** experience **some difficulty**, and **0.2%** report **a lot of difficulty**.\n",
        "- Among **refugees**, **98.6%** report **no difficulty**, with **0.7%** having **some difficulty**, and **0.6%** experiencing **a lot of difficulty**. A **small portion (0.1%)** is completely unable to hear.\n",
        "\n",
        "Overall, **hearing difficulties** are **minimal** across both groups, with over **98%** of children experiencing no issues."
      ]
    },
    {
      "cell_type": "code",
      "execution_count": 113,
      "metadata": {
        "colab": {
          "base_uri": "https://localhost:8080/"
        },
        "id": "JLBznGFxBHQG",
        "outputId": "3faeb994-5c93-4ece-cec8-fffef9399334"
      },
      "outputs": [
        {
          "output_type": "execute_result",
          "data": {
            "text/plain": [
              "array(['no difficulty', 'some difficulty', 'cannot do at all',\n",
              "       'a lot of difficulty'], dtype=object)"
            ]
          },
          "metadata": {},
          "execution_count": 113
        }
      ],
      "source": [
        "#difficulty walking\n",
        "df['Dis_09'] = df['Dis_09'].fillna('no difficulty')\n",
        "df['Dis_09'].unique()"
      ]
    },
    {
      "cell_type": "code",
      "execution_count": 114,
      "metadata": {
        "id": "kRcEmXLiBS7R"
      },
      "outputs": [],
      "source": [
        "difficulty_walking = ['no difficulty', 'some difficulty', 'cannot do at all',\n",
        "       'a lot of difficulty']\n",
        "difficulty_walking_rate = weighted_category_proportions2(df = df,\n",
        "                                                      var = 'Dis_09',\n",
        "                                                      var_values = difficulty_walking,\n",
        "                                                      weight = 'wgh_samp_resc_str')"
      ]
    },
    {
      "cell_type": "code",
      "execution_count": 115,
      "metadata": {
        "colab": {
          "base_uri": "https://localhost:8080/"
        },
        "id": "2-VDb3Z-BmL7",
        "outputId": "b17d5afe-ac6e-4a8a-b447-aa47a9e11136"
      },
      "outputs": [
        {
          "output_type": "execute_result",
          "data": {
            "text/plain": [
              "{'Host community North': {'A Lot Of Difficulty -----> (%)': '0.2%',\n",
              "  'Cannot Do At All -----> (%)': '0.0%',\n",
              "  'No Difficulty -----> (%)': '99.6%',\n",
              "  'Some Difficulty -----> (%)': '0.2%'},\n",
              " 'Refugees': {'A Lot Of Difficulty -----> (%)': '0.5%',\n",
              "  'Cannot Do At All -----> (%)': '0.1%',\n",
              "  'No Difficulty -----> (%)': '99.2%',\n",
              "  'Some Difficulty -----> (%)': '0.2%'}}"
            ]
          },
          "metadata": {},
          "execution_count": 115
        }
      ],
      "source": [
        "difficulty_walking_rate"
      ]
    },
    {
      "cell_type": "code",
      "execution_count": 116,
      "metadata": {
        "colab": {
          "base_uri": "https://localhost:8080/",
          "height": 403
        },
        "id": "fDeXiCEUrUg8",
        "outputId": "83589cc0-1349-4f4a-b896-f92b60217abc"
      },
      "outputs": [
        {
          "output_type": "display_data",
          "data": {
            "text/plain": [
              "<Figure size 1000x450 with 1 Axes>"
            ],
            "image/png": "[encoded data removed]"
          },
          "metadata": {}
        }
      ],
      "source": [
        "# Categories in order you want\n",
        "categories = [\n",
        "    'No Difficulty',\n",
        "    'Some Difficulty',\n",
        "    'A Lot Of Difficulty',\n",
        "    'Cannot Do At All'\n",
        "]\n",
        "\n",
        "# Color mapping\n",
        "colors = {\n",
        "    'No Difficulty': '#152745',\n",
        "    'Some Difficulty': '#0066b3',\n",
        "    'A Lot Of Difficulty': '#a8c4e3' ,\n",
        "    'Cannot Do At All' : '#00a89c'\n",
        "}\n",
        "\n",
        "\n",
        "# Groups\n",
        "groups = ['Host community North', 'Refugees']\n",
        "\n",
        "# Prepare data\n",
        "group_data = {group: [] for group in groups}\n",
        "\n",
        "for group in groups:\n",
        "    for cat in categories:\n",
        "        key = f'{cat} -----> (%)'\n",
        "        if key in difficulty_walking_rate[group]:\n",
        "            val = float(difficulty_walking_rate[group][key].replace('%', ''))\n",
        "        else:\n",
        "            val = 0.0  # If missing, assume 0\n",
        "        group_data[group].append(val)\n",
        "\n",
        "# Plotting\n",
        "fig, ax = plt.subplots(figsize=(10, 4.5))  # Wide, not too tall\n",
        "\n",
        "y_pos = np.arange(len(groups))\n",
        "left = np.zeros(len(groups))\n",
        "bar_height = 0.2  # Thick bars\n",
        "\n",
        "for i, cat in enumerate(categories):\n",
        "    values = [group_data[group][i] for group in groups]\n",
        "    ax.barh(y_pos, values, left=left, color=colors[cat], label=cat, height=bar_height)\n",
        "    left += values\n",
        "\n",
        "# Aesthetics\n",
        "ax.set_yticks(y_pos)\n",
        "ax.set_yticklabels(groups, fontsize=11)\n",
        "ax.invert_yaxis()  # Top to bottom order\n",
        "ax.set_xlabel('Percentage (%)', fontsize=12)\n",
        "ax.set_xlim(0, 100)\n",
        "\n",
        "# Simple legend\n",
        "ax.legend(loc='lower center', bbox_to_anchor=(0.5, -0.45), ncol=2, frameon=False, fontsize=10)\n",
        "\n",
        "# Background and grid\n",
        "ax.set_facecolor('white')\n",
        "fig.patch.set_facecolor('white')\n",
        "ax.xaxis.grid(True, linestyle='-', alpha=0.1)\n",
        "\n",
        "# Layout\n",
        "plt.tight_layout()\n",
        "\n",
        "# Show plot\n",
        "plt.show()\n"
      ]
    },
    {
      "cell_type": "markdown",
      "metadata": {
        "id": "duZbsd1zrizl"
      },
      "source": [
        "## **Walking Difficulty Analysis**\n",
        "\n",
        "- In the **host community**, **99.6%** of children report **no difficulty walking**, with **0.2%** experiencing **some difficulty**, and another **0.2%** facing **a lot of difficulty**.\n",
        "- Among **refugees**, **99.2%** report **no difficulty walking**, while **0.2%** have **some difficulty**, and **0.5%** experience **a lot of difficulty**. A very small portion (**0.1%**) is completely unable to walk.\n",
        "\n",
        "Overall, **walking difficulties** are **very low** in both groups, with over **99%** of children having no issues."
      ]
    },
    {
      "cell_type": "code",
      "execution_count": 117,
      "metadata": {
        "colab": {
          "base_uri": "https://localhost:8080/"
        },
        "id": "mPEfmByTCBa3",
        "outputId": "c7b1dccf-e612-4eea-8cd0-b35aeced0a02"
      },
      "outputs": [
        {
          "output_type": "execute_result",
          "data": {
            "text/plain": [
              "array(['no difficulty', 'a lot of difficulty', 'some difficulty',\n",
              "       'cannot do at all'], dtype=object)"
            ]
          },
          "metadata": {},
          "execution_count": 117
        }
      ],
      "source": [
        "#difficulty concentrating\n",
        "df['Dis_12'] = df['Dis_12'].fillna('no difficulty')\n",
        "df['Dis_12'].unique()"
      ]
    },
    {
      "cell_type": "code",
      "execution_count": 118,
      "metadata": {
        "id": "Cpek60VbCGwR"
      },
      "outputs": [],
      "source": [
        "difficulty_concentrating = ['no difficulty', 'a lot of difficulty', 'some difficulty',\n",
        "       'cannot do at all']\n",
        "\n",
        "difficulty_concentrating_rate = weighted_category_proportions2(df = df,\n",
        "                                                            var = 'Dis_12',\n",
        "                                                            var_values = difficulty_concentrating,\n",
        "                                                            weight = 'wgh_samp_resc_str')"
      ]
    },
    {
      "cell_type": "code",
      "execution_count": 119,
      "metadata": {
        "colab": {
          "base_uri": "https://localhost:8080/"
        },
        "id": "LrAZHztDCbRz",
        "outputId": "da35eacc-e494-46fa-df0a-5c4994e70d5a"
      },
      "outputs": [
        {
          "output_type": "execute_result",
          "data": {
            "text/plain": [
              "{'Host community North': {'A Lot Of Difficulty -----> (%)': '0.1%',\n",
              "  'No Difficulty -----> (%)': '99.8%',\n",
              "  'Some Difficulty -----> (%)': '0.2%'},\n",
              " 'Refugees': {'A Lot Of Difficulty -----> (%)': '0.3%',\n",
              "  'Cannot Do At All -----> (%)': '0.0%',\n",
              "  'No Difficulty -----> (%)': '99.4%',\n",
              "  'Some Difficulty -----> (%)': '0.3%'}}"
            ]
          },
          "metadata": {},
          "execution_count": 119
        }
      ],
      "source": [
        "difficulty_concentrating_rate"
      ]
    },
    {
      "cell_type": "code",
      "execution_count": 120,
      "metadata": {
        "colab": {
          "base_uri": "https://localhost:8080/",
          "height": 403
        },
        "id": "Dm7RhIrHsCM7",
        "outputId": "46376eea-705b-4d01-aab9-895821ecf560"
      },
      "outputs": [
        {
          "output_type": "display_data",
          "data": {
            "text/plain": [
              "<Figure size 1000x450 with 1 Axes>"
            ],
            "image/png": "[encoded data removed]"
          },
          "metadata": {}
        }
      ],
      "source": [
        "# Categories in order you want\n",
        "categories = [\n",
        "    'No Difficulty',\n",
        "    'Some Difficulty',\n",
        "    'A Lot Of Difficulty'\n",
        "]\n",
        "\n",
        "# Color mapping\n",
        "colors = {\n",
        "    'No Difficulty': '#152745',\n",
        "    'Some Difficulty': '#0066b3',\n",
        "    'A Lot Of Difficulty': '#a8c4e3'\n",
        "}\n",
        "\n",
        "\n",
        "# Groups\n",
        "groups = ['Host community North', 'Refugees']\n",
        "\n",
        "# Prepare data\n",
        "group_data = {group: [] for group in groups}\n",
        "\n",
        "for group in groups:\n",
        "    for cat in categories:\n",
        "        key = f'{cat} -----> (%)'\n",
        "        if key in difficulty_concentrating_rate[group]:\n",
        "            val = float(difficulty_concentrating_rate[group][key].replace('%', ''))\n",
        "        else:\n",
        "            val = 0.0  # If missing, assume 0\n",
        "        group_data[group].append(val)\n",
        "\n",
        "# Plotting\n",
        "fig, ax = plt.subplots(figsize=(10, 4.5))  # Wide, not too tall\n",
        "\n",
        "y_pos = np.arange(len(groups))\n",
        "left = np.zeros(len(groups))\n",
        "bar_height = 0.2  # Thick bars\n",
        "\n",
        "for i, cat in enumerate(categories):\n",
        "    values = [group_data[group][i] for group in groups]\n",
        "    ax.barh(y_pos, values, left=left, color=colors[cat], label=cat, height=bar_height)\n",
        "    left += values\n",
        "\n",
        "# Aesthetics\n",
        "ax.set_yticks(y_pos)\n",
        "ax.set_yticklabels(groups, fontsize=11)\n",
        "ax.invert_yaxis()  # Top to bottom order\n",
        "ax.set_xlabel('Percentage (%)', fontsize=12)\n",
        "ax.set_xlim(0, 100)\n",
        "\n",
        "# Simple legend\n",
        "ax.legend(loc='lower center', bbox_to_anchor=(0.5, -0.45), ncol=2, frameon=False, fontsize=10)\n",
        "\n",
        "# Background and grid\n",
        "ax.set_facecolor('white')\n",
        "fig.patch.set_facecolor('white')\n",
        "ax.xaxis.grid(True, linestyle='-', alpha=0.1)\n",
        "\n",
        "# Layout\n",
        "plt.tight_layout()\n",
        "\n",
        "# Show plot\n",
        "plt.show()\n"
      ]
    },
    {
      "cell_type": "markdown",
      "metadata": {
        "id": "dUyOQdOxsTdp"
      },
      "source": [
        "## **Concentration Difficulty Analysis**\n",
        "\n",
        "- In the **host community**, **99.8%** of children report **no difficulty concentrating**, with **0.2%** experiencing **some difficulty**, and **0.1%** facing **a lot of difficulty**.\n",
        "- Among **refugees**, **99.4%** report **no difficulty concentrating**, while **0.3%** have **some difficulty**, and **0.3%** experience **a lot of difficulty**.\n",
        "\n",
        "Overall, **concentration difficulties** are **extremely low** in both groups, with nearly all children reporting no issues."
      ]
    },
    {
      "cell_type": "code",
      "execution_count": 121,
      "metadata": {
        "colab": {
          "base_uri": "https://localhost:8080/"
        },
        "id": "WZnlo2hzC50H",
        "outputId": "dfef0315-10c5-430a-e060-7f8996a5b34b"
      },
      "outputs": [
        {
          "output_type": "execute_result",
          "data": {
            "text/plain": [
              "array(['no difficulty', 'some difficulty', 'a lot of difficulty',\n",
              "       'cannot do at all'], dtype=object)"
            ]
          },
          "metadata": {},
          "execution_count": 121
        }
      ],
      "source": [
        "#difficulty self care\n",
        "df['Dis_15'] = df['Dis_15'].fillna('no difficulty')\n",
        "df['Dis_15'].unique()"
      ]
    },
    {
      "cell_type": "code",
      "execution_count": 122,
      "metadata": {
        "id": "wMjFhI87C-cK"
      },
      "outputs": [],
      "source": [
        "difficulty_selfcare = ['no difficulty', 'some difficulty', 'a lot of difficulty',\n",
        "       'cannot do at all']\n",
        "difficulty_selfcare_rate = weighted_category_proportions2(df = df,\n",
        "                                                          var = 'Dis_15',\n",
        "                                                          var_values = difficulty_selfcare,\n",
        "                                                          weight = 'wgh_samp_resc_str')"
      ]
    },
    {
      "cell_type": "code",
      "execution_count": 123,
      "metadata": {
        "colab": {
          "base_uri": "https://localhost:8080/"
        },
        "id": "1AkHOGjMDOGa",
        "outputId": "fc214229-c975-407a-a2c3-76e8337f33f2"
      },
      "outputs": [
        {
          "output_type": "execute_result",
          "data": {
            "text/plain": [
              "{'Host community North': {'A Lot Of Difficulty -----> (%)': '0.1%',\n",
              "  'No Difficulty -----> (%)': '99.8%',\n",
              "  'Some Difficulty -----> (%)': '0.1%'},\n",
              " 'Refugees': {'A Lot Of Difficulty -----> (%)': '0.3%',\n",
              "  'Cannot Do At All -----> (%)': '0.1%',\n",
              "  'No Difficulty -----> (%)': '99.6%',\n",
              "  'Some Difficulty -----> (%)': '0.1%'}}"
            ]
          },
          "metadata": {},
          "execution_count": 123
        }
      ],
      "source": [
        "difficulty_selfcare_rate"
      ]
    },
    {
      "cell_type": "code",
      "execution_count": 124,
      "metadata": {
        "colab": {
          "base_uri": "https://localhost:8080/",
          "height": 403
        },
        "id": "rPIrrH8Isric",
        "outputId": "fe8e449b-0691-48ee-a7ea-8b47007e8976"
      },
      "outputs": [
        {
          "output_type": "display_data",
          "data": {
            "text/plain": [
              "<Figure size 1000x450 with 1 Axes>"
            ],
            "image/png": "[encoded data removed]"
          },
          "metadata": {}
        }
      ],
      "source": [
        "# Categories in order you want\n",
        "categories = [\n",
        "    'No Difficulty',\n",
        "    'Some Difficulty',\n",
        "    'A Lot Of Difficulty',\n",
        "    'Cannot Do At All'\n",
        "]\n",
        "\n",
        "# Color mapping\n",
        "colors = {\n",
        "    'No Difficulty': '#152745',\n",
        "    'Some Difficulty': '#0066b3',\n",
        "    'A Lot Of Difficulty': '#a8c4e3' ,\n",
        "    'Cannot Do At All' : '#00a89c'\n",
        "}\n",
        "\n",
        "\n",
        "# Groups\n",
        "groups = ['Host community North', 'Refugees']\n",
        "\n",
        "# Prepare data\n",
        "group_data = {group: [] for group in groups}\n",
        "\n",
        "for group in groups:\n",
        "    for cat in categories:\n",
        "        key = f'{cat} -----> (%)'\n",
        "        if key in difficulty_selfcare_rate[group]:\n",
        "            val = float(difficulty_selfcare_rate[group][key].replace('%', ''))\n",
        "        else:\n",
        "            val = 0.0  # If missing, assume 0\n",
        "        group_data[group].append(val)\n",
        "\n",
        "# Plotting\n",
        "fig, ax = plt.subplots(figsize=(10, 4.5))  # Wide, not too tall\n",
        "\n",
        "y_pos = np.arange(len(groups))\n",
        "left = np.zeros(len(groups))\n",
        "bar_height = 0.2  # Thick bars\n",
        "\n",
        "for i, cat in enumerate(categories):\n",
        "    values = [group_data[group][i] for group in groups]\n",
        "    ax.barh(y_pos, values, left=left, color=colors[cat], label=cat, height=bar_height)\n",
        "    left += values\n",
        "\n",
        "# Aesthetics\n",
        "ax.set_yticks(y_pos)\n",
        "ax.set_yticklabels(groups, fontsize=11)\n",
        "ax.invert_yaxis()  # Top to bottom order\n",
        "ax.set_xlabel('Percentage (%)', fontsize=12)\n",
        "ax.set_xlim(0, 100)\n",
        "\n",
        "# Simple legend\n",
        "ax.legend(loc='lower center', bbox_to_anchor=(0.5, -0.45), ncol=2, frameon=False, fontsize=10)\n",
        "\n",
        "# Background and grid\n",
        "ax.set_facecolor('white')\n",
        "fig.patch.set_facecolor('white')\n",
        "ax.xaxis.grid(True, linestyle='-', alpha=0.1)\n",
        "\n",
        "# Layout\n",
        "plt.tight_layout()\n",
        "\n",
        "# Show plot\n",
        "plt.show()\n"
      ]
    },
    {
      "cell_type": "markdown",
      "metadata": {
        "id": "Vm_nUpJKtTeN"
      },
      "source": [
        "## **Self-Care Difficulty Analysis**\n",
        "\n",
        "- In the **host community**, **99.8%** of children report **no difficulty** with self-care, while **0.1%** experience **some difficulty**, and **0.1%** face **a lot of difficulty**.\n",
        "- Among **refugees**, **99.6%** report **no difficulty** with self-care, while **0.1%** have **some difficulty**, and **0.3%** experience **a lot of difficulty**. **0.1%** of refugees also report being unable to do self-care at all.\n",
        "\n",
        "Overall, the majority of children in both groups report no issues with self-care, with **very low prevalence** of difficulty in either group."
      ]
    },
    {
      "cell_type": "code",
      "execution_count": 125,
      "metadata": {
        "colab": {
          "base_uri": "https://localhost:8080/"
        },
        "id": "NKFSbdp_Djy4",
        "outputId": "46f9c1b6-9842-4c9b-d58a-1aaf721d0010"
      },
      "outputs": [
        {
          "output_type": "execute_result",
          "data": {
            "text/plain": [
              "array(['no difficulty', 'a lot of difficulty', 'cannot do at all',\n",
              "       'some difficulty'], dtype=object)"
            ]
          },
          "metadata": {},
          "execution_count": 125
        }
      ],
      "source": [
        "#difficulty communicating\n",
        "df['Dis_18'] = df['Dis_18'].fillna('no difficulty')\n",
        "df['Dis_18'].unique()"
      ]
    },
    {
      "cell_type": "code",
      "execution_count": 126,
      "metadata": {
        "id": "bqqqX0SlDrdW"
      },
      "outputs": [],
      "source": [
        "difficulty_communicating = ['no difficulty', 'a lot of difficulty', 'cannot do at all',\n",
        "       'some difficulty']\n",
        "\n",
        "difficulty_communicating_rate = weighted_category_proportions2(df = df,\n",
        "                                                            var = 'Dis_18',\n",
        "                                                            var_values = difficulty_communicating,\n",
        "                                                            weight = 'wgh_samp_resc_str')"
      ]
    },
    {
      "cell_type": "code",
      "execution_count": 127,
      "metadata": {
        "colab": {
          "base_uri": "https://localhost:8080/"
        },
        "id": "k_MEloEkD4Yo",
        "outputId": "6fbdfccf-2722-45c4-a9e4-f420423cf7c2"
      },
      "outputs": [
        {
          "output_type": "execute_result",
          "data": {
            "text/plain": [
              "{'Host community North': {'A Lot Of Difficulty -----> (%)': '0.1%',\n",
              "  'No Difficulty -----> (%)': '99.9%',\n",
              "  'Some Difficulty -----> (%)': '0.0%'},\n",
              " 'Refugees': {'A Lot Of Difficulty -----> (%)': '0.2%',\n",
              "  'Cannot Do At All -----> (%)': '0.2%',\n",
              "  'No Difficulty -----> (%)': '99.3%',\n",
              "  'Some Difficulty -----> (%)': '0.3%'}}"
            ]
          },
          "metadata": {},
          "execution_count": 127
        }
      ],
      "source": [
        "difficulty_communicating_rate"
      ]
    },
    {
      "cell_type": "code",
      "execution_count": 128,
      "metadata": {
        "colab": {
          "base_uri": "https://localhost:8080/",
          "height": 403
        },
        "id": "H66aYmK_s_Ie",
        "outputId": "acf617a1-0fa7-4974-96ea-179fb01874d6"
      },
      "outputs": [
        {
          "output_type": "display_data",
          "data": {
            "text/plain": [
              "<Figure size 1000x450 with 1 Axes>"
            ],
            "image/png": "[encoded data removed]"
          },
          "metadata": {}
        }
      ],
      "source": [
        "# Categories in order you want\n",
        "categories = [\n",
        "    'No Difficulty',\n",
        "    'Some Difficulty',\n",
        "    'A Lot Of Difficulty',\n",
        "    'Cannot Do At All'\n",
        "]\n",
        "\n",
        "# Color mapping\n",
        "colors = {\n",
        "    'No Difficulty': '#152745',\n",
        "    'Some Difficulty': '#0066b3',\n",
        "    'A Lot Of Difficulty': '#a8c4e3' ,\n",
        "    'Cannot Do At All' : '#00a89c'\n",
        "}\n",
        "\n",
        "\n",
        "# Groups\n",
        "groups = ['Host community North', 'Refugees']\n",
        "\n",
        "# Prepare data\n",
        "group_data = {group: [] for group in groups}\n",
        "\n",
        "for group in groups:\n",
        "    for cat in categories:\n",
        "        key = f'{cat} -----> (%)'\n",
        "        if key in difficulty_communicating_rate[group]:\n",
        "            val = float(difficulty_communicating_rate[group][key].replace('%', ''))\n",
        "        else:\n",
        "            val = 0.0  # If missing, assume 0\n",
        "        group_data[group].append(val)\n",
        "\n",
        "# Plotting\n",
        "fig, ax = plt.subplots(figsize=(10, 4.5))  # Wide, not too tall\n",
        "\n",
        "y_pos = np.arange(len(groups))\n",
        "left = np.zeros(len(groups))\n",
        "bar_height = 0.2  # Thick bars\n",
        "\n",
        "for i, cat in enumerate(categories):\n",
        "    values = [group_data[group][i] for group in groups]\n",
        "    ax.barh(y_pos, values, left=left, color=colors[cat], label=cat, height=bar_height)\n",
        "    left += values\n",
        "\n",
        "# Aesthetics\n",
        "ax.set_yticks(y_pos)\n",
        "ax.set_yticklabels(groups, fontsize=11)\n",
        "ax.invert_yaxis()  # Top to bottom order\n",
        "ax.set_xlabel('Percentage (%)', fontsize=12)\n",
        "ax.set_xlim(0, 100)\n",
        "\n",
        "# Simple legend\n",
        "ax.legend(loc='lower center', bbox_to_anchor=(0.5, -0.45), ncol=2, frameon=False, fontsize=10)\n",
        "\n",
        "# Background and grid\n",
        "ax.set_facecolor('white')\n",
        "fig.patch.set_facecolor('white')\n",
        "ax.xaxis.grid(True, linestyle='-', alpha=0.1)\n",
        "\n",
        "# Layout\n",
        "plt.tight_layout()\n",
        "\n",
        "# Show plot\n",
        "plt.show()\n"
      ]
    },
    {
      "cell_type": "markdown",
      "metadata": {
        "id": "ekW4KdynthOo"
      },
      "source": [
        "## **Communication Difficulty Analysis**\n",
        "\n",
        "- In the **host community**, **99.9%** of children report **no difficulty** with communication, while **0.1%** experience **a lot of difficulty**, and none report being unable to communicate at all.\n",
        "- Among **refugees**, **99.3%** report **no difficulty** with communication, while **0.3%** have **some difficulty**, **0.2%** experience **a lot of difficulty**, and **0.2%** report being unable to communicate at all.\n",
        "\n",
        "Overall, both groups report **minimal communication difficulties**, with the host community showing nearly universal ability to communicate, while a small proportion of refugees face some level of communication challenges."
      ]
    }
  ],
  "metadata": {
    "colab": {
      "provenance": []
    },
    "kernelspec": {
      "display_name": "Python 3",
      "name": "python3"
    },
    "language_info": {
      "name": "python"
    }
  },
  "nbformat": 4,
  "nbformat_minor": 0
}